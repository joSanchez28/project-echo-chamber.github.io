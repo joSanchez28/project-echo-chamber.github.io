{
 "cells": [
  {
   "cell_type": "markdown",
   "metadata": {},
   "source": [
    "# The Echo Chamber Effect - A Case Study (provisional title)\n",
    "\n",
    "## Milestone 2\n",
    "\n",
    "In this notebook we will download a small sample of the Reddit dataset for the first time and perform some basic statistics on it. We will talk about the structure of the data, our pipepline to handle it and how this new knowledge has affected our plans for the project.\n",
    "\n",
    "We will also load the two recommended NLP libraries and try them out to see how they work and to which extent we can take advantage of them.\n",
    "\n",
    "The full report can be found on the updated README."
   ]
  },
  {
   "cell_type": "code",
   "execution_count": 1,
   "metadata": {},
   "outputs": [],
   "source": [
    "import pandas as pd\n",
    "import numpy as np\n",
    "import scipy as sp\n",
    "import seaborn as sns\n",
    "%matplotlib inline\n",
    "\n",
    "import cairo #For the graphs visualizations\n",
    "from igraph import *\n",
    "\n",
    "import random\n",
    "\n",
    "import findspark\n",
    "findspark.init(r'C:\\Spark\\spark-2.3.2-bin-hadoop2.7')\n",
    "#findspark.init('/Users/vikalpkamdar/opt/spark')\n",
    "#findspark.init()\n",
    "findspark.find()\n",
    "\n",
    "from datetime import datetime\n",
    "from matplotlib import pyplot as plt\n",
    "from pyspark.sql import *\n",
    "from pyspark.sql.functions import *\n",
    "\n",
    "from pyspark.sql import SparkSession\n",
    "from pyspark import SparkContext\n",
    "\n",
    "spark = SparkSession.builder.getOrCreate()\n",
    "spark.conf.set('spark.sql.session.timeZone', 'UTC')\n",
    "sc = spark.sparkContext\n",
    "sqlc = SQLContext(sc)"
   ]
  },
  {
   "cell_type": "code",
   "execution_count": 2,
   "metadata": {},
   "outputs": [],
   "source": [
    "DATA_DIR = './data/'"
   ]
  },
  {
   "cell_type": "code",
   "execution_count": 3,
   "metadata": {},
   "outputs": [],
   "source": [
    "VIS_DIR = './notebook-graphs-visualizations/'"
   ]
  },
  {
   "cell_type": "markdown",
   "metadata": {},
   "source": [
    "## Sampling the data"
   ]
  },
  {
   "cell_type": "markdown",
   "metadata": {},
   "source": [
    "This dataset is big beyond comprehension. Around 2TB of comments from Reddit's inception in 2005 until March 2017. Our machines cannot handle such numbers and even if they could it would take too much time. Instead, we decided to, for now, focus only on 2016 (the year of the US presidential election) which itslef represents already more than 360GB of data and sticked to the following pipeline:\n",
    "\n",
    " - Sample 10% of the data (~12GB compressed)\n",
    " - Try our scripts locally using spark\n",
    " - Once prototyped, upload the scripts to the cluster, run them on the whole year of data and retrieve only the essential parts\n",
    "\n",
    "This way we streamlined the queries to the cluster and created an easily expandable workframe.\n",
    "\n",
    "In order to filter and reduce even more the size of the datasets we dropped the columns that mostly have no use for us, namely: ```author_flair_class```, ```author_flair_text```, ```distinguished```, ```edited```, ```retrieved_on```, ```stickied``` and ```subreddit_id```. (Script used on cluster: `script/drop_col.py`)"
   ]
  },
  {
   "cell_type": "markdown",
   "metadata": {},
   "source": [
    "We don't think a dataset as rich as this needs much enrichment, but we could consider using web scrapping techniques to retrieve subredit data (e.g. the rules of the subreddit)."
   ]
  },
  {
   "cell_type": "markdown",
   "metadata": {},
   "source": [
    "### Using the sample to explain the data\n",
    "\n",
    "The following code does not really need the data in its size as it's for explanatory purposes. The queries and operations were performed on our local system with 1% 2016 reddit comments. Once we figured out the querries we applied them to 10% of the 2016 reddit data (~12GB compressed) by sending python scripts (found in scripts/ folder) to the cluster."
   ]
  },
  {
   "cell_type": "code",
   "execution_count": 4,
   "metadata": {
    "scrolled": true
   },
   "outputs": [],
   "source": [
    "df_spark = spark.read.parquet(DATA_DIR + \"sliced_2017_posts.parquet\")"
   ]
  },
  {
   "cell_type": "code",
   "execution_count": 5,
   "metadata": {},
   "outputs": [
    {
     "data": {
      "text/plain": [
       "1177934"
      ]
     },
     "execution_count": 5,
     "metadata": {},
     "output_type": "execute_result"
    }
   ],
   "source": [
    "# Sample size\n",
    "df_spark.count() # number of comments used for the 1% dataset."
   ]
  },
  {
   "cell_type": "markdown",
   "metadata": {},
   "source": [
    "Firstly we show the column names of the spark data frame and the first row in order to analyze how the data frame is structured, the differents columns and its meanings:"
   ]
  },
  {
   "cell_type": "code",
   "execution_count": 6,
   "metadata": {
    "scrolled": true
   },
   "outputs": [
    {
     "data": {
      "text/plain": [
       "['author',\n",
       " 'author_flair_css_class',\n",
       " 'author_flair_text',\n",
       " 'body',\n",
       " 'controversiality',\n",
       " 'created_utc',\n",
       " 'distinguished',\n",
       " 'edited',\n",
       " 'gilded',\n",
       " 'id',\n",
       " 'link_id',\n",
       " 'parent_id',\n",
       " 'retrieved_on',\n",
       " 'score',\n",
       " 'stickied',\n",
       " 'subreddit',\n",
       " 'subreddit_id']"
      ]
     },
     "execution_count": 6,
     "metadata": {},
     "output_type": "execute_result"
    }
   ],
   "source": [
    "df_spark.columns"
   ]
  },
  {
   "cell_type": "code",
   "execution_count": 7,
   "metadata": {
    "scrolled": true
   },
   "outputs": [
    {
     "name": "stdout",
     "output_type": "stream",
     "text": [
      "+------+----------------------+-----------------+--------------------+----------------+-----------+-------------+------+------+-------+---------+---------+------------+-----+--------+-----------+------------+\n",
      "|author|author_flair_css_class|author_flair_text|                body|controversiality|created_utc|distinguished|edited|gilded|     id|  link_id|parent_id|retrieved_on|score|stickied|  subreddit|subreddit_id|\n",
      "+------+----------------------+-----------------+--------------------+----------------+-----------+-------------+------+------+-------+---------+---------+------------+-----+--------+-----------+------------+\n",
      "|bawzzz|                  null|             null|Worth a try. Powe...|               0| 1483808014|         null| false|     0|dc4ee55|t3_5mk42u|t3_5mk42u|  1485854736|    2|   false|techsupport|    t5_2qioo|\n",
      "+------+----------------------+-----------------+--------------------+----------------+-----------+-------------+------+------+-------+---------+---------+------------+-----+--------+-----------+------------+\n",
      "only showing top 1 row\n",
      "\n"
     ]
    }
   ],
   "source": [
    "# example of 1 comment\n",
    "df_spark.show(1)"
   ]
  },
  {
   "cell_type": "markdown",
   "metadata": {},
   "source": [
    "Here we explain the columns one by one:\n",
    "* __'author':__ Redditor username\n",
    "* __'author_flair_css_class':__ CSS class, defines the style of the 'author_flair_text' tag within the html of Reddit.\n",
    "* __'author_flair_text':__  A tag associated to your username, which is only visible in the current subreddit. \n",
    "* __'body':__ The content of the comment.\n",
    "* __'controversiality':__ When its value is 1, the comment has been voted above a certain threshold and has roughly the same amount of downvotes and upvotes. 0 Otherwise. [More info](https://www.reddit.com/r/redditdev/comments/29i58s/reddit_change_api_availability_controversiality/)\n",
    "* __'created_utc':__ Unix timestamp of the creation date.\n",
    "* __'distinguished':__ If a comment is distinguished, this means that a moderator or admin of the subreddit has highlighted it (A little [M] will appear next to it).\n",
    "* __'edited':__ Indicates if the comment has been edited. If it has not been edited the variable is False, else its value is the Unix Timestamp of the last edition.\n",
    "* __'gilded':__ When its value is 1, that means a [premium](https://www.reddit.com/premium/) user gave the author [reddit gold](https://www.reddit.com/coins/) (a week of reddit premium). \n",
    "* __'id':__ Unique ID of the comment.\n",
    "* __'link_id':__ Id of the link (similar to post) this comment is anwering to. Always begins with 't3_'.\n",
    "* __'parent_id':__ Id of the post this comment is below. Always begins with 't3_'.\n",
    "* __'retrieved_on':__ Unix Timestamp of the comment retrieval (to this data set).\n",
    "* __'score':__ Upvotes minus downvotes (Reddit mildly obfuscates this value when the comment has lots of votes as a security measure against external meddling. This is called [vote fuzzing](https://www.reddit.com/r/firstdayontheinternet/comments/30b44n/could_someone_explain_how_the_reddit_karma_system/).\n",
    "* __'stickied':__ Boolean value. When a comment is stickied (by a moderator or admin), the comment appears as the first entry right below the original post.\n",
    "* __'subreddit':__ Name of the subreddit where the comment was posted.\n",
    "* __'subreddit_id':__ Unique ID (or full name as refered to in the Rddit API) of the subreddit. Note that those always begin with 't5_'."
   ]
  },
  {
   "cell_type": "markdown",
   "metadata": {},
   "source": [
    "The types of each column:"
   ]
  },
  {
   "cell_type": "code",
   "execution_count": 8,
   "metadata": {
    "scrolled": false
   },
   "outputs": [
    {
     "data": {
      "text/plain": [
       "DataFrame[author: string, author_flair_css_class: string, author_flair_text: string, body: string, controversiality: bigint, created_utc: bigint, distinguished: string, edited: string, gilded: bigint, id: string, link_id: string, parent_id: string, retrieved_on: bigint, score: bigint, stickied: boolean, subreddit: string, subreddit_id: string]"
      ]
     },
     "execution_count": 8,
     "metadata": {},
     "output_type": "execute_result"
    }
   ],
   "source": [
    "df_spark.distinct()"
   ]
  },
  {
   "cell_type": "markdown",
   "metadata": {},
   "source": [
    "And the different values of some of the columns (only the relevant ones):"
   ]
  },
  {
   "cell_type": "code",
   "execution_count": 9,
   "metadata": {
    "scrolled": false
   },
   "outputs": [
    {
     "name": "stdout",
     "output_type": "stream",
     "text": [
      "+----------------+\n",
      "|controversiality|\n",
      "+----------------+\n",
      "|               0|\n",
      "|               1|\n",
      "+----------------+\n",
      "\n"
     ]
    }
   ],
   "source": [
    "df_spark[['controversiality']].distinct().show(4)"
   ]
  },
  {
   "cell_type": "code",
   "execution_count": 10,
   "metadata": {},
   "outputs": [
    {
     "name": "stdout",
     "output_type": "stream",
     "text": [
      "+-------------+\n",
      "|distinguished|\n",
      "+-------------+\n",
      "|         null|\n",
      "|    moderator|\n",
      "+-------------+\n",
      "\n"
     ]
    }
   ],
   "source": [
    "df_spark[['distinguished']].distinct().show(4)"
   ]
  },
  {
   "cell_type": "code",
   "execution_count": 11,
   "metadata": {
    "scrolled": true
   },
   "outputs": [
    {
     "name": "stdout",
     "output_type": "stream",
     "text": [
      "+----------+\n",
      "|    edited|\n",
      "+----------+\n",
      "|1483810944|\n",
      "|1483815628|\n",
      "+----------+\n",
      "only showing top 2 rows\n",
      "\n"
     ]
    }
   ],
   "source": [
    "df_spark[['edited']].distinct().show(2)"
   ]
  },
  {
   "cell_type": "code",
   "execution_count": 12,
   "metadata": {},
   "outputs": [
    {
     "name": "stdout",
     "output_type": "stream",
     "text": [
      "+---------+\n",
      "|  link_id|\n",
      "+---------+\n",
      "| t3_by3mu|\n",
      "|t3_5mrjf0|\n",
      "|t3_5mrjbw|\n",
      "+---------+\n",
      "only showing top 3 rows\n",
      "\n"
     ]
    }
   ],
   "source": [
    "df_spark[['link_id']].distinct().orderBy(desc(\"link_id\")).show(3)"
   ]
  },
  {
   "cell_type": "code",
   "execution_count": 13,
   "metadata": {},
   "outputs": [
    {
     "name": "stdout",
     "output_type": "stream",
     "text": [
      "+-----+\n",
      "|score|\n",
      "+-----+\n",
      "| -373|\n",
      "| -354|\n",
      "| -332|\n",
      "+-----+\n",
      "only showing top 3 rows\n",
      "\n"
     ]
    }
   ],
   "source": [
    "df_spark[['score']].orderBy(asc('score')).show(3)"
   ]
  },
  {
   "cell_type": "markdown",
   "metadata": {},
   "source": [
    "Number of subreddits in our 1% sample:"
   ]
  },
  {
   "cell_type": "code",
   "execution_count": 14,
   "metadata": {
    "scrolled": true
   },
   "outputs": [
    {
     "data": {
      "text/plain": [
       "20040"
      ]
     },
     "execution_count": 14,
     "metadata": {},
     "output_type": "execute_result"
    }
   ],
   "source": [
    "df_spark[['subreddit_id']].distinct().count()"
   ]
  },
  {
   "cell_type": "markdown",
   "metadata": {},
   "source": [
    "Number of controversial comments in our 1% sample:"
   ]
  },
  {
   "cell_type": "code",
   "execution_count": 15,
   "metadata": {},
   "outputs": [
    {
     "data": {
      "text/plain": [
       "21841"
      ]
     },
     "execution_count": 15,
     "metadata": {},
     "output_type": "execute_result"
    }
   ],
   "source": [
    "df_spark.filter('controversiality = 1').count()"
   ]
  },
  {
   "cell_type": "markdown",
   "metadata": {},
   "source": [
    "For most of the local processing we will use pandas as it is easier. By the time our data pieces will be filtered and small enough to not run into memory constraints. Using pyarrow we can read parquet files directly into pandas dataframes."
   ]
  },
  {
   "cell_type": "markdown",
   "metadata": {},
   "source": [
    "conda install pyarrow, we get an error if we try to transform the spark dataframe"
   ]
  },
  {
   "cell_type": "code",
   "execution_count": 16,
   "metadata": {
    "scrolled": true
   },
   "outputs": [],
   "source": [
    "df_pd = pd.read_parquet(DATA_DIR + \"sliced_2017_posts.parquet\")"
   ]
  },
  {
   "cell_type": "markdown",
   "metadata": {},
   "source": [
    "We will now print out some basic properties and stats about our 1% data sample."
   ]
  },
  {
   "cell_type": "code",
   "execution_count": 17,
   "metadata": {
    "scrolled": true
   },
   "outputs": [
    {
     "data": {
      "text/html": [
       "<div>\n",
       "<style scoped>\n",
       "    .dataframe tbody tr th:only-of-type {\n",
       "        vertical-align: middle;\n",
       "    }\n",
       "\n",
       "    .dataframe tbody tr th {\n",
       "        vertical-align: top;\n",
       "    }\n",
       "\n",
       "    .dataframe thead th {\n",
       "        text-align: right;\n",
       "    }\n",
       "</style>\n",
       "<table border=\"1\" class=\"dataframe\">\n",
       "  <thead>\n",
       "    <tr style=\"text-align: right;\">\n",
       "      <th></th>\n",
       "      <th>author</th>\n",
       "      <th>author_flair_css_class</th>\n",
       "      <th>author_flair_text</th>\n",
       "      <th>body</th>\n",
       "      <th>controversiality</th>\n",
       "      <th>created_utc</th>\n",
       "      <th>distinguished</th>\n",
       "      <th>edited</th>\n",
       "      <th>gilded</th>\n",
       "      <th>id</th>\n",
       "      <th>link_id</th>\n",
       "      <th>parent_id</th>\n",
       "      <th>retrieved_on</th>\n",
       "      <th>score</th>\n",
       "      <th>stickied</th>\n",
       "      <th>subreddit</th>\n",
       "      <th>subreddit_id</th>\n",
       "    </tr>\n",
       "  </thead>\n",
       "  <tbody>\n",
       "    <tr>\n",
       "      <th>0</th>\n",
       "      <td>Godcon</td>\n",
       "      <td>None</td>\n",
       "      <td>None</td>\n",
       "      <td>Do you buy the minis yourself and include that...</td>\n",
       "      <td>0</td>\n",
       "      <td>1483228800</td>\n",
       "      <td>None</td>\n",
       "      <td>false</td>\n",
       "      <td>0</td>\n",
       "      <td>dbumnq3</td>\n",
       "      <td>t3_5l9ny9</td>\n",
       "      <td>t1_dbukpfs</td>\n",
       "      <td>1485679711</td>\n",
       "      <td>2</td>\n",
       "      <td>False</td>\n",
       "      <td>minipainting</td>\n",
       "      <td>t5_2scss</td>\n",
       "    </tr>\n",
       "    <tr>\n",
       "      <th>1</th>\n",
       "      <td>Fleetthrow</td>\n",
       "      <td>None</td>\n",
       "      <td>None</td>\n",
       "      <td>Can I ask where you work now and what you do, ...</td>\n",
       "      <td>0</td>\n",
       "      <td>1483228800</td>\n",
       "      <td>None</td>\n",
       "      <td>false</td>\n",
       "      <td>0</td>\n",
       "      <td>dbumnq6</td>\n",
       "      <td>t3_5l0tz4</td>\n",
       "      <td>t1_dbuksbh</td>\n",
       "      <td>1485679711</td>\n",
       "      <td>1</td>\n",
       "      <td>False</td>\n",
       "      <td>gis</td>\n",
       "      <td>t5_2qmpb</td>\n",
       "    </tr>\n",
       "  </tbody>\n",
       "</table>\n",
       "</div>"
      ],
      "text/plain": [
       "       author author_flair_css_class author_flair_text  \\\n",
       "0      Godcon                   None              None   \n",
       "1  Fleetthrow                   None              None   \n",
       "\n",
       "                                                body  controversiality  \\\n",
       "0  Do you buy the minis yourself and include that...                 0   \n",
       "1  Can I ask where you work now and what you do, ...                 0   \n",
       "\n",
       "   created_utc distinguished edited  gilded       id    link_id   parent_id  \\\n",
       "0   1483228800          None  false       0  dbumnq3  t3_5l9ny9  t1_dbukpfs   \n",
       "1   1483228800          None  false       0  dbumnq6  t3_5l0tz4  t1_dbuksbh   \n",
       "\n",
       "   retrieved_on  score  stickied     subreddit subreddit_id  \n",
       "0    1485679711      2     False  minipainting     t5_2scss  \n",
       "1    1485679711      1     False           gis     t5_2qmpb  "
      ]
     },
     "execution_count": 17,
     "metadata": {},
     "output_type": "execute_result"
    }
   ],
   "source": [
    "df_pd.head(2)"
   ]
  },
  {
   "cell_type": "code",
   "execution_count": 18,
   "metadata": {
    "scrolled": true
   },
   "outputs": [
    {
     "data": {
      "text/plain": [
       "array([[0, None, 'false', 't1_dbukpfs'],\n",
       "       [0, None, 'false', 't1_dbuksbh'],\n",
       "       [0, None, 'false', 't3_5lb5aj'],\n",
       "       ...,\n",
       "       [0, None, 'false', 't1_dc5f69h'],\n",
       "       [0, None, 'false', 't1_dc5pcj2'],\n",
       "       [0, None, 'false', 't1_dc5qyep']], dtype=object)"
      ]
     },
     "execution_count": 18,
     "metadata": {},
     "output_type": "execute_result"
    }
   ],
   "source": [
    "df_pd[['controversiality', 'distinguished', 'edited', 'parent_id']].values"
   ]
  },
  {
   "cell_type": "code",
   "execution_count": 19,
   "metadata": {
    "scrolled": false
   },
   "outputs": [
    {
     "data": {
      "text/plain": [
       "(1177934, 17)"
      ]
     },
     "execution_count": 19,
     "metadata": {},
     "output_type": "execute_result"
    }
   ],
   "source": [
    "df_pd.shape"
   ]
  },
  {
   "cell_type": "code",
   "execution_count": 20,
   "metadata": {},
   "outputs": [
    {
     "data": {
      "text/plain": [
       "1177934"
      ]
     },
     "execution_count": 20,
     "metadata": {},
     "output_type": "execute_result"
    }
   ],
   "source": [
    "len(df_pd['id'].unique())"
   ]
  },
  {
   "cell_type": "markdown",
   "metadata": {},
   "source": [
    "From the two cells above we can confirm that the `id` is unique."
   ]
  },
  {
   "cell_type": "code",
   "execution_count": 21,
   "metadata": {
    "scrolled": true
   },
   "outputs": [
    {
     "data": {
      "image/png": "[encoded data removed]",
      "text/plain": [
       "<Figure size 432x288 with 1 Axes>"
      ]
     },
     "metadata": {
      "needs_background": "light"
     },
     "output_type": "display_data"
    }
   ],
   "source": [
    "df_pd['subreddit'].value_counts().to_frame().hist(bins=[10,100,1000,2000,3000,10000]);"
   ]
  },
  {
   "cell_type": "markdown",
   "metadata": {},
   "source": [
    "As we can see from the histogram above, a lot of the subreddits have only 1 comment. Hence these subreddits will be considered as outliers, as we feel they do will not help us in our eco-chamber calculations."
   ]
  },
  {
   "cell_type": "markdown",
   "metadata": {},
   "source": [
    "We need to decide a threshold for the number of comments per subreddit. Subreddits below that threshold will not bring us much if not any information in our calculations for milestone 3."
   ]
  },
  {
   "cell_type": "code",
   "execution_count": 22,
   "metadata": {},
   "outputs": [
    {
     "data": {
      "text/plain": [
       "author                    object\n",
       "author_flair_css_class    object\n",
       "author_flair_text         object\n",
       "body                      object\n",
       "controversiality           int64\n",
       "created_utc                int64\n",
       "distinguished             object\n",
       "edited                    object\n",
       "gilded                     int64\n",
       "id                        object\n",
       "link_id                   object\n",
       "parent_id                 object\n",
       "retrieved_on               int64\n",
       "score                      int64\n",
       "stickied                    bool\n",
       "subreddit                 object\n",
       "subreddit_id              object\n",
       "dtype: object"
      ]
     },
     "execution_count": 22,
     "metadata": {},
     "output_type": "execute_result"
    }
   ],
   "source": [
    "df_pd.dtypes"
   ]
  },
  {
   "cell_type": "markdown",
   "metadata": {},
   "source": [
    "### Statistics on the cluster"
   ]
  },
  {
   "cell_type": "markdown",
   "metadata": {},
   "source": [
    "In this part we show what we can do some of the above operations on a bigger dataset (10% of the 2016 reddit comments). Firstly we will show the functions we will use to obtain simple statistics. In the next part we will export these commands onto a python script (script/stats.py) and run them on the 10% sampled 2016 reddit comments."
   ]
  },
  {
   "cell_type": "markdown",
   "metadata": {},
   "source": [
    "The stats below are done on the 1% sample of the 2016 reddit comments. But they were just done in order to find the right functions."
   ]
  },
  {
   "cell_type": "code",
   "execution_count": 23,
   "metadata": {},
   "outputs": [
    {
     "data": {
      "text/plain": [
       "1177934"
      ]
     },
     "execution_count": 23,
     "metadata": {},
     "output_type": "execute_result"
    }
   ],
   "source": [
    "total_n_comments = df_spark.count()\n",
    "total_n_comments"
   ]
  },
  {
   "cell_type": "markdown",
   "metadata": {},
   "source": [
    "First we compute the number of removed comments (A comment has been removed when its body is \"[deleted]\")"
   ]
  },
  {
   "cell_type": "code",
   "execution_count": 24,
   "metadata": {
    "scrolled": true
   },
   "outputs": [
    {
     "data": {
      "text/plain": [
       "51852"
      ]
     },
     "execution_count": 24,
     "metadata": {},
     "output_type": "execute_result"
    }
   ],
   "source": [
    "n_deleted_comments = df_spark.filter('body = \"[deleted]\"').count()\n",
    "n_deleted_comments "
   ]
  },
  {
   "cell_type": "markdown",
   "metadata": {},
   "source": [
    "The percentage of comments that are \"removed\" according to the above criteria."
   ]
  },
  {
   "cell_type": "code",
   "execution_count": 25,
   "metadata": {},
   "outputs": [
    {
     "data": {
      "text/plain": [
       "4.401944421334302"
      ]
     },
     "execution_count": 25,
     "metadata": {},
     "output_type": "execute_result"
    }
   ],
   "source": [
    "percentage_deleted_comments = 100 * n_deleted_comments  / total_n_comments\n",
    "percentage_deleted_comments"
   ]
  },
  {
   "cell_type": "markdown",
   "metadata": {},
   "source": [
    "And the number of comments posted by removed users (Users who have removed their account after post the comment)"
   ]
  },
  {
   "cell_type": "code",
   "execution_count": 26,
   "metadata": {
    "scrolled": true
   },
   "outputs": [
    {
     "data": {
      "text/plain": [
       "89837"
      ]
     },
     "execution_count": 26,
     "metadata": {},
     "output_type": "execute_result"
    }
   ],
   "source": [
    "comments_by_removed_users = df_spark.filter('author = \"[deleted]\"').count()\n",
    "comments_by_removed_users"
   ]
  },
  {
   "cell_type": "markdown",
   "metadata": {},
   "source": [
    "The percentage of comments that were posted by \"removed\" users according to the above criteria."
   ]
  },
  {
   "cell_type": "code",
   "execution_count": 27,
   "metadata": {
    "scrolled": true
   },
   "outputs": [
    {
     "data": {
      "text/plain": [
       "7.6266581998651874"
      ]
     },
     "execution_count": 27,
     "metadata": {},
     "output_type": "execute_result"
    }
   ],
   "source": [
    "percentage_by_dl_user = 100 * comments_by_removed_users / total_n_comments\n",
    "percentage_by_dl_user"
   ]
  },
  {
   "cell_type": "markdown",
   "metadata": {},
   "source": [
    "Now we see the total number of controversial comments and the percentage of them:"
   ]
  },
  {
   "cell_type": "code",
   "execution_count": 28,
   "metadata": {},
   "outputs": [
    {
     "data": {
      "text/plain": [
       "21841"
      ]
     },
     "execution_count": 28,
     "metadata": {},
     "output_type": "execute_result"
    }
   ],
   "source": [
    "n_controversial_comments = df_spark.filter('controversiality = 1').count()\n",
    "n_controversial_comments"
   ]
  },
  {
   "cell_type": "code",
   "execution_count": 29,
   "metadata": {
    "scrolled": true
   },
   "outputs": [
    {
     "data": {
      "text/plain": [
       "1.8541785872553131"
      ]
     },
     "execution_count": 29,
     "metadata": {},
     "output_type": "execute_result"
    }
   ],
   "source": [
    "perc_controversial_comments = 100 * n_controversial_comments / total_n_comments\n",
    "perc_controversial_comments"
   ]
  },
  {
   "cell_type": "markdown",
   "metadata": {},
   "source": [
    "Having easily computed this percentages, we now get a dataframe with the number of comments per subrredit in order to plot the distribution:"
   ]
  },
  {
   "cell_type": "code",
   "execution_count": 30,
   "metadata": {},
   "outputs": [
    {
     "data": {
      "text/plain": [
       "20040"
      ]
     },
     "execution_count": 30,
     "metadata": {},
     "output_type": "execute_result"
    }
   ],
   "source": [
    "#Total number of subreddits:\n",
    "df_spark[['subreddit']].distinct().count()"
   ]
  },
  {
   "cell_type": "code",
   "execution_count": 31,
   "metadata": {},
   "outputs": [
    {
     "data": {
      "text/plain": [
       "DataFrame[subreddit: string, Number of comments: bigint]"
      ]
     },
     "execution_count": 31,
     "metadata": {},
     "output_type": "execute_result"
    }
   ],
   "source": [
    "df_subreddit_count = df_spark.groupBy('subreddit').agg(count('*')).withColumnRenamed('count(1)', 'Number of comments')\n",
    "df_subreddit_count"
   ]
  },
  {
   "cell_type": "code",
   "execution_count": 32,
   "metadata": {
    "scrolled": false
   },
   "outputs": [
    {
     "name": "stdout",
     "output_type": "stream",
     "text": [
      "+---------+------------------+\n",
      "|subreddit|Number of comments|\n",
      "+---------+------------------+\n",
      "|    anime|              4019|\n",
      "|  Amateur|                93|\n",
      "+---------+------------------+\n",
      "only showing top 2 rows\n",
      "\n"
     ]
    }
   ],
   "source": [
    "df_subreddit_count.show(2)"
   ]
  },
  {
   "cell_type": "markdown",
   "metadata": {},
   "source": [
    "We have not analyzed the statistics above as they are merely there for us to find the right functions to use wth the cluster."
   ]
  },
  {
   "cell_type": "markdown",
   "metadata": {},
   "source": [
    "We will now show the stats with a bigger dataset (10% of the 2016 reddit comments)."
   ]
  },
  {
   "cell_type": "markdown",
   "metadata": {},
   "source": [
    "The pipeline we used is the following:\n",
    "1. We first read all of the data in the 2016 .bz2 compressed files and sampled 10% of it to run our querries with the cluster (`script/read_data_original.py`)\n",
    "2. We then sampled another 10% to obtain 1% of the 2016 reddit comments that we played with above (`scripts/read_data.py`)\n",
    "3. Once we found the correct form for our querries on the smaller dataset, we ran them with cluster on the larger dataset (`scripts/`) and saved them to smaller sized parquet files.\n",
    "4. We then imported these smaller parquet files into our local machine and read them and transformed them to pandas dataframes in order to plot the graphs."
   ]
  },
  {
   "cell_type": "markdown",
   "metadata": {},
   "source": [
    "The above stats were obtained using `scripts/stats.py` with cluster. The stats were saved in a text file (`data/stats.txt`). "
   ]
  },
  {
   "cell_type": "markdown",
   "metadata": {},
   "source": [
    "Total number of comments: 79998223  \n",
    "Number of deleted comments: 3414381  \n",
    "% of deleted comments: 4  \n",
    "Number of comments by removed users: 5706216  \n",
    "% comments by deleted users: 7  \n",
    "Number of controversial comments: 1770571  \n",
    "% of controversial comments: 2  \n",
    "Number of subreddits: 131028  "
   ]
  },
  {
   "cell_type": "markdown",
   "metadata": {},
   "source": [
    "We first decided to have a look at the number of querries per subreddit (`scripts/stats.py`)"
   ]
  },
  {
   "cell_type": "code",
   "execution_count": 33,
   "metadata": {},
   "outputs": [],
   "source": [
    "df_subreddit_count = spark.read.parquet(DATA_DIR + 'df_subreddit_count.parquet')"
   ]
  },
  {
   "cell_type": "code",
   "execution_count": 34,
   "metadata": {},
   "outputs": [
    {
     "name": "stdout",
     "output_type": "stream",
     "text": [
      "+-----------------+------------------+\n",
      "|        subreddit|Number_of_comments|\n",
      "+-----------------+------------------+\n",
      "|HollowRealization|               216|\n",
      "|         buildapc|            183435|\n",
      "|NoStupidQuestions|             60895|\n",
      "+-----------------+------------------+\n",
      "only showing top 3 rows\n",
      "\n"
     ]
    }
   ],
   "source": [
    "df_subreddit_count.show(3)"
   ]
  },
  {
   "cell_type": "code",
   "execution_count": 35,
   "metadata": {},
   "outputs": [
    {
     "data": {
      "text/plain": [
       "(131028, 2)"
      ]
     },
     "execution_count": 35,
     "metadata": {},
     "output_type": "execute_result"
    }
   ],
   "source": [
    "df_subreddit_count.toPandas().shape"
   ]
  },
  {
   "cell_type": "markdown",
   "metadata": {},
   "source": [
    "Let us now plot the 10 most 'popular' (commented) subbreddits. As they are the ones to give us the most information in our future calculations."
   ]
  },
  {
   "cell_type": "code",
   "execution_count": 36,
   "metadata": {
    "scrolled": true
   },
   "outputs": [
    {
     "data": {
      "image/png": "[encoded data removed]",
      "text/plain": [
       "<Figure size 432x288 with 1 Axes>"
      ]
     },
     "metadata": {
      "needs_background": "light"
     },
     "output_type": "display_data"
    }
   ],
   "source": [
    "df_tmp = df_subreddit_count.toPandas().sort_values(by = \"Number_of_comments\", ascending = False).iloc[:10,:]\n",
    "df_tmp.plot(kind='barh',x = \"subreddit\", y = \"Number_of_comments\",legend = None)\n",
    "plt.title('10 most popular (commented) subbreddits')\n",
    "plt.xlabel('number of comments');\n",
    "plt.ylabel('subreddits');"
   ]
  },
  {
   "cell_type": "markdown",
   "metadata": {},
   "source": [
    "And now 10 least popular subreddits, as they will potentially be removed."
   ]
  },
  {
   "cell_type": "code",
   "execution_count": 37,
   "metadata": {},
   "outputs": [
    {
     "data": {
      "image/png": "[encoded data removed]",
      "text/plain": [
       "<Figure size 432x288 with 1 Axes>"
      ]
     },
     "metadata": {
      "needs_background": "light"
     },
     "output_type": "display_data"
    }
   ],
   "source": [
    "df_tmp = df_subreddit_count.toPandas().sort_values(by = \"Number_of_comments\", ascending = True).iloc[:10,:]\n",
    "df_tmp.plot(kind='barh',x = \"subreddit\", y = \"Number_of_comments\", legend = None);\n",
    "plt.title('10 least popular subreddits')\n",
    "plt.xlabel('number of comments');"
   ]
  },
  {
   "cell_type": "markdown",
   "metadata": {},
   "source": [
    "As we can see the last 10 all have exactly 1 comment."
   ]
  },
  {
   "cell_type": "markdown",
   "metadata": {},
   "source": [
    "Let us now try to see how many subreddits have 1 comment."
   ]
  },
  {
   "cell_type": "code",
   "execution_count": 38,
   "metadata": {},
   "outputs": [],
   "source": [
    "df_subreddit_count_pd = df_subreddit_count.toPandas()"
   ]
  },
  {
   "cell_type": "code",
   "execution_count": 39,
   "metadata": {},
   "outputs": [],
   "source": [
    "n_subreddits_per_comment = df_subreddit_count_pd.groupby('Number_of_comments').count()"
   ]
  },
  {
   "cell_type": "code",
   "execution_count": 40,
   "metadata": {},
   "outputs": [
    {
     "data": {
      "text/html": [
       "<div>\n",
       "<style scoped>\n",
       "    .dataframe tbody tr th:only-of-type {\n",
       "        vertical-align: middle;\n",
       "    }\n",
       "\n",
       "    .dataframe tbody tr th {\n",
       "        vertical-align: top;\n",
       "    }\n",
       "\n",
       "    .dataframe thead th {\n",
       "        text-align: right;\n",
       "    }\n",
       "</style>\n",
       "<table border=\"1\" class=\"dataframe\">\n",
       "  <thead>\n",
       "    <tr style=\"text-align: right;\">\n",
       "      <th></th>\n",
       "      <th>subreddit</th>\n",
       "    </tr>\n",
       "    <tr>\n",
       "      <th>Number_of_comments</th>\n",
       "      <th></th>\n",
       "    </tr>\n",
       "  </thead>\n",
       "  <tbody>\n",
       "    <tr>\n",
       "      <th>1</th>\n",
       "      <td>52023</td>\n",
       "    </tr>\n",
       "    <tr>\n",
       "      <th>2</th>\n",
       "      <td>19478</td>\n",
       "    </tr>\n",
       "    <tr>\n",
       "      <th>3</th>\n",
       "      <td>8884</td>\n",
       "    </tr>\n",
       "    <tr>\n",
       "      <th>4</th>\n",
       "      <td>5233</td>\n",
       "    </tr>\n",
       "    <tr>\n",
       "      <th>5</th>\n",
       "      <td>3648</td>\n",
       "    </tr>\n",
       "  </tbody>\n",
       "</table>\n",
       "</div>"
      ],
      "text/plain": [
       "                    subreddit\n",
       "Number_of_comments           \n",
       "1                       52023\n",
       "2                       19478\n",
       "3                        8884\n",
       "4                        5233\n",
       "5                        3648"
      ]
     },
     "execution_count": 40,
     "metadata": {},
     "output_type": "execute_result"
    }
   ],
   "source": [
    "n_subreddits_per_comment.head()"
   ]
  },
  {
   "cell_type": "code",
   "execution_count": 41,
   "metadata": {},
   "outputs": [
    {
     "data": {
      "image/png": "[encoded data removed]",
      "text/plain": [
       "<Figure size 432x288 with 1 Axes>"
      ]
     },
     "metadata": {
      "needs_background": "light"
     },
     "output_type": "display_data"
    }
   ],
   "source": [
    "n_subreddits_per_comment.hist(bins = [1,10,100,1000]);\n",
    "plt.title('Histogram showing the comment frequecy');"
   ]
  },
  {
   "cell_type": "markdown",
   "metadata": {},
   "source": [
    "As we can see a lot of the subreddits have 1 comment, hence removing these will reduce the size of our dataset."
   ]
  },
  {
   "cell_type": "markdown",
   "metadata": {},
   "source": [
    "Let us now analyze the controversiality of the comments (`script/stats.py`)"
   ]
  },
  {
   "cell_type": "code",
   "execution_count": 42,
   "metadata": {
    "scrolled": true
   },
   "outputs": [
    {
     "name": "stdout",
     "output_type": "stream",
     "text": [
      "+---------+------------------------+\n",
      "|subreddit|N_controversial_comments|\n",
      "+---------+------------------------+\n",
      "|  Roadcam|                    1820|\n",
      "|      MLS|                    2249|\n",
      "+---------+------------------------+\n",
      "only showing top 2 rows\n",
      "\n"
     ]
    }
   ],
   "source": [
    "df_controversial_per_subr_count = spark.read.parquet(DATA_DIR + \"df_controversial_per_subr_count.parquet\")\n",
    "df_controversial_per_subr_count.show(2)"
   ]
  },
  {
   "cell_type": "code",
   "execution_count": 43,
   "metadata": {},
   "outputs": [],
   "source": [
    "df_controversial_per_subr_count_pd = df_controversial_per_subr_count.toPandas()"
   ]
  },
  {
   "cell_type": "markdown",
   "metadata": {},
   "source": [
    "10 most controversial subreddits"
   ]
  },
  {
   "cell_type": "code",
   "execution_count": 44,
   "metadata": {},
   "outputs": [
    {
     "data": {
      "image/png": "[encoded data removed]",
      "text/plain": [
       "<Figure size 432x288 with 1 Axes>"
      ]
     },
     "metadata": {
      "needs_background": "light"
     },
     "output_type": "display_data"
    }
   ],
   "source": [
    "df_controversial_per_subr_count_pd.sort_values(by='N_controversial_comments',ascending=False).iloc[:10,:].plot(kind='barh',x='subreddit',y='N_controversial_comments',legend=None);\n",
    "plt.title('10 most controversial subreddits');\n",
    "plt.xlabel('Number of controversial comments');"
   ]
  },
  {
   "cell_type": "markdown",
   "metadata": {},
   "source": [
    "10 least controversial subreddits"
   ]
  },
  {
   "cell_type": "code",
   "execution_count": 45,
   "metadata": {},
   "outputs": [
    {
     "data": {
      "image/png": "[encoded data removed]",
      "text/plain": [
       "<Figure size 432x288 with 1 Axes>"
      ]
     },
     "metadata": {
      "needs_background": "light"
     },
     "output_type": "display_data"
    }
   ],
   "source": [
    "df_controversial_per_subr_count_pd.sort_values(by='N_controversial_comments',ascending=True).iloc[:10,:].plot(kind='barh',x='subreddit',y='N_controversial_comments',legend = None)\n",
    "plt.title('10 least controversial subreddits');\n",
    "plt.xlabel('number of controversial comments');"
   ]
  },
  {
   "cell_type": "code",
   "execution_count": 46,
   "metadata": {},
   "outputs": [
    {
     "data": {
      "text/plain": [
       "array([[<matplotlib.axes._subplots.AxesSubplot object at 0x0000020D97206CF8>]],\n",
       "      dtype=object)"
      ]
     },
     "execution_count": 46,
     "metadata": {},
     "output_type": "execute_result"
    },
    {
     "data": {
      "image/png": "[encoded data removed]",
      "text/plain": [
       "<Figure size 432x288 with 1 Axes>"
      ]
     },
     "metadata": {
      "needs_background": "light"
     },
     "output_type": "display_data"
    }
   ],
   "source": [
    "df_controversial_per_subr_count_pd.groupby('N_controversial_comments').count().hist(bins=[1,10,100,1000])"
   ]
  },
  {
   "cell_type": "markdown",
   "metadata": {},
   "source": [
    "As we can see in the graph for most popular subbreddits (comments and controversial comments), some of the most popular subreddits are also some of the most controversial ones (askreddit, worldnews, politics,...)."
   ]
  },
  {
   "cell_type": "markdown",
   "metadata": {},
   "source": [
    "Let us now plot a stacked bar chart to see the ratio of controversial to non controversial comments per subreddits."
   ]
  },
  {
   "cell_type": "code",
   "execution_count": 47,
   "metadata": {},
   "outputs": [],
   "source": [
    "df_created_utc_controversial = spark.read.parquet(DATA_DIR + \"df_created_utc_controversial.parquet\")"
   ]
  },
  {
   "cell_type": "code",
   "execution_count": 48,
   "metadata": {},
   "outputs": [],
   "source": [
    "df_created_utc_controversial_pd = df_created_utc_controversial.toPandas()\n",
    "df_created_utc_controversial_pd.sort_values(by=\"month\",ascending=True)\n",
    "df_created_utc_controversial_pd.columns = ['month_int','n_of_controversial']"
   ]
  },
  {
   "cell_type": "code",
   "execution_count": 49,
   "metadata": {},
   "outputs": [
    {
     "data": {
      "text/html": [
       "<div>\n",
       "<style scoped>\n",
       "    .dataframe tbody tr th:only-of-type {\n",
       "        vertical-align: middle;\n",
       "    }\n",
       "\n",
       "    .dataframe tbody tr th {\n",
       "        vertical-align: top;\n",
       "    }\n",
       "\n",
       "    .dataframe thead th {\n",
       "        text-align: right;\n",
       "    }\n",
       "</style>\n",
       "<table border=\"1\" class=\"dataframe\">\n",
       "  <thead>\n",
       "    <tr style=\"text-align: right;\">\n",
       "      <th></th>\n",
       "      <th>month_int</th>\n",
       "      <th>n_of_controversial</th>\n",
       "    </tr>\n",
       "  </thead>\n",
       "  <tbody>\n",
       "    <tr>\n",
       "      <th>0</th>\n",
       "      <td>07</td>\n",
       "      <td>152563</td>\n",
       "    </tr>\n",
       "    <tr>\n",
       "      <th>1</th>\n",
       "      <td>11</td>\n",
       "      <td>132512</td>\n",
       "    </tr>\n",
       "    <tr>\n",
       "      <th>2</th>\n",
       "      <td>01</td>\n",
       "      <td>150127</td>\n",
       "    </tr>\n",
       "  </tbody>\n",
       "</table>\n",
       "</div>"
      ],
      "text/plain": [
       "  month_int  n_of_controversial\n",
       "0        07              152563\n",
       "1        11              132512\n",
       "2        01              150127"
      ]
     },
     "execution_count": 49,
     "metadata": {},
     "output_type": "execute_result"
    }
   ],
   "source": [
    "df_created_utc_controversial_pd.head(3)"
   ]
  },
  {
   "cell_type": "code",
   "execution_count": 50,
   "metadata": {},
   "outputs": [],
   "source": [
    "df_created_utc_non_controversial = spark.read.parquet(DATA_DIR + \"df_created_utc_non_controversial.parquet\")"
   ]
  },
  {
   "cell_type": "code",
   "execution_count": 51,
   "metadata": {},
   "outputs": [],
   "source": [
    "df_created_utc_non_controversial_pd = df_created_utc_non_controversial.toPandas()\n",
    "df_created_utc_non_controversial_pd = df_created_utc_non_controversial_pd.sort_values(by='month',ascending=True)\n",
    "df_created_utc_non_controversial_pd.columns = ['month_int','n_of_non_controversial']"
   ]
  },
  {
   "cell_type": "code",
   "execution_count": 52,
   "metadata": {},
   "outputs": [
    {
     "data": {
      "text/html": [
       "<div>\n",
       "<style scoped>\n",
       "    .dataframe tbody tr th:only-of-type {\n",
       "        vertical-align: middle;\n",
       "    }\n",
       "\n",
       "    .dataframe tbody tr th {\n",
       "        vertical-align: top;\n",
       "    }\n",
       "\n",
       "    .dataframe thead th {\n",
       "        text-align: right;\n",
       "    }\n",
       "</style>\n",
       "<table border=\"1\" class=\"dataframe\">\n",
       "  <thead>\n",
       "    <tr style=\"text-align: right;\">\n",
       "      <th></th>\n",
       "      <th>month_int</th>\n",
       "      <th>n_of_non_controversial</th>\n",
       "    </tr>\n",
       "  </thead>\n",
       "  <tbody>\n",
       "    <tr>\n",
       "      <th>2</th>\n",
       "      <td>01</td>\n",
       "      <td>6047031</td>\n",
       "    </tr>\n",
       "    <tr>\n",
       "      <th>7</th>\n",
       "      <td>02</td>\n",
       "      <td>5779530</td>\n",
       "    </tr>\n",
       "    <tr>\n",
       "      <th>6</th>\n",
       "      <td>03</td>\n",
       "      <td>6240412</td>\n",
       "    </tr>\n",
       "    <tr>\n",
       "      <th>11</th>\n",
       "      <td>04</td>\n",
       "      <td>6277689</td>\n",
       "    </tr>\n",
       "    <tr>\n",
       "      <th>4</th>\n",
       "      <td>05</td>\n",
       "      <td>6364371</td>\n",
       "    </tr>\n",
       "  </tbody>\n",
       "</table>\n",
       "</div>"
      ],
      "text/plain": [
       "   month_int  n_of_non_controversial\n",
       "2         01                 6047031\n",
       "7         02                 5779530\n",
       "6         03                 6240412\n",
       "11        04                 6277689\n",
       "4         05                 6364371"
      ]
     },
     "execution_count": 52,
     "metadata": {},
     "output_type": "execute_result"
    }
   ],
   "source": [
    "df_created_utc_non_controversial_pd.head()"
   ]
  },
  {
   "cell_type": "code",
   "execution_count": 53,
   "metadata": {},
   "outputs": [],
   "source": [
    "df_created_utc_pd_contr = df_created_utc_non_controversial_pd.merge(df_created_utc_controversial_pd,left_on='month_int',right_on = 'month_int')\n",
    "#df_created_utc_pd = df_created_utc_pd.merge(df_created_utc_non_controversial_pd,left_on='month_int',right_on = 'month_int')"
   ]
  },
  {
   "cell_type": "code",
   "execution_count": 54,
   "metadata": {},
   "outputs": [
    {
     "data": {
      "text/html": [
       "<div>\n",
       "<style scoped>\n",
       "    .dataframe tbody tr th:only-of-type {\n",
       "        vertical-align: middle;\n",
       "    }\n",
       "\n",
       "    .dataframe tbody tr th {\n",
       "        vertical-align: top;\n",
       "    }\n",
       "\n",
       "    .dataframe thead th {\n",
       "        text-align: right;\n",
       "    }\n",
       "</style>\n",
       "<table border=\"1\" class=\"dataframe\">\n",
       "  <thead>\n",
       "    <tr style=\"text-align: right;\">\n",
       "      <th></th>\n",
       "      <th>month_int</th>\n",
       "      <th>n_of_non_controversial</th>\n",
       "      <th>n_of_controversial</th>\n",
       "    </tr>\n",
       "  </thead>\n",
       "  <tbody>\n",
       "    <tr>\n",
       "      <th>0</th>\n",
       "      <td>01</td>\n",
       "      <td>6047031</td>\n",
       "      <td>150127</td>\n",
       "    </tr>\n",
       "    <tr>\n",
       "      <th>1</th>\n",
       "      <td>02</td>\n",
       "      <td>5779530</td>\n",
       "      <td>141455</td>\n",
       "    </tr>\n",
       "    <tr>\n",
       "      <th>2</th>\n",
       "      <td>03</td>\n",
       "      <td>6240412</td>\n",
       "      <td>151851</td>\n",
       "    </tr>\n",
       "    <tr>\n",
       "      <th>3</th>\n",
       "      <td>04</td>\n",
       "      <td>6277689</td>\n",
       "      <td>147945</td>\n",
       "    </tr>\n",
       "    <tr>\n",
       "      <th>4</th>\n",
       "      <td>05</td>\n",
       "      <td>6364371</td>\n",
       "      <td>157029</td>\n",
       "    </tr>\n",
       "    <tr>\n",
       "      <th>5</th>\n",
       "      <td>06</td>\n",
       "      <td>6439158</td>\n",
       "      <td>147958</td>\n",
       "    </tr>\n",
       "    <tr>\n",
       "      <th>6</th>\n",
       "      <td>07</td>\n",
       "      <td>6542780</td>\n",
       "      <td>152563</td>\n",
       "    </tr>\n",
       "    <tr>\n",
       "      <th>7</th>\n",
       "      <td>08</td>\n",
       "      <td>6817752</td>\n",
       "      <td>154129</td>\n",
       "    </tr>\n",
       "    <tr>\n",
       "      <th>8</th>\n",
       "      <td>09</td>\n",
       "      <td>6553197</td>\n",
       "      <td>148136</td>\n",
       "    </tr>\n",
       "    <tr>\n",
       "      <th>9</th>\n",
       "      <td>10</td>\n",
       "      <td>7030256</td>\n",
       "      <td>152879</td>\n",
       "    </tr>\n",
       "    <tr>\n",
       "      <th>10</th>\n",
       "      <td>11</td>\n",
       "      <td>6973822</td>\n",
       "      <td>132512</td>\n",
       "    </tr>\n",
       "    <tr>\n",
       "      <th>11</th>\n",
       "      <td>12</td>\n",
       "      <td>7161654</td>\n",
       "      <td>133987</td>\n",
       "    </tr>\n",
       "  </tbody>\n",
       "</table>\n",
       "</div>"
      ],
      "text/plain": [
       "   month_int  n_of_non_controversial  n_of_controversial\n",
       "0         01                 6047031              150127\n",
       "1         02                 5779530              141455\n",
       "2         03                 6240412              151851\n",
       "3         04                 6277689              147945\n",
       "4         05                 6364371              157029\n",
       "5         06                 6439158              147958\n",
       "6         07                 6542780              152563\n",
       "7         08                 6817752              154129\n",
       "8         09                 6553197              148136\n",
       "9         10                 7030256              152879\n",
       "10        11                 6973822              132512\n",
       "11        12                 7161654              133987"
      ]
     },
     "execution_count": 54,
     "metadata": {},
     "output_type": "execute_result"
    }
   ],
   "source": [
    "df_created_utc_pd_contr"
   ]
  },
  {
   "cell_type": "code",
   "execution_count": 55,
   "metadata": {},
   "outputs": [
    {
     "data": {
      "image/png": "[encoded data removed]",
      "text/plain": [
       "<Figure size 432x288 with 1 Axes>"
      ]
     },
     "metadata": {
      "needs_background": "light"
     },
     "output_type": "display_data"
    }
   ],
   "source": [
    "df_created_utc_pd_contr[['n_of_controversial','n_of_non_controversial']].plot(kind='bar', stacked=True);"
   ]
  },
  {
   "cell_type": "markdown",
   "metadata": {},
   "source": [
    "As we can see for each month in 2016 the number of non controversial comments outweigh the number of controversial comments."
   ]
  },
  {
   "cell_type": "markdown",
   "metadata": {},
   "source": [
    "### Natural Language Processing\n",
    "\n",
    "As a final step wiithin milestone 2, below are our first steps with NLP, basically trying out the sugested libraries. Here's a reference with some more libraries https://elitedatascience.com/python-nlp-libraries\n",
    "\n",
    "To use this libraries in a simple way and in order to execute queries quickly we are going to study now just the comments of one of the subreddits of the sample, \"The_Donald\"."
   ]
  },
  {
   "cell_type": "code",
   "execution_count": 56,
   "metadata": {},
   "outputs": [],
   "source": [
    "df_nlp = df_pd[df_pd[\"subreddit\"] == \"The_Donald\"].sample(10000)"
   ]
  },
  {
   "cell_type": "code",
   "execution_count": 57,
   "metadata": {
    "scrolled": true
   },
   "outputs": [
    {
     "data": {
      "text/plain": [
       "(10000, 17)"
      ]
     },
     "execution_count": 57,
     "metadata": {},
     "output_type": "execute_result"
    }
   ],
   "source": [
    "df_nlp.shape"
   ]
  },
  {
   "cell_type": "markdown",
   "metadata": {},
   "source": [
    "### spaCy\n",
    "\n",
    "spaCy allows us to find named entities, thus identying the topic(s) of a post or discussion. spaCy can be found here https://spacy.io/ with instructions for installing here https://spacy.io/usage/"
   ]
  },
  {
   "cell_type": "code",
   "execution_count": 58,
   "metadata": {},
   "outputs": [],
   "source": [
    "# For the installation: Execute in the anaconda prompt:\n",
    "# pip install spacy\n",
    "# python -m spacy download en_core_web_sm #(With admin permissions)\n",
    "import spacy"
   ]
  },
  {
   "cell_type": "markdown",
   "metadata": {},
   "source": [
    "spaCy features an extremely fast statistical entity recognition system, that assigns labels to contiguous spans of tokens. The default model identifies a variety of named and numeric entities, including companies, locations, organizations and products. You can add arbitrary classes to the entity recognition system, and update the model with new examples."
   ]
  },
  {
   "cell_type": "markdown",
   "metadata": {},
   "source": [
    "From this library we are going to use the \"Named Entity Recognition\" functionality:\n",
    "\n",
    "A named entity is a \"real-world object\" that's assigned a name – for example, a person, a country, a product or a book title. spaCy can recognise various types of named entities in a document, by asking the model for a prediction. Because models are statistical and strongly depend on the examples they were trained on, this doesn't always work perfectly and might need some tuning later, depending on your use case.\n",
    "\n",
    "Named entities are available as the ents property of a Doc:"
   ]
  },
  {
   "cell_type": "code",
   "execution_count": 59,
   "metadata": {
    "scrolled": true
   },
   "outputs": [
    {
     "name": "stdout",
     "output_type": "stream",
     "text": [
      "Apple 0 5 ORG\n",
      "U.K. 27 31 GPE\n",
      "$1 billion 44 54 MONEY\n"
     ]
    }
   ],
   "source": [
    "nlp = spacy.load('en_core_web_sm')\n",
    "doc = nlp(u'Apple is looking at buying U.K. startup for $1 billion')\n",
    "for ent in doc.ents:\n",
    "    print(ent.text, ent.start_char, ent.end_char, ent.label_)"
   ]
  },
  {
   "cell_type": "markdown",
   "metadata": {},
   "source": [
    "Having done this simple query, let's see which are the usuals named entities of the \"The_Donald\" subreddit comments. \n",
    "\n",
    "Note: We have done this grammatical analysis using the function npl.pipe, in order to make faster the execution."
   ]
  },
  {
   "cell_type": "code",
   "execution_count": 60,
   "metadata": {},
   "outputs": [],
   "source": [
    "tags = []\n",
    "for doc in nlp.pipe(df_nlp[\"body\"].astype('unicode').values, batch_size=50,\n",
    "                        n_threads=4):\n",
    "    if doc.is_parsed:\n",
    "        tags.append([ent.label_ for ent in doc.ents])\n"
   ]
  },
  {
   "cell_type": "code",
   "execution_count": 61,
   "metadata": {},
   "outputs": [],
   "source": [
    "tags = [val for sublist in tags for val in sublist]  #From a list of lists to a list"
   ]
  },
  {
   "cell_type": "code",
   "execution_count": 62,
   "metadata": {
    "scrolled": true
   },
   "outputs": [
    {
     "data": {
      "text/plain": [
       "ORG         3598\n",
       "PERSON      2978\n",
       "GPE         2167\n",
       "NORP        1256\n",
       "CARDINAL    1193\n",
       "Name: tags, dtype: int64"
      ]
     },
     "execution_count": 62,
     "metadata": {},
     "output_type": "execute_result"
    }
   ],
   "source": [
    "df_npl_pd = pd.DataFrame(tags, columns=[\"tags\"])\n",
    "tags_count = df_npl_pd.tags.value_counts().sort_values(ascending=False)\n",
    "tags_count.head(5)"
   ]
  },
  {
   "cell_type": "markdown",
   "metadata": {},
   "source": [
    "So we see that the most popular tags in this subreddit are  ORG, PERSON, GPE, NORP and DATE. Below you can see the meaning of each tag:\n",
    "* PERSON\tPeople, including fictional.\n",
    "* NORP\tNationalities or religious or political groups.\n",
    "* FAC\tBuildings, airports, highways, bridges, etc.\n",
    "* ORG\tCompanies, agencies, institutions, etc.\n",
    "* GPE\tCountries, cities, states.\n",
    "* LOC\tNon-GPE locations, mountain ranges, bodies of water.\n",
    "* PRODUCT\tObjects, vehicles, foods, etc. (Not services.)\n",
    "* EVENT\tNamed hurricanes, battles, wars, sports events, etc.\n",
    "* WORK_OF_ART\tTitles of books, songs, etc.\n",
    "* LAW\tNamed documents made into laws.\n",
    "* LANGUAGE\tAny named language.\n",
    "* DATE\tAbsolute or relative dates or periods.\n",
    "* TIME\tTimes smaller than a day.\n",
    "* PERCENT\tPercentage, including \"%\".\n",
    "* MONEY\tMonetary values, including unit.\n",
    "* QUANTITY\tMeasurements, as of weight or distance.\n",
    "* ORDINAL\t\"first\", \"second\", etc.\n",
    "* CARDINAL\tNumerals that do not fall under another type."
   ]
  },
  {
   "cell_type": "markdown",
   "metadata": {},
   "source": [
    "Finally we plot the appearances of each tag in the sample studied:"
   ]
  },
  {
   "cell_type": "code",
   "execution_count": 63,
   "metadata": {},
   "outputs": [
    {
     "data": {
      "text/plain": [
       "<matplotlib.axes._subplots.AxesSubplot at 0x20d9eebf8d0>"
      ]
     },
     "execution_count": 63,
     "metadata": {},
     "output_type": "execute_result"
    },
    {
     "data": {
      "image/png": "[encoded data removed]",
      "text/plain": [
       "<Figure size 432x288 with 1 Axes>"
      ]
     },
     "metadata": {
      "needs_background": "light"
     },
     "output_type": "display_data"
    }
   ],
   "source": [
    "df_tags_count = pd.DataFrame(tags_count).reset_index()\n",
    "df_tags_count.columns=[\"Tags\", \"Appearances\"]\n",
    "df_tags_count.set_index(\"Tags\")\n",
    "\n",
    "df_tags_count.plot(kind=\"barh\", x = \"Tags\", y = \"Appearances\")"
   ]
  },
  {
   "cell_type": "markdown",
   "metadata": {},
   "source": [
    "### TextBlob\n",
    "\n",
    "TextBlob allows for sentiment analysis, translation, and more\n",
    "\n",
    "TextBlob can be found here https://textblob.readthedocs.io/en/dev/ with installation instructions here https://textblob.readthedocs.io/en/dev/install.html"
   ]
  },
  {
   "cell_type": "code",
   "execution_count": 64,
   "metadata": {},
   "outputs": [],
   "source": [
    "from textblob import TextBlob"
   ]
  },
  {
   "cell_type": "markdown",
   "metadata": {},
   "source": [
    "We try the sentiment analysis this library offers:"
   ]
  },
  {
   "cell_type": "markdown",
   "metadata": {},
   "source": [
    "The sentiment property returns a namedtuple of the form Sentiment(polarity, subjectivity). The polarity score is a float within the range [-1.0, 1.0]. The subjectivity is a float within the range [0.0, 1.0] where 0.0 is very objective and 1.0 is very subjective.\n",
    "```\n",
    " testimonial = TextBlob(\"Textblob is amazingly simple to use. What great fun!\")\n",
    " testimonial.sentiment\n",
    " Output: Sentiment(polarity=0.39166666666666666, subjectivity=0.4357142857142857)\n",
    " testimonial.sentiment.polarity\n",
    "0.39166666666666666\n",
    "\n",
    "```"
   ]
  },
  {
   "cell_type": "markdown",
   "metadata": {},
   "source": [
    "Now let's try to see how is the sentiment analysis of the \"The_Donald\" subreddit comments. We have added two columns to the original data frame, one with the polarity measured and the other with the other with the subjectivity."
   ]
  },
  {
   "cell_type": "code",
   "execution_count": 65,
   "metadata": {},
   "outputs": [],
   "source": [
    "df_nlp['sentiment_polarity'] = df_nlp[\"body\"].apply(lambda com: TextBlob(str(com)).sentiment.polarity)\n",
    "df_nlp['sentiment_subjectivity'] = df_nlp[\"body\"].apply(lambda com: TextBlob(str(com)).sentiment.subjectivity)"
   ]
  },
  {
   "cell_type": "code",
   "execution_count": 66,
   "metadata": {
    "scrolled": false
   },
   "outputs": [
    {
     "data": {
      "text/html": [
       "<div>\n",
       "<style scoped>\n",
       "    .dataframe tbody tr th:only-of-type {\n",
       "        vertical-align: middle;\n",
       "    }\n",
       "\n",
       "    .dataframe tbody tr th {\n",
       "        vertical-align: top;\n",
       "    }\n",
       "\n",
       "    .dataframe thead th {\n",
       "        text-align: right;\n",
       "    }\n",
       "</style>\n",
       "<table border=\"1\" class=\"dataframe\">\n",
       "  <thead>\n",
       "    <tr style=\"text-align: right;\">\n",
       "      <th></th>\n",
       "      <th>author</th>\n",
       "      <th>author_flair_css_class</th>\n",
       "      <th>author_flair_text</th>\n",
       "      <th>body</th>\n",
       "      <th>controversiality</th>\n",
       "      <th>created_utc</th>\n",
       "      <th>distinguished</th>\n",
       "      <th>edited</th>\n",
       "      <th>gilded</th>\n",
       "      <th>id</th>\n",
       "      <th>link_id</th>\n",
       "      <th>parent_id</th>\n",
       "      <th>retrieved_on</th>\n",
       "      <th>score</th>\n",
       "      <th>stickied</th>\n",
       "      <th>subreddit</th>\n",
       "      <th>subreddit_id</th>\n",
       "      <th>sentiment_polarity</th>\n",
       "      <th>sentiment_subjectivity</th>\n",
       "    </tr>\n",
       "  </thead>\n",
       "  <tbody>\n",
       "    <tr>\n",
       "      <th>1030171</th>\n",
       "      <td>baybreezes</td>\n",
       "      <td>new-jersey</td>\n",
       "      <td>NJ</td>\n",
       "      <td>Wikileaks also posted this statement on their ...</td>\n",
       "      <td>0</td>\n",
       "      <td>1483814788</td>\n",
       "      <td>None</td>\n",
       "      <td>false</td>\n",
       "      <td>0</td>\n",
       "      <td>dc4j9g5</td>\n",
       "      <td>t3_5ml5yj</td>\n",
       "      <td>t1_dc4flkk</td>\n",
       "      <td>1485857267</td>\n",
       "      <td>2</td>\n",
       "      <td>False</td>\n",
       "      <td>The_Donald</td>\n",
       "      <td>t5_38unr</td>\n",
       "      <td>0.281250</td>\n",
       "      <td>0.312500</td>\n",
       "    </tr>\n",
       "    <tr>\n",
       "      <th>918421</th>\n",
       "      <td>Pofaced</td>\n",
       "      <td>pennsylvania</td>\n",
       "      <td>PA</td>\n",
       "      <td>Liberal shill, extremely biased. He's gotten w...</td>\n",
       "      <td>0</td>\n",
       "      <td>1483732797</td>\n",
       "      <td>None</td>\n",
       "      <td>false</td>\n",
       "      <td>0</td>\n",
       "      <td>dc382wl</td>\n",
       "      <td>t3_5mfal7</td>\n",
       "      <td>t1_dc37xyn</td>\n",
       "      <td>1485834349</td>\n",
       "      <td>4</td>\n",
       "      <td>False</td>\n",
       "      <td>The_Donald</td>\n",
       "      <td>t5_38unr</td>\n",
       "      <td>-0.258333</td>\n",
       "      <td>0.616667</td>\n",
       "    </tr>\n",
       "  </tbody>\n",
       "</table>\n",
       "</div>"
      ],
      "text/plain": [
       "             author author_flair_css_class author_flair_text  \\\n",
       "1030171  baybreezes             new-jersey                NJ   \n",
       "918421      Pofaced           pennsylvania                PA   \n",
       "\n",
       "                                                      body  controversiality  \\\n",
       "1030171  Wikileaks also posted this statement on their ...                 0   \n",
       "918421   Liberal shill, extremely biased. He's gotten w...                 0   \n",
       "\n",
       "         created_utc distinguished edited  gilded       id    link_id  \\\n",
       "1030171   1483814788          None  false       0  dc4j9g5  t3_5ml5yj   \n",
       "918421    1483732797          None  false       0  dc382wl  t3_5mfal7   \n",
       "\n",
       "          parent_id  retrieved_on  score  stickied   subreddit subreddit_id  \\\n",
       "1030171  t1_dc4flkk    1485857267      2     False  The_Donald     t5_38unr   \n",
       "918421   t1_dc37xyn    1485834349      4     False  The_Donald     t5_38unr   \n",
       "\n",
       "         sentiment_polarity  sentiment_subjectivity  \n",
       "1030171            0.281250                0.312500  \n",
       "918421            -0.258333                0.616667  "
      ]
     },
     "execution_count": 66,
     "metadata": {},
     "output_type": "execute_result"
    }
   ],
   "source": [
    "df_nlp.head(2)"
   ]
  },
  {
   "cell_type": "markdown",
   "metadata": {},
   "source": [
    "Finally, we plot the distribution of both polarity and subjectivity.   \n",
    "\n",
    "Reminder: The polarity score is a float within the range [-1.0, 1.0]. The subjectivity is a float within the range [0.0, 1.0] where 0.0 is very objective and 1.0 is very subjective."
   ]
  },
  {
   "cell_type": "code",
   "execution_count": 67,
   "metadata": {
    "scrolled": true
   },
   "outputs": [
    {
     "data": {
      "text/plain": [
       "<matplotlib.axes._subplots.AxesSubplot at 0x20db0042ef0>"
      ]
     },
     "execution_count": 67,
     "metadata": {},
     "output_type": "execute_result"
    },
    {
     "data": {
      "image/png": "[encoded data removed]",
      "text/plain": [
       "<Figure size 432x288 with 1 Axes>"
      ]
     },
     "metadata": {
      "needs_background": "light"
     },
     "output_type": "display_data"
    }
   ],
   "source": [
    "df_nlp['sentiment_polarity'].hist()"
   ]
  },
  {
   "cell_type": "markdown",
   "metadata": {},
   "source": [
    "With the polarity distribution we check that most of the comments usually are no so polarized. However there is a considerable amount of comments polarized. "
   ]
  },
  {
   "cell_type": "code",
   "execution_count": 68,
   "metadata": {},
   "outputs": [
    {
     "data": {
      "text/plain": [
       "<matplotlib.axes._subplots.AxesSubplot at 0x20db0080f28>"
      ]
     },
     "execution_count": 68,
     "metadata": {},
     "output_type": "execute_result"
    },
    {
     "data": {
      "image/png": "[encoded data removed]",
      "text/plain": [
       "<Figure size 432x288 with 1 Axes>"
      ]
     },
     "metadata": {
      "needs_background": "light"
     },
     "output_type": "display_data"
    }
   ],
   "source": [
    "df_nlp['sentiment_subjectivity'].hist()"
   ]
  },
  {
   "cell_type": "markdown",
   "metadata": {},
   "source": [
    "With the subjectivity distribution we also see that there are lots of comments which are somehow subjectives, although the most common is not being subjective."
   ]
  },
  {
   "cell_type": "markdown",
   "metadata": {},
   "source": [
    "# Milestone 3"
   ]
  },
  {
   "cell_type": "markdown",
   "metadata": {},
   "source": [
    "Following upon milestone 2, Here we will work with a larger sample of the 2016 reddit dataset. This new milestone have been divided in 2 parts:\n",
    "* **1 - Analyzing the echo-chambering between political communities**This is the main part of study of the echo chamber effect. We find some factors that implies more or less echo-chambering, and we interpret why this factors are influencing it.\n",
    "* **2 - Ideological communities**: In the previous section we have developped the \"karma classifier\", we work it with very defined ideological subreddits and see what happens.\n",
    "* **3 - Machine Learning for classify users ideology attempts**: Now that we have seen that most of political communities studied in the previous section are quite isolated; we try to classify the users in terms of their ideology in the conservative-liberal axe. In this part we also write some notes about the chosen data set."
   ]
  },
  {
   "cell_type": "markdown",
   "metadata": {},
   "source": [
    "# 1 - Analyzing the echo-chambering between political communities"
   ]
  },
  {
   "cell_type": "code",
   "execution_count": 69,
   "metadata": {},
   "outputs": [],
   "source": [
    "df_spark = spark.read.parquet(DATA_DIR + \"final_dataset_2016_user_sampled_post_filtered.parquet\")"
   ]
  },
  {
   "cell_type": "markdown",
   "metadata": {},
   "source": [
    "In this part we are going to use the data set contained in `final_dataset_2016_user_sampled_post_filtered.parquet`, which contains the comments in the top 200 subreddits in number of comments in 2016, which have not been deleted or removed (their body is not \"[deleted]\" or \"[removed]\") and with just the useful columns. We will analyze how the different subreddits are connected, i.e. how the communities that live inside reddit are connected. \n",
    "\n",
    "To do this we first consider the number of users who are commenting in the different subreddits as a measure of the connection between the subreddits. For example: Given two subreddits `subreddit1` and `subreddit2`, their connection would be as great as much users are commenting in both subreddits."
   ]
  },
  {
   "cell_type": "markdown",
   "metadata": {},
   "source": [
    "## Connection between subreddits\n",
    "\n",
    "So, our first step is to obtain this value (number of users commenting in both subreddits) which measures the size of the connection between every pair of subreddits. We are going to compute this value in an adjacency matrix (since it seems like an ntuitive way of storing this information)"
   ]
  },
  {
   "cell_type": "code",
   "execution_count": 104,
   "metadata": {},
   "outputs": [],
   "source": [
    "df_subreddit_users = df_spark.select('subreddit','author','id').groupby('subreddit') \\\n",
    "                                .agg(collect_set('author').alias('users'),count('id').alias('number_of_comments')) \\\n",
    "                                .filter('number_of_comments > 1000') \\\n",
    "                                .orderBy(asc('subreddit'))\n",
    "\n",
    "df = df_subreddit_users.toPandas()  \n",
    "df_users_by_subreddit = df.copy()      #Used in the next subsection\n",
    "\n",
    "adjacency_matrix = np.zeros([df.shape[0],df.shape[0]])\n",
    "\n",
    "for i in range(df.shape[0]):\n",
    "    for j in range(df.shape[0]):\n",
    "        if i == j:\n",
    "            adjacency_matrix[i,j] = 0\n",
    "        else:\n",
    "            subb1_users = set(df.iloc[i]['users'])\n",
    "            subb2_users = set(df.iloc[j]['users'])\n",
    "            n_common_users = len(subb1_users.intersection(subb2_users))\n",
    "            adjacency_matrix[i,j] = n_common_users\n",
    "\n",
    "df_adj = pd.DataFrame(adjacency_matrix)"
   ]
  },
  {
   "cell_type": "code",
   "execution_count": 71,
   "metadata": {},
   "outputs": [
    {
     "data": {
      "text/html": [
       "<div>\n",
       "<style scoped>\n",
       "    .dataframe tbody tr th:only-of-type {\n",
       "        vertical-align: middle;\n",
       "    }\n",
       "\n",
       "    .dataframe tbody tr th {\n",
       "        vertical-align: top;\n",
       "    }\n",
       "\n",
       "    .dataframe thead th {\n",
       "        text-align: right;\n",
       "    }\n",
       "</style>\n",
       "<table border=\"1\" class=\"dataframe\">\n",
       "  <thead>\n",
       "    <tr style=\"text-align: right;\">\n",
       "      <th></th>\n",
       "      <th>2007scape</th>\n",
       "      <th>4chan</th>\n",
       "      <th>AdviceAnimals</th>\n",
       "      <th>Amd</th>\n",
       "      <th>Android</th>\n",
       "      <th>AskMen</th>\n",
       "      <th>AskWomen</th>\n",
       "      <th>BabyBumps</th>\n",
       "      <th>BigBrother</th>\n",
       "      <th>Bitcoin</th>\n",
       "      <th>...</th>\n",
       "      <th>tifu</th>\n",
       "      <th>todayilearned</th>\n",
       "      <th>trees</th>\n",
       "      <th>ukpolitics</th>\n",
       "      <th>unitedkingdom</th>\n",
       "      <th>videos</th>\n",
       "      <th>whowouldwin</th>\n",
       "      <th>worldnews</th>\n",
       "      <th>wow</th>\n",
       "      <th>xboxone</th>\n",
       "    </tr>\n",
       "    <tr>\n",
       "      <th>subreddits</th>\n",
       "      <th></th>\n",
       "      <th></th>\n",
       "      <th></th>\n",
       "      <th></th>\n",
       "      <th></th>\n",
       "      <th></th>\n",
       "      <th></th>\n",
       "      <th></th>\n",
       "      <th></th>\n",
       "      <th></th>\n",
       "      <th></th>\n",
       "      <th></th>\n",
       "      <th></th>\n",
       "      <th></th>\n",
       "      <th></th>\n",
       "      <th></th>\n",
       "      <th></th>\n",
       "      <th></th>\n",
       "      <th></th>\n",
       "      <th></th>\n",
       "      <th></th>\n",
       "    </tr>\n",
       "  </thead>\n",
       "  <tbody>\n",
       "    <tr>\n",
       "      <th>2007scape</th>\n",
       "      <td>0.0</td>\n",
       "      <td>471.0</td>\n",
       "      <td>860.0</td>\n",
       "      <td>63.0</td>\n",
       "      <td>273.0</td>\n",
       "      <td>156.0</td>\n",
       "      <td>62.0</td>\n",
       "      <td>5.0</td>\n",
       "      <td>16.0</td>\n",
       "      <td>45.0</td>\n",
       "      <td>...</td>\n",
       "      <td>430.0</td>\n",
       "      <td>1095.0</td>\n",
       "      <td>458.0</td>\n",
       "      <td>80.0</td>\n",
       "      <td>89.0</td>\n",
       "      <td>1121.0</td>\n",
       "      <td>65.0</td>\n",
       "      <td>1035.0</td>\n",
       "      <td>339.0</td>\n",
       "      <td>242.0</td>\n",
       "    </tr>\n",
       "    <tr>\n",
       "      <th>4chan</th>\n",
       "      <td>471.0</td>\n",
       "      <td>0.0</td>\n",
       "      <td>4517.0</td>\n",
       "      <td>260.0</td>\n",
       "      <td>1499.0</td>\n",
       "      <td>922.0</td>\n",
       "      <td>361.0</td>\n",
       "      <td>17.0</td>\n",
       "      <td>53.0</td>\n",
       "      <td>233.0</td>\n",
       "      <td>...</td>\n",
       "      <td>2220.0</td>\n",
       "      <td>5762.0</td>\n",
       "      <td>2100.0</td>\n",
       "      <td>363.0</td>\n",
       "      <td>513.0</td>\n",
       "      <td>5481.0</td>\n",
       "      <td>468.0</td>\n",
       "      <td>5544.0</td>\n",
       "      <td>945.0</td>\n",
       "      <td>812.0</td>\n",
       "    </tr>\n",
       "    <tr>\n",
       "      <th>AdviceAnimals</th>\n",
       "      <td>860.0</td>\n",
       "      <td>4517.0</td>\n",
       "      <td>0.0</td>\n",
       "      <td>559.0</td>\n",
       "      <td>4151.0</td>\n",
       "      <td>2649.0</td>\n",
       "      <td>1329.0</td>\n",
       "      <td>141.0</td>\n",
       "      <td>221.0</td>\n",
       "      <td>657.0</td>\n",
       "      <td>...</td>\n",
       "      <td>6365.0</td>\n",
       "      <td>21460.0</td>\n",
       "      <td>6250.0</td>\n",
       "      <td>786.0</td>\n",
       "      <td>1162.0</td>\n",
       "      <td>20097.0</td>\n",
       "      <td>822.0</td>\n",
       "      <td>19174.0</td>\n",
       "      <td>2740.0</td>\n",
       "      <td>2498.0</td>\n",
       "    </tr>\n",
       "    <tr>\n",
       "      <th>Amd</th>\n",
       "      <td>63.0</td>\n",
       "      <td>260.0</td>\n",
       "      <td>559.0</td>\n",
       "      <td>0.0</td>\n",
       "      <td>460.0</td>\n",
       "      <td>117.0</td>\n",
       "      <td>53.0</td>\n",
       "      <td>3.0</td>\n",
       "      <td>11.0</td>\n",
       "      <td>76.0</td>\n",
       "      <td>...</td>\n",
       "      <td>357.0</td>\n",
       "      <td>861.0</td>\n",
       "      <td>222.0</td>\n",
       "      <td>92.0</td>\n",
       "      <td>114.0</td>\n",
       "      <td>810.0</td>\n",
       "      <td>58.0</td>\n",
       "      <td>948.0</td>\n",
       "      <td>190.0</td>\n",
       "      <td>191.0</td>\n",
       "    </tr>\n",
       "  </tbody>\n",
       "</table>\n",
       "<p>4 rows × 200 columns</p>\n",
       "</div>"
      ],
      "text/plain": [
       "               2007scape   4chan  AdviceAnimals    Amd  Android  AskMen  \\\n",
       "subreddits                                                                \n",
       "2007scape            0.0   471.0          860.0   63.0    273.0   156.0   \n",
       "4chan              471.0     0.0         4517.0  260.0   1499.0   922.0   \n",
       "AdviceAnimals      860.0  4517.0            0.0  559.0   4151.0  2649.0   \n",
       "Amd                 63.0   260.0          559.0    0.0    460.0   117.0   \n",
       "\n",
       "               AskWomen  BabyBumps  BigBrother  Bitcoin   ...       tifu  \\\n",
       "subreddits                                                ...              \n",
       "2007scape          62.0        5.0        16.0     45.0   ...      430.0   \n",
       "4chan             361.0       17.0        53.0    233.0   ...     2220.0   \n",
       "AdviceAnimals    1329.0      141.0       221.0    657.0   ...     6365.0   \n",
       "Amd                53.0        3.0        11.0     76.0   ...      357.0   \n",
       "\n",
       "               todayilearned   trees  ukpolitics  unitedkingdom   videos  \\\n",
       "subreddits                                                                 \n",
       "2007scape             1095.0   458.0        80.0           89.0   1121.0   \n",
       "4chan                 5762.0  2100.0       363.0          513.0   5481.0   \n",
       "AdviceAnimals        21460.0  6250.0       786.0         1162.0  20097.0   \n",
       "Amd                    861.0   222.0        92.0          114.0    810.0   \n",
       "\n",
       "               whowouldwin  worldnews     wow  xboxone  \n",
       "subreddits                                              \n",
       "2007scape             65.0     1035.0   339.0    242.0  \n",
       "4chan                468.0     5544.0   945.0    812.0  \n",
       "AdviceAnimals        822.0    19174.0  2740.0   2498.0  \n",
       "Amd                   58.0      948.0   190.0    191.0  \n",
       "\n",
       "[4 rows x 200 columns]"
      ]
     },
     "execution_count": 71,
     "metadata": {},
     "output_type": "execute_result"
    }
   ],
   "source": [
    "#List of subreddits\n",
    "subreddit_list = df[\"subreddit\"].tolist()\n",
    "#Name the columns and the rows\n",
    "df_adj.columns = subreddit_list\n",
    "df_adj[\"subreddits\"] = df[\"subreddit\"].copy()\n",
    "df_adj.set_index(\"subreddits\", inplace = True)\n",
    "df_adj.head(4)"
   ]
  },
  {
   "cell_type": "markdown",
   "metadata": {},
   "source": [
    "So, we can easily interpret this data by seeing in the data frame (`df_adj`) the index and the column (or viceversa). \n",
    "\n",
    "For example, in the first row we see that the subreddit `2007scape` is connected with the subreddit `AskMen` by 156 users (there exists 156 users who have commented in both subreddits); in the fourth row we see that `Amd` subreddit is connected with `Android` by 460 users."
   ]
  },
  {
   "cell_type": "markdown",
   "metadata": {},
   "source": [
    "#### Visualization 1\n",
    "\n",
    "As it could not be otherwise, to visualize this data we have chosen a network graph. Because the quantity of nodes is big we have used a library called ggplot2 in R. You can see the code used for obtaining the graph in the notebook `./reddit-graph-visualizations-r/subreddit_network_pdf` based on the notebook of Max Woolf (@minimaxir): See it on [GitHub](https://github.com/minimaxir/reddit-graph).\n",
    "\n",
    "To run this notebook first compile the edge list from the adjacency matrix, as its preferred as a data structure for storing and representing sparse graphs:"
   ]
  },
  {
   "cell_type": "code",
   "execution_count": 72,
   "metadata": {},
   "outputs": [
    {
     "data": {
      "text/html": [
       "<div>\n",
       "<style scoped>\n",
       "    .dataframe tbody tr th:only-of-type {\n",
       "        vertical-align: middle;\n",
       "    }\n",
       "\n",
       "    .dataframe tbody tr th {\n",
       "        vertical-align: top;\n",
       "    }\n",
       "\n",
       "    .dataframe thead th {\n",
       "        text-align: right;\n",
       "    }\n",
       "</style>\n",
       "<table border=\"1\" class=\"dataframe\">\n",
       "  <thead>\n",
       "    <tr style=\"text-align: right;\">\n",
       "      <th></th>\n",
       "      <th>Subreddit1</th>\n",
       "      <th>Subreddit2</th>\n",
       "      <th>Weight</th>\n",
       "    </tr>\n",
       "  </thead>\n",
       "  <tbody>\n",
       "    <tr>\n",
       "      <th>0</th>\n",
       "      <td>2007scape</td>\n",
       "      <td>4chan</td>\n",
       "      <td>471.0</td>\n",
       "    </tr>\n",
       "    <tr>\n",
       "      <th>1</th>\n",
       "      <td>2007scape</td>\n",
       "      <td>4chan</td>\n",
       "      <td>471.0</td>\n",
       "    </tr>\n",
       "  </tbody>\n",
       "</table>\n",
       "</div>"
      ],
      "text/plain": [
       "  Subreddit1 Subreddit2  Weight\n",
       "0  2007scape      4chan   471.0\n",
       "1  2007scape      4chan   471.0"
      ]
     },
     "execution_count": 72,
     "metadata": {},
     "output_type": "execute_result"
    }
   ],
   "source": [
    "edge_list = pd.DataFrame([[subreddit_list[0], subreddit_list[1], adjacency_matrix[0,1]]], columns = [\"Subreddit1\", \"Subreddit2\", \"Weight\"])\n",
    "n_subreddits = len(subreddit_list)\n",
    "\n",
    "for i in range(n_subreddits):\n",
    "    for j in range(i+1, n_subreddits):\n",
    "        df_tmp = pd.DataFrame([[subreddit_list[i], subreddit_list[j], adjacency_matrix[i,j]]] , columns = [\"Subreddit1\", \"Subreddit2\", \"Weight\"])\n",
    "        edge_list = edge_list.append(df_tmp, ignore_index=True)\n",
    "\n",
    "edge_list.head(2)"
   ]
  },
  {
   "cell_type": "markdown",
   "metadata": {},
   "source": [
    "Delete the edges with less weights (otherwise the graph is not appreciable)"
   ]
  },
  {
   "cell_type": "code",
   "execution_count": 73,
   "metadata": {},
   "outputs": [
    {
     "name": "stdout",
     "output_type": "stream",
     "text": [
      "885.5705240942666\n"
     ]
    }
   ],
   "source": [
    "edge_list_filt = edge_list.copy()\n",
    "mean = edge_list_filt[\"Weight\"].mean()\n",
    "print(mean)\n",
    "edge_list_filt.drop(edge_list_filt[edge_list_filt.Weight < 900].index, inplace = True) #Removing soft links for seeing a better graph (remove edges)"
   ]
  },
  {
   "cell_type": "markdown",
   "metadata": {},
   "source": [
    "Finally export it into a `.csv` file and run the other notebook (manually because it is in R, not python)"
   ]
  },
  {
   "cell_type": "code",
   "execution_count": 74,
   "metadata": {
    "scrolled": true
   },
   "outputs": [],
   "source": [
    "#edge_list_filt[\"Weight\"] = edge_list[\"Weight\"] * 100 #To do a clearly visualization\n",
    "edge_list_filt.set_index(\"Subreddit1\", inplace = True) #In order to not export the indexes to the .csv\n",
    "edge_list_filt.to_csv(\"./reddit-graph-visualizations-r/\" + 'edge_list.csv')"
   ]
  },
  {
   "cell_type": "markdown",
   "metadata": {},
   "source": [
    "![title](reddit-graph-visualizations-r/subreddit-1.svg)"
   ]
  },
  {
   "cell_type": "markdown",
   "metadata": {},
   "source": [
    "This visualization does not seem to be very useful right now to study echo-chambers; however this kind of graph could be useful for doing a great poster for the presentation.\n",
    "\n",
    "Note: Default subreddits in this graph have been chosen manually; the color could be a great potential of this kind of graphs."
   ]
  },
  {
   "cell_type": "markdown",
   "metadata": {},
   "source": [
    "## Echo Chamber effect between political subreddits"
   ]
  },
  {
   "cell_type": "markdown",
   "metadata": {},
   "source": [
    "As finally our project has been conceived as a political study, and considering that one of the main problem to study and interpret our data is the amount of subreddits, we are going to focus on the political subreddits (that are in the top 200 subreddits):"
   ]
  },
  {
   "cell_type": "code",
   "execution_count": 76,
   "metadata": {},
   "outputs": [
    {
     "data": {
      "text/plain": [
       "['conspiracy',\n",
       " 'politics',\n",
       " 'hillaryclinton',\n",
       " 'SandersForPresident',\n",
       " 'PoliticalDiscussion',\n",
       " 'EnoughTrumpSpam',\n",
       " 'ukpolitics',\n",
       " 'The_Donald']"
      ]
     },
     "execution_count": 76,
     "metadata": {},
     "output_type": "execute_result"
    }
   ],
   "source": [
    "df_topics = pd.read_parquet(DATA_DIR + \"topics.parquet\")\n",
    "political_subreddits = df_topics[df_topics[\"topic\"] == \"politics\"][\"subreddit\"].tolist()\n",
    "political_subreddits"
   ]
  },
  {
   "cell_type": "markdown",
   "metadata": {},
   "source": [
    "We extract the new edge list and the new adjacency matrix (with just the political communities data) from the last one:"
   ]
  },
  {
   "cell_type": "code",
   "execution_count": 77,
   "metadata": {},
   "outputs": [],
   "source": [
    "#Edge list\n",
    "edge_list_politics = edge_list.loc[(edge_list['Subreddit1'].isin(political_subreddits)) & edge_list['Subreddit2'].isin(political_subreddits)]"
   ]
  },
  {
   "cell_type": "code",
   "execution_count": 78,
   "metadata": {},
   "outputs": [
    {
     "data": {
      "text/html": [
       "<div>\n",
       "<style scoped>\n",
       "    .dataframe tbody tr th:only-of-type {\n",
       "        vertical-align: middle;\n",
       "    }\n",
       "\n",
       "    .dataframe tbody tr th {\n",
       "        vertical-align: top;\n",
       "    }\n",
       "\n",
       "    .dataframe thead th {\n",
       "        text-align: right;\n",
       "    }\n",
       "</style>\n",
       "<table border=\"1\" class=\"dataframe\">\n",
       "  <thead>\n",
       "    <tr style=\"text-align: right;\">\n",
       "      <th></th>\n",
       "      <th>EnoughTrumpSpam</th>\n",
       "      <th>PoliticalDiscussion</th>\n",
       "      <th>SandersForPresident</th>\n",
       "      <th>The_Donald</th>\n",
       "      <th>conspiracy</th>\n",
       "      <th>hillaryclinton</th>\n",
       "      <th>politics</th>\n",
       "      <th>ukpolitics</th>\n",
       "    </tr>\n",
       "    <tr>\n",
       "      <th>subreddits</th>\n",
       "      <th></th>\n",
       "      <th></th>\n",
       "      <th></th>\n",
       "      <th></th>\n",
       "      <th></th>\n",
       "      <th></th>\n",
       "      <th></th>\n",
       "      <th></th>\n",
       "    </tr>\n",
       "  </thead>\n",
       "  <tbody>\n",
       "    <tr>\n",
       "      <th>EnoughTrumpSpam</th>\n",
       "      <td>0.0</td>\n",
       "      <td>1846.0</td>\n",
       "      <td>3960.0</td>\n",
       "      <td>5539.0</td>\n",
       "      <td>2332.0</td>\n",
       "      <td>1854.0</td>\n",
       "      <td>8333.0</td>\n",
       "      <td>413.0</td>\n",
       "    </tr>\n",
       "    <tr>\n",
       "      <th>PoliticalDiscussion</th>\n",
       "      <td>1846.0</td>\n",
       "      <td>0.0</td>\n",
       "      <td>3155.0</td>\n",
       "      <td>3038.0</td>\n",
       "      <td>1386.0</td>\n",
       "      <td>1744.0</td>\n",
       "      <td>6681.0</td>\n",
       "      <td>372.0</td>\n",
       "    </tr>\n",
       "    <tr>\n",
       "      <th>SandersForPresident</th>\n",
       "      <td>3960.0</td>\n",
       "      <td>3155.0</td>\n",
       "      <td>0.0</td>\n",
       "      <td>9975.0</td>\n",
       "      <td>3654.0</td>\n",
       "      <td>2971.0</td>\n",
       "      <td>16819.0</td>\n",
       "      <td>495.0</td>\n",
       "    </tr>\n",
       "    <tr>\n",
       "      <th>The_Donald</th>\n",
       "      <td>5539.0</td>\n",
       "      <td>3038.0</td>\n",
       "      <td>9975.0</td>\n",
       "      <td>0.0</td>\n",
       "      <td>5961.0</td>\n",
       "      <td>2911.0</td>\n",
       "      <td>21723.0</td>\n",
       "      <td>868.0</td>\n",
       "    </tr>\n",
       "    <tr>\n",
       "      <th>conspiracy</th>\n",
       "      <td>2332.0</td>\n",
       "      <td>1386.0</td>\n",
       "      <td>3654.0</td>\n",
       "      <td>5961.0</td>\n",
       "      <td>0.0</td>\n",
       "      <td>1155.0</td>\n",
       "      <td>7454.0</td>\n",
       "      <td>401.0</td>\n",
       "    </tr>\n",
       "    <tr>\n",
       "      <th>hillaryclinton</th>\n",
       "      <td>1854.0</td>\n",
       "      <td>1744.0</td>\n",
       "      <td>2971.0</td>\n",
       "      <td>2911.0</td>\n",
       "      <td>1155.0</td>\n",
       "      <td>0.0</td>\n",
       "      <td>4865.0</td>\n",
       "      <td>235.0</td>\n",
       "    </tr>\n",
       "    <tr>\n",
       "      <th>politics</th>\n",
       "      <td>8333.0</td>\n",
       "      <td>6681.0</td>\n",
       "      <td>16819.0</td>\n",
       "      <td>21723.0</td>\n",
       "      <td>7454.0</td>\n",
       "      <td>4865.0</td>\n",
       "      <td>0.0</td>\n",
       "      <td>1397.0</td>\n",
       "    </tr>\n",
       "    <tr>\n",
       "      <th>ukpolitics</th>\n",
       "      <td>413.0</td>\n",
       "      <td>372.0</td>\n",
       "      <td>495.0</td>\n",
       "      <td>868.0</td>\n",
       "      <td>401.0</td>\n",
       "      <td>235.0</td>\n",
       "      <td>1397.0</td>\n",
       "      <td>0.0</td>\n",
       "    </tr>\n",
       "  </tbody>\n",
       "</table>\n",
       "</div>"
      ],
      "text/plain": [
       "                     EnoughTrumpSpam  PoliticalDiscussion  \\\n",
       "subreddits                                                  \n",
       "EnoughTrumpSpam                  0.0               1846.0   \n",
       "PoliticalDiscussion           1846.0                  0.0   \n",
       "SandersForPresident           3960.0               3155.0   \n",
       "The_Donald                    5539.0               3038.0   \n",
       "conspiracy                    2332.0               1386.0   \n",
       "hillaryclinton                1854.0               1744.0   \n",
       "politics                      8333.0               6681.0   \n",
       "ukpolitics                     413.0                372.0   \n",
       "\n",
       "                     SandersForPresident  The_Donald  conspiracy  \\\n",
       "subreddits                                                         \n",
       "EnoughTrumpSpam                   3960.0      5539.0      2332.0   \n",
       "PoliticalDiscussion               3155.0      3038.0      1386.0   \n",
       "SandersForPresident                  0.0      9975.0      3654.0   \n",
       "The_Donald                        9975.0         0.0      5961.0   \n",
       "conspiracy                        3654.0      5961.0         0.0   \n",
       "hillaryclinton                    2971.0      2911.0      1155.0   \n",
       "politics                         16819.0     21723.0      7454.0   \n",
       "ukpolitics                         495.0       868.0       401.0   \n",
       "\n",
       "                     hillaryclinton  politics  ukpolitics  \n",
       "subreddits                                                 \n",
       "EnoughTrumpSpam              1854.0    8333.0       413.0  \n",
       "PoliticalDiscussion          1744.0    6681.0       372.0  \n",
       "SandersForPresident          2971.0   16819.0       495.0  \n",
       "The_Donald                   2911.0   21723.0       868.0  \n",
       "conspiracy                   1155.0    7454.0       401.0  \n",
       "hillaryclinton                  0.0    4865.0       235.0  \n",
       "politics                     4865.0       0.0      1397.0  \n",
       "ukpolitics                    235.0    1397.0         0.0  "
      ]
     },
     "execution_count": 78,
     "metadata": {},
     "output_type": "execute_result"
    }
   ],
   "source": [
    "#Adjacency matrix data frame\n",
    "df_politics_adj = df_adj.loc[df_adj.index.isin(political_subreddits)]\n",
    "political_subreddits = df_politics_adj.index.unique().tolist()  #For getting the list in the correct order\n",
    "df_politics_adj= df_politics_adj[political_subreddits].copy()\n",
    "A = df_politics_adj.values\n",
    "df_politics_adj"
   ]
  },
  {
   "cell_type": "markdown",
   "metadata": {},
   "source": [
    "Compute the number of different users who have commented in each subreddit:"
   ]
  },
  {
   "cell_type": "code",
   "execution_count": 79,
   "metadata": {},
   "outputs": [
    {
     "data": {
      "text/html": [
       "<div>\n",
       "<style scoped>\n",
       "    .dataframe tbody tr th:only-of-type {\n",
       "        vertical-align: middle;\n",
       "    }\n",
       "\n",
       "    .dataframe tbody tr th {\n",
       "        vertical-align: top;\n",
       "    }\n",
       "\n",
       "    .dataframe thead th {\n",
       "        text-align: right;\n",
       "    }\n",
       "</style>\n",
       "<table border=\"1\" class=\"dataframe\">\n",
       "  <thead>\n",
       "    <tr style=\"text-align: right;\">\n",
       "      <th></th>\n",
       "      <th>users</th>\n",
       "      <th>number_of_comments</th>\n",
       "      <th>number_of_users</th>\n",
       "    </tr>\n",
       "    <tr>\n",
       "      <th>subreddit</th>\n",
       "      <th></th>\n",
       "      <th></th>\n",
       "      <th></th>\n",
       "    </tr>\n",
       "  </thead>\n",
       "  <tbody>\n",
       "    <tr>\n",
       "      <th>2007scape</th>\n",
       "      <td>[PregnantMale, Mr_Abel, ExtremeWindyGuy, Slaye...</td>\n",
       "      <td>62157</td>\n",
       "      <td>1988</td>\n",
       "    </tr>\n",
       "    <tr>\n",
       "      <th>4chan</th>\n",
       "      <td>[matthewgstat, Boxxi, baconlover24, ChaseDPat,...</td>\n",
       "      <td>69400</td>\n",
       "      <td>8069</td>\n",
       "    </tr>\n",
       "  </tbody>\n",
       "</table>\n",
       "</div>"
      ],
      "text/plain": [
       "                                                       users  \\\n",
       "subreddit                                                      \n",
       "2007scape  [PregnantMale, Mr_Abel, ExtremeWindyGuy, Slaye...   \n",
       "4chan      [matthewgstat, Boxxi, baconlover24, ChaseDPat,...   \n",
       "\n",
       "           number_of_comments  number_of_users  \n",
       "subreddit                                       \n",
       "2007scape               62157             1988  \n",
       "4chan                   69400             8069  "
      ]
     },
     "execution_count": 79,
     "metadata": {},
     "output_type": "execute_result"
    }
   ],
   "source": [
    "df_number_of_users = df.copy()\n",
    "df_number_of_users[\"number_of_users\"] = df_number_of_users[\"users\"].apply(lambda x: len(x))\n",
    "df_number_of_users.set_index(\"subreddit\", inplace = True)\n",
    "df_number_of_users.head(2)"
   ]
  },
  {
   "cell_type": "markdown",
   "metadata": {},
   "source": [
    "And use the igraph library for plot the graph:\n",
    "\n",
    "#### Visualization 2 (From the edge list)"
   ]
  },
  {
   "cell_type": "code",
   "execution_count": null,
   "metadata": {
    "scrolled": false
   },
   "outputs": [],
   "source": [
    "g_politics_undirected = Graph()\n",
    "\n",
    "g_politics_undirected.add_vertices(len(political_subreddits))\n",
    "g_politics_undirected.vs['label'] = political_subreddits\n",
    "edg_list = []\n",
    "for i in range(len(political_subreddits)):\n",
    "    for j in range(len(political_subreddits)):\n",
    "        mask = (edge_list_politics[\"Subreddit1\"] == political_subreddits[i]) & (edge_list_politics[\"Subreddit2\"] == political_subreddits[j])\n",
    "        if len(edge_list_politics[mask]) > 0:\n",
    "            edg_list = edg_list +[(i,j)]\n",
    "            \n",
    "g_politics_undirected.add_edges(edg_list)\n",
    "g_politics_undirected.es['weight'] = edge_list_politics[\"Weight\"].values\n",
    "\n",
    "g_politics_undirected.es['widht'] = edge_list_politics[\"Weight\"].values * 0.0004\n",
    "#What this algorithm (fruchterman_reingold) do is printing the nodes which have less weight connection more distanciated\n",
    "layout = g_politics_undirected.layout_fruchterman_reingold(weights = g_politics_undirected.es['weight'])\n",
    "\n",
    "visual_style = {}\n",
    "visual_style[\"bbox\"] = (700, 600)\n",
    "visual_style[\"margin\"] = 90\n",
    "visual_style[\"vertex_size\"] = [df_number_of_users.loc[s][\"number_of_users\"] * 0.001 for s in political_subreddits]\n",
    "subreddit_politic_colors = ['red', 'orange', 'red', 'blue', 'orange', 'red','orange', 'green']\n",
    "visual_style[\"vertex_color\"] = subreddit_politic_colors\n",
    "  \n",
    "out = plot(g_politics_undirected, layout = layout, **visual_style, edge_width = g_politics_undirected.es['widht'])\n",
    "out.save(VIS_DIR + 'visualization2.png')"
   ]
  },
  {
   "cell_type": "markdown",
   "metadata": {},
   "source": [
    "![title](notebook-graphs-visualizations/visualization2.png)"
   ]
  },
  {
   "cell_type": "markdown",
   "metadata": {},
   "source": [
    "In this graph:\n",
    "* Node size represents the number of users who have commented in the respective subreddit.\n",
    "* Edge width represents the number of users who have commented in both subreddits. \n",
    "* The layout algorithm (fruchterman_reingold) prints the nodes which have less weight connection further apart (more about it [here](https://github.com/gephi/gephi/wiki/Fruchterman-Reingold)).\n",
    "\n",
    "We can clearly see that the `ukpolitics` subreddit is far away from the others due to its connection size being small. This is reasonable since it is the only one which is not focused on US politics, so we see that there are not so much users who comment about both UK and US politics.\n",
    "\n",
    "On the other hand we see that `politics` is the most connected subreddit followed by `The_Donald`. So what we conclude is that the subreddits which have more users usually have more users in common with the others, which makes sense. Unfortunately this is not revealing anything about the echo-chamber effect going on in there.\n",
    "\n",
    "So, let's try a different approach: we'll assign a \"home\" subreddit to ech use, then plot a directed graph in which the width of every edge is assigned in terms of the number of users in both origin and destination subreddits divided by the total number of users in the origin; so computing the percentage of users who have commented in the origin subreddit who have also commented in the destination:"
   ]
  },
  {
   "cell_type": "markdown",
   "metadata": {},
   "source": [
    "### Edge width ~ Percentage of users of the origin subreddit who have also commented in the destination subreddit\n",
    "First let's compute the new adjacency matrix; as we have described previously, now the weights are `Number_of_users_commenting_in_both/Number_of_users_commenting_in_origin`"
   ]
  },
  {
   "cell_type": "code",
   "execution_count": 81,
   "metadata": {},
   "outputs": [
    {
     "data": {
      "text/html": [
       "<div>\n",
       "<style scoped>\n",
       "    .dataframe tbody tr th:only-of-type {\n",
       "        vertical-align: middle;\n",
       "    }\n",
       "\n",
       "    .dataframe tbody tr th {\n",
       "        vertical-align: top;\n",
       "    }\n",
       "\n",
       "    .dataframe thead th {\n",
       "        text-align: right;\n",
       "    }\n",
       "</style>\n",
       "<table border=\"1\" class=\"dataframe\">\n",
       "  <thead>\n",
       "    <tr style=\"text-align: right;\">\n",
       "      <th></th>\n",
       "      <th>EnoughTrumpSpam</th>\n",
       "      <th>PoliticalDiscussion</th>\n",
       "      <th>SandersForPresident</th>\n",
       "      <th>The_Donald</th>\n",
       "      <th>conspiracy</th>\n",
       "      <th>hillaryclinton</th>\n",
       "      <th>politics</th>\n",
       "      <th>ukpolitics</th>\n",
       "    </tr>\n",
       "    <tr>\n",
       "      <th>subreddits</th>\n",
       "      <th></th>\n",
       "      <th></th>\n",
       "      <th></th>\n",
       "      <th></th>\n",
       "      <th></th>\n",
       "      <th></th>\n",
       "      <th></th>\n",
       "      <th></th>\n",
       "    </tr>\n",
       "  </thead>\n",
       "  <tbody>\n",
       "    <tr>\n",
       "      <th>EnoughTrumpSpam</th>\n",
       "      <td>0.000000</td>\n",
       "      <td>15.388463</td>\n",
       "      <td>33.011004</td>\n",
       "      <td>46.173725</td>\n",
       "      <td>19.439813</td>\n",
       "      <td>15.455152</td>\n",
       "      <td>69.464822</td>\n",
       "      <td>3.442814</td>\n",
       "    </tr>\n",
       "    <tr>\n",
       "      <th>PoliticalDiscussion</th>\n",
       "      <td>21.328712</td>\n",
       "      <td>0.000000</td>\n",
       "      <td>36.452917</td>\n",
       "      <td>35.101098</td>\n",
       "      <td>16.013865</td>\n",
       "      <td>20.150202</td>\n",
       "      <td>77.192374</td>\n",
       "      <td>4.298094</td>\n",
       "    </tr>\n",
       "    <tr>\n",
       "      <th>SandersForPresident</th>\n",
       "      <td>14.330692</td>\n",
       "      <td>11.417508</td>\n",
       "      <td>0.000000</td>\n",
       "      <td>36.098144</td>\n",
       "      <td>13.223320</td>\n",
       "      <td>10.751638</td>\n",
       "      <td>60.865632</td>\n",
       "      <td>1.791336</td>\n",
       "    </tr>\n",
       "    <tr>\n",
       "      <th>The_Donald</th>\n",
       "      <td>10.910416</td>\n",
       "      <td>5.984084</td>\n",
       "      <td>19.648204</td>\n",
       "      <td>0.000000</td>\n",
       "      <td>11.741648</td>\n",
       "      <td>5.733927</td>\n",
       "      <td>42.788765</td>\n",
       "      <td>1.709738</td>\n",
       "    </tr>\n",
       "    <tr>\n",
       "      <th>conspiracy</th>\n",
       "      <td>16.224866</td>\n",
       "      <td>9.643081</td>\n",
       "      <td>25.422668</td>\n",
       "      <td>41.473596</td>\n",
       "      <td>0.000000</td>\n",
       "      <td>8.035901</td>\n",
       "      <td>51.861129</td>\n",
       "      <td>2.789953</td>\n",
       "    </tr>\n",
       "    <tr>\n",
       "      <th>hillaryclinton</th>\n",
       "      <td>27.622169</td>\n",
       "      <td>25.983313</td>\n",
       "      <td>44.264005</td>\n",
       "      <td>43.370083</td>\n",
       "      <td>17.207986</td>\n",
       "      <td>0.000000</td>\n",
       "      <td>72.482122</td>\n",
       "      <td>3.501192</td>\n",
       "    </tr>\n",
       "    <tr>\n",
       "      <th>politics</th>\n",
       "      <td>10.536098</td>\n",
       "      <td>8.447338</td>\n",
       "      <td>21.265647</td>\n",
       "      <td>27.466178</td>\n",
       "      <td>9.424706</td>\n",
       "      <td>6.151220</td>\n",
       "      <td>0.000000</td>\n",
       "      <td>1.766342</td>\n",
       "    </tr>\n",
       "    <tr>\n",
       "      <th>ukpolitics</th>\n",
       "      <td>10.522293</td>\n",
       "      <td>9.477707</td>\n",
       "      <td>12.611465</td>\n",
       "      <td>22.114650</td>\n",
       "      <td>10.216561</td>\n",
       "      <td>5.987261</td>\n",
       "      <td>35.592357</td>\n",
       "      <td>0.000000</td>\n",
       "    </tr>\n",
       "  </tbody>\n",
       "</table>\n",
       "</div>"
      ],
      "text/plain": [
       "                     EnoughTrumpSpam  PoliticalDiscussion  \\\n",
       "subreddits                                                  \n",
       "EnoughTrumpSpam             0.000000            15.388463   \n",
       "PoliticalDiscussion        21.328712             0.000000   \n",
       "SandersForPresident        14.330692            11.417508   \n",
       "The_Donald                 10.910416             5.984084   \n",
       "conspiracy                 16.224866             9.643081   \n",
       "hillaryclinton             27.622169            25.983313   \n",
       "politics                   10.536098             8.447338   \n",
       "ukpolitics                 10.522293             9.477707   \n",
       "\n",
       "                     SandersForPresident  The_Donald  conspiracy  \\\n",
       "subreddits                                                         \n",
       "EnoughTrumpSpam                33.011004   46.173725   19.439813   \n",
       "PoliticalDiscussion            36.452917   35.101098   16.013865   \n",
       "SandersForPresident             0.000000   36.098144   13.223320   \n",
       "The_Donald                     19.648204    0.000000   11.741648   \n",
       "conspiracy                     25.422668   41.473596    0.000000   \n",
       "hillaryclinton                 44.264005   43.370083   17.207986   \n",
       "politics                       21.265647   27.466178    9.424706   \n",
       "ukpolitics                     12.611465   22.114650   10.216561   \n",
       "\n",
       "                     hillaryclinton   politics  ukpolitics  \n",
       "subreddits                                                  \n",
       "EnoughTrumpSpam           15.455152  69.464822    3.442814  \n",
       "PoliticalDiscussion       20.150202  77.192374    4.298094  \n",
       "SandersForPresident       10.751638  60.865632    1.791336  \n",
       "The_Donald                 5.733927  42.788765    1.709738  \n",
       "conspiracy                 8.035901  51.861129    2.789953  \n",
       "hillaryclinton             0.000000  72.482122    3.501192  \n",
       "politics                   6.151220   0.000000    1.766342  \n",
       "ukpolitics                 5.987261  35.592357    0.000000  "
      ]
     },
     "execution_count": 81,
     "metadata": {},
     "output_type": "execute_result"
    }
   ],
   "source": [
    "df_for_total_users = df.set_index(\"subreddit\").copy()\n",
    "\n",
    "df_politics_adj_percentages = df_politics_adj.copy()\n",
    "for i in df_politics_adj_percentages.index:\n",
    "    total_users = len(df_for_total_users.loc[i].users)\n",
    "    df_politics_adj_percentages.loc[i] = df_politics_adj_percentages.loc[i] / total_users * 100\n",
    "df_politics_adj_percentages"
   ]
  },
  {
   "cell_type": "markdown",
   "metadata": {},
   "source": [
    "Now we have more interesting data for the echo chamber effect study!  \n",
    "Analyzing the data frame row by row, each row contains the percentage of people who have commented in both the index and the column subreddit (of this row) w.r.t. the people who have commented in the index subreddit; i.e. \n",
    "$(i,j)=100\\frac{users_{i,j}}{users_i}$"
   ]
  },
  {
   "cell_type": "code",
   "execution_count": 82,
   "metadata": {},
   "outputs": [
    {
     "data": {
      "text/plain": [
       "22.167321254896528"
      ]
     },
     "execution_count": 82,
     "metadata": {},
     "output_type": "execute_result"
    }
   ],
   "source": [
    "A_perc = df_politics_adj_percentages.values \n",
    "A_perc[A_perc.nonzero()].mean()"
   ]
  },
  {
   "cell_type": "markdown",
   "metadata": {},
   "source": [
    "So we see that the percentage of people who have commented in two given subreddits usually is small (less than 25%). This means that the different political communities (subreddits) in Reddit are not usually very well connected, at least not those which were in the top 200 in 2016. This makes a case for calling them echo chambers, since their interaction with others is limited, even in an environment where 'interacting' (commenting in another sub) takes very little effort. \n",
    "\n",
    "In order to strengthen this fact (that the political communities are not well connected), we compute the percentage of people who have commented in more than one of these subreddits:"
   ]
  },
  {
   "cell_type": "code",
   "execution_count": 83,
   "metadata": {},
   "outputs": [
    {
     "name": "stdout",
     "output_type": "stream",
     "text": [
      "0.3475198537753687\n"
     ]
    }
   ],
   "source": [
    "df_users_politic = df_number_of_users.loc[political_subreddits].copy()\n",
    "total_users = 0\n",
    "users_in_more_1_subr = 0  #Users who have commented in more than one subreddit\n",
    "for i in range(len(political_subreddits)-1):\n",
    "    for u in df_users_politic.loc[political_subreddits[i]][\"users\"]:\n",
    "        isin_other_subreddit = False\n",
    "        for j in range(i+1, len(political_subreddits)):\n",
    "            if u in df_users_politic.loc[political_subreddits[j]][\"users\"]:\n",
    "                isin_other_subreddit = True\n",
    "                df_users_politic.loc[political_subreddits[j]][\"users\"].remove(u)\n",
    "        if isin_other_subreddit:\n",
    "            users_in_more_1_subr = users_in_more_1_subr+1\n",
    "        total_users = total_users +1\n",
    "\n",
    "print(users_in_more_1_subr/total_users) "
   ]
  },
  {
   "cell_type": "markdown",
   "metadata": {},
   "source": [
    "Just the 14% of the users who commented in one of the political subreddits have commented in more than one! This fact strengthen our claim."
   ]
  },
  {
   "cell_type": "markdown",
   "metadata": {},
   "source": [
    "Finally, with these data we can also analyze which of these political subreddits is interacting more or less with the others (and so which of the communities are deeper echo chambers). We do that after plotting the visualization:"
   ]
  },
  {
   "cell_type": "markdown",
   "metadata": {},
   "source": [
    "#### Visualization 3 "
   ]
  },
  {
   "cell_type": "code",
   "execution_count": null,
   "metadata": {
    "scrolled": false
   },
   "outputs": [],
   "source": [
    "g_politics_subreddits_2 = Graph().Adjacency((A_perc > 0).tolist())\n",
    "# Add edge weights and node labels.\n",
    "g_politics_subreddits_2.es['weight'] = A[A.nonzero()]\n",
    "g_politics_subreddits_2.vs['label'] = political_subreddits\n",
    "g_politics_subreddits_2.es['widht'] = A_perc[A_perc.nonzero()] *0.07\n",
    "\n",
    "visual_style = {}\n",
    "visual_style[\"bbox\"] = (800, 600)\n",
    "visual_style[\"margin\"] = 100\n",
    "visual_style[\"vertex_size\"] = [df_number_of_users.loc[s][\"number_of_users\"] * 0.001 for s in political_subreddits]\n",
    "visual_style[\"edge_arrow_size\"] = A_perc[A_perc.nonzero()] * 0.02\n",
    "visual_style[\"vertex_color\"] = subreddit_politic_colors\n",
    "\n",
    "edges_colors = []\n",
    "edge_list = g_politics_subreddits_2.get_edgelist()\n",
    "for edge in edge_list:\n",
    "    edges_colors = edges_colors + [subreddit_politic_colors[edge[0]]]\n",
    "    \n",
    "visual_style[\"edge_color\"] = edges_colors\n",
    "\n",
    "#What this algorithm (fruchterman_reingold) do is printing the nodes which have less weight connection more distanciated\n",
    "layout = g_politics_subreddits_2.layout_fruchterman_reingold(weights = g_politics_subreddits_2.es['weight'])  \n",
    "out = plot(g_politics_subreddits_2, **visual_style, layout = layout, edge_width = g_politics_subreddits_2.es['widht'])\n",
    "out.save(VIS_DIR + 'visualization3.png') "
   ]
  },
  {
   "cell_type": "markdown",
   "metadata": {},
   "source": [
    "![title](notebook-graphs-visualizations/visualization3.png)"
   ]
  },
  {
   "cell_type": "markdown",
   "metadata": {},
   "source": [
    "In this graph:\n",
    "* Edge width is proportional to the percentage of users of the origin subreddit who have also commented in the destination subreddit.\n",
    "* Edge color is the color of the origin subreddit.\n",
    "* Node size and layout algorithm same as the last one. Note that the layout does not work proportionately (as the edges width)\n",
    "\n",
    "As we have seen just before the visualization, the connection between the subreddits is soft (there are few users in proportion commenting in two determined subreddits). Now the size of the subreddits is not directly influencing the measure of the connection between then; so we see that there are not such differences in edge width comparing with the previous visualization. \n",
    "\n",
    "This graph allows us to compare how are the interactions of the different subreddits with the others and deduct some conclusions: \n",
    "* We can see that the edges stemming from `The_Donald` (the blue ones) are very thin in comparision with the others, and that its widest edge is that whose origin is `Politics`, but it is still small. So we can interpret that the echo chamber in `The_Donald` is deeper relative to others since the percentage of the users who interact with other subreddits is very low.\n",
    "* The `politics` subreddit is the one which receives widest edges. We could think that this is because of its size; however the `The_Donald` subreddit does not have such wide edges. So we can conclude that the `politics` subreddit is the one such that the other ones interact the most with. \n",
    "* We see a problem when interpreting some of the results, since we do not know which community is interacting with the other; so we see the need of classifying the people between the communities. Even though we know that one user can belongs to more than one community, we are going to try to guess which of them is the prefered by each user (see next step)."
   ]
  },
  {
   "cell_type": "markdown",
   "metadata": {},
   "source": [
    "### Last step - Classifying users by their main community - Karma classification"
   ]
  },
  {
   "cell_type": "markdown",
   "metadata": {},
   "source": [
    "Next step is to try and guess each user's main subreddit. Assuming that every one of the subreddits have their own \"personality\" and features, we determine which of them represents each user (with the idea of making the abstraction that a certain subreddit owns a certain number of users). \n",
    "\n",
    "To do this we are going to see in which of the subreddits the user has more karma (meaning this that their opinion is well accepted by the rest of the community) and by the number of comments posted in each subreddit (it is reasonable to think that people who usually post in an specific subreddit is closer to the popular opinion in that subreddit; else this user could be revealed by the score of his comments!) "
   ]
  },
  {
   "cell_type": "markdown",
   "metadata": {},
   "source": [
    "Let's obtain first a data frame with all the neccesary data. First we extract a list with all the users which have posted commments in some of these subreddits:"
   ]
  },
  {
   "cell_type": "code",
   "execution_count": 85,
   "metadata": {},
   "outputs": [
    {
     "data": {
      "text/plain": [
       "129036"
      ]
     },
     "execution_count": 85,
     "metadata": {},
     "output_type": "execute_result"
    }
   ],
   "source": [
    "users_list = []\n",
    "for u in df_users_politic[\"users\"]:\n",
    "    users_list = users_list + u\n",
    "    \n",
    "users_list = list(set(users_list)) #Drop duplicates\n",
    "len(users_list)"
   ]
  },
  {
   "cell_type": "markdown",
   "metadata": {},
   "source": [
    "So, we have to classify every user on this list. The idea is, for every user and for each political subreddit determine a value which represents how much the user belongs to it; finally we classify the user according to the gratest value. If there is a tie we add this user to both(or more) subs:\n",
    "\n",
    "\n",
    "Note: Every comment posted in a certain subreddit add +1 point for belonging to it. The score is just added (do not mater if it is positive or negative). With this way of classification we are giving more importance to the score (in case there are great values)."
   ]
  },
  {
   "cell_type": "code",
   "execution_count": 86,
   "metadata": {},
   "outputs": [],
   "source": [
    "#We use the original data frame in order to get the score and the number of comments in each political subreddit!!\n",
    "df_spark.select(\"author\", \"score\", \"subreddit\").write.mode('overwrite').parquet(DATA_DIR + \"temp1.parquet\")\n",
    "df_pd2 = pd.read_parquet(DATA_DIR + \"temp1.parquet\")"
   ]
  },
  {
   "cell_type": "code",
   "execution_count": 87,
   "metadata": {
    "scrolled": true
   },
   "outputs": [],
   "source": [
    "#We are going to classify just a certain number of user (chosen randomly) and extrapolate these results to the vizualizations.\n",
    "n_users_to_classify = 10000\n",
    "users_list_s = random.sample(users_list, n_users_to_classify)\n",
    "df_classifying = df_pd2.loc[df_pd2[\"subreddit\"].isin(political_subreddits) & df_pd2[\"author\"].isin(users_list_s)]"
   ]
  },
  {
   "cell_type": "code",
   "execution_count": 88,
   "metadata": {},
   "outputs": [
    {
     "data": {
      "text/plain": [
       "(524817, 3)"
      ]
     },
     "execution_count": 88,
     "metadata": {},
     "output_type": "execute_result"
    }
   ],
   "source": [
    "df_classifying.shape #Almost 1,5 million comments written by 20000 different users"
   ]
  },
  {
   "cell_type": "code",
   "execution_count": 89,
   "metadata": {},
   "outputs": [],
   "source": [
    "def users_communities(political_subreddits, df_classifying, users_list_s):\n",
    "    df_classifier = pd.DataFrame(index = political_subreddits)\n",
    "    df_classifier[\"Users_list\"] = [list() for x in range(len(df_classifier.index))]\n",
    "\n",
    "    for u in users_list_s:\n",
    "        subreddit_values = np.zeros(len(political_subreddits))\n",
    "        df_user_comments = df_classifying[df_classifying[\"author\"] == u]\n",
    "        for index, row in df_user_comments.iterrows():\n",
    "            value = 1\n",
    "            value = value + row.score\n",
    "            sreddit_index = political_subreddits.index(row.subreddit)\n",
    "            subreddit_values[sreddit_index] = subreddit_values[sreddit_index] + value\n",
    "        greatest_value = subreddit_values.max()\n",
    "        for i in range(len(subreddit_values)):         #Necessary in case there is a tie\n",
    "            if(greatest_value > 0 and subreddit_values[i] == greatest_value):\n",
    "                df_classifier[\"Users_list\"].loc[political_subreddits[i]] = df_classifier[\"Users_list\"].loc[political_subreddits[i]] + [u]\n",
    "\n",
    "    return df_classifier"
   ]
  },
  {
   "cell_type": "markdown",
   "metadata": {},
   "source": [
    "Uncomment the following lines for get the parquet file with the classification (they are comment in order to not run this long part every time we rerun the notebook):"
   ]
  },
  {
   "cell_type": "code",
   "execution_count": 90,
   "metadata": {},
   "outputs": [],
   "source": [
    "#df_classifier = users_communities(political_subreddits, df_classifying, users_list_s)"
   ]
  },
  {
   "cell_type": "code",
   "execution_count": 91,
   "metadata": {
    "scrolled": true
   },
   "outputs": [],
   "source": [
    "#df_classifier[\"Number_of_Users_Belonging\"] = [len(i) for i in df_classifier[\"Users_list\"]]\n",
    "#df_classifier.to_parquet(DATA_DIR + \"classifier_politics.parquet\")"
   ]
  },
  {
   "cell_type": "code",
   "execution_count": 92,
   "metadata": {},
   "outputs": [
    {
     "data": {
      "text/html": [
       "<div>\n",
       "<style scoped>\n",
       "    .dataframe tbody tr th:only-of-type {\n",
       "        vertical-align: middle;\n",
       "    }\n",
       "\n",
       "    .dataframe tbody tr th {\n",
       "        vertical-align: top;\n",
       "    }\n",
       "\n",
       "    .dataframe thead th {\n",
       "        text-align: right;\n",
       "    }\n",
       "</style>\n",
       "<table border=\"1\" class=\"dataframe\">\n",
       "  <thead>\n",
       "    <tr style=\"text-align: right;\">\n",
       "      <th></th>\n",
       "      <th>Users_list</th>\n",
       "      <th>Number_of_Users_Belonging</th>\n",
       "    </tr>\n",
       "  </thead>\n",
       "  <tbody>\n",
       "    <tr>\n",
       "      <th>EnoughTrumpSpam</th>\n",
       "      <td>[kyle77745, TheComplainer11, Spreebald, DangOR...</td>\n",
       "      <td>364</td>\n",
       "    </tr>\n",
       "    <tr>\n",
       "      <th>PoliticalDiscussion</th>\n",
       "      <td>[Pismiire, Jackle13, BoomerThooner, Kincar, Bl...</td>\n",
       "      <td>248</td>\n",
       "    </tr>\n",
       "    <tr>\n",
       "      <th>SandersForPresident</th>\n",
       "      <td>[colddustgirl, capnmalreynolds, youwill_neverf...</td>\n",
       "      <td>1043</td>\n",
       "    </tr>\n",
       "    <tr>\n",
       "      <th>The_Donald</th>\n",
       "      <td>[corruptkitties69, countertrollsource, littlea...</td>\n",
       "      <td>2781</td>\n",
       "    </tr>\n",
       "    <tr>\n",
       "      <th>conspiracy</th>\n",
       "      <td>[WillRead4Filth, stratfu, Gnomikos, Plankzt, r...</td>\n",
       "      <td>584</td>\n",
       "    </tr>\n",
       "    <tr>\n",
       "      <th>hillaryclinton</th>\n",
       "      <td>[notspen, andeleidun, iustitia8, whiteblaze, t...</td>\n",
       "      <td>150</td>\n",
       "    </tr>\n",
       "    <tr>\n",
       "      <th>politics</th>\n",
       "      <td>[ManSpider95, AsbestosMan24, Wrightde, GoingOf...</td>\n",
       "      <td>4367</td>\n",
       "    </tr>\n",
       "    <tr>\n",
       "      <th>ukpolitics</th>\n",
       "      <td>[CrumpetNinja, Ayy_lol, CasPalmer, djcritch, K...</td>\n",
       "      <td>193</td>\n",
       "    </tr>\n",
       "  </tbody>\n",
       "</table>\n",
       "</div>"
      ],
      "text/plain": [
       "                                                            Users_list  \\\n",
       "EnoughTrumpSpam      [kyle77745, TheComplainer11, Spreebald, DangOR...   \n",
       "PoliticalDiscussion  [Pismiire, Jackle13, BoomerThooner, Kincar, Bl...   \n",
       "SandersForPresident  [colddustgirl, capnmalreynolds, youwill_neverf...   \n",
       "The_Donald           [corruptkitties69, countertrollsource, littlea...   \n",
       "conspiracy           [WillRead4Filth, stratfu, Gnomikos, Plankzt, r...   \n",
       "hillaryclinton       [notspen, andeleidun, iustitia8, whiteblaze, t...   \n",
       "politics             [ManSpider95, AsbestosMan24, Wrightde, GoingOf...   \n",
       "ukpolitics           [CrumpetNinja, Ayy_lol, CasPalmer, djcritch, K...   \n",
       "\n",
       "                     Number_of_Users_Belonging  \n",
       "EnoughTrumpSpam                            364  \n",
       "PoliticalDiscussion                        248  \n",
       "SandersForPresident                       1043  \n",
       "The_Donald                                2781  \n",
       "conspiracy                                 584  \n",
       "hillaryclinton                             150  \n",
       "politics                                  4367  \n",
       "ukpolitics                                 193  "
      ]
     },
     "execution_count": 92,
     "metadata": {},
     "output_type": "execute_result"
    }
   ],
   "source": [
    "df_classifier = pd.read_parquet(DATA_DIR + \"classifier_politics.parquet\")\n",
    "df_classifier"
   ]
  },
  {
   "cell_type": "markdown",
   "metadata": {},
   "source": [
    "Let's plot a bar chart:"
   ]
  },
  {
   "cell_type": "code",
   "execution_count": 93,
   "metadata": {},
   "outputs": [
    {
     "data": {
      "text/plain": [
       "<matplotlib.axes._subplots.AxesSubplot at 0x20db6b09b00>"
      ]
     },
     "execution_count": 93,
     "metadata": {},
     "output_type": "execute_result"
    },
    {
     "data": {
      "image/png": "[encoded data removed]",
      "text/plain": [
       "<Figure size 432x288 with 1 Axes>"
      ]
     },
     "metadata": {
      "needs_background": "light"
     },
     "output_type": "display_data"
    }
   ],
   "source": [
    "df_tmp = df_classifier\n",
    "df_tmp['Subreddits'] = df_tmp.index\n",
    "df_tmp.plot(kind=\"barh\", x = \"Subreddits\", y = \"Number_of_Users_Belonging\")"
   ]
  },
  {
   "cell_type": "markdown",
   "metadata": {},
   "source": [
    "We see that the most of users have been classified in the `politics` or in the `The_Donald` subreddit. The third one is `SandersForPresident`, with much more times the users of `hillaryclinton`."
   ]
  },
  {
   "cell_type": "markdown",
   "metadata": {},
   "source": [
    "With the classification done, it is time to do the last graph of this kind:\n",
    "\n",
    "First we need a new adjacency matrix, where the value in the position subreddit1-subreddit2 mean the quantity of users who are from the subreddit1 community and who have posted in the subreddit2. (For compute this matrix we use the dataframe `df_users_by_subreddit` obtained at the beginning of this section, which have the list of users who have posted in each subreddit):"
   ]
  },
  {
   "cell_type": "code",
   "execution_count": 105,
   "metadata": {
    "scrolled": true
   },
   "outputs": [
    {
     "data": {
      "text/html": [
       "<div>\n",
       "<style scoped>\n",
       "    .dataframe tbody tr th:only-of-type {\n",
       "        vertical-align: middle;\n",
       "    }\n",
       "\n",
       "    .dataframe tbody tr th {\n",
       "        vertical-align: top;\n",
       "    }\n",
       "\n",
       "    .dataframe thead th {\n",
       "        text-align: right;\n",
       "    }\n",
       "</style>\n",
       "<table border=\"1\" class=\"dataframe\">\n",
       "  <thead>\n",
       "    <tr style=\"text-align: right;\">\n",
       "      <th></th>\n",
       "      <th>users</th>\n",
       "      <th>number_of_comments</th>\n",
       "    </tr>\n",
       "    <tr>\n",
       "      <th>subreddit</th>\n",
       "      <th></th>\n",
       "      <th></th>\n",
       "    </tr>\n",
       "  </thead>\n",
       "  <tbody>\n",
       "    <tr>\n",
       "      <th>2007scape</th>\n",
       "      <td>[PregnantMale, Mr_Abel, ExtremeWindyGuy, Slaye...</td>\n",
       "      <td>62157</td>\n",
       "    </tr>\n",
       "    <tr>\n",
       "      <th>4chan</th>\n",
       "      <td>[matthewgstat, Boxxi, baconlover24, ChaseDPat,...</td>\n",
       "      <td>69400</td>\n",
       "    </tr>\n",
       "  </tbody>\n",
       "</table>\n",
       "</div>"
      ],
      "text/plain": [
       "                                                       users  \\\n",
       "subreddit                                                      \n",
       "2007scape  [PregnantMale, Mr_Abel, ExtremeWindyGuy, Slaye...   \n",
       "4chan      [matthewgstat, Boxxi, baconlover24, ChaseDPat,...   \n",
       "\n",
       "           number_of_comments  \n",
       "subreddit                      \n",
       "2007scape               62157  \n",
       "4chan                   69400  "
      ]
     },
     "execution_count": 105,
     "metadata": {},
     "output_type": "execute_result"
    }
   ],
   "source": [
    "df_users_by_subreddit.set_index(\"subreddit\", inplace = True)\n",
    "df_users_by_subreddit.head(2)"
   ]
  },
  {
   "cell_type": "code",
   "execution_count": 106,
   "metadata": {},
   "outputs": [],
   "source": [
    "df_pol_final = df_politics_adj.copy()\n",
    "for i in df_pol_final.index:\n",
    "    for j in df_pol_final.columns:\n",
    "        if i == j:\n",
    "            df_pol_final.loc[i][j]=0\n",
    "        else:\n",
    "            df_pol_final.loc[i][j] = len(list(set(df_classifier.loc[i][\"Users_list\"]) & set(df_users_by_subreddit.loc[j][\"users\"])))"
   ]
  },
  {
   "cell_type": "code",
   "execution_count": 107,
   "metadata": {},
   "outputs": [
    {
     "data": {
      "text/html": [
       "<div>\n",
       "<style scoped>\n",
       "    .dataframe tbody tr th:only-of-type {\n",
       "        vertical-align: middle;\n",
       "    }\n",
       "\n",
       "    .dataframe tbody tr th {\n",
       "        vertical-align: top;\n",
       "    }\n",
       "\n",
       "    .dataframe thead th {\n",
       "        text-align: right;\n",
       "    }\n",
       "</style>\n",
       "<table border=\"1\" class=\"dataframe\">\n",
       "  <thead>\n",
       "    <tr style=\"text-align: right;\">\n",
       "      <th></th>\n",
       "      <th>EnoughTrumpSpam</th>\n",
       "      <th>PoliticalDiscussion</th>\n",
       "      <th>SandersForPresident</th>\n",
       "      <th>The_Donald</th>\n",
       "      <th>conspiracy</th>\n",
       "      <th>hillaryclinton</th>\n",
       "      <th>politics</th>\n",
       "      <th>ukpolitics</th>\n",
       "    </tr>\n",
       "    <tr>\n",
       "      <th>subreddits</th>\n",
       "      <th></th>\n",
       "      <th></th>\n",
       "      <th></th>\n",
       "      <th></th>\n",
       "      <th></th>\n",
       "      <th></th>\n",
       "      <th></th>\n",
       "      <th></th>\n",
       "    </tr>\n",
       "  </thead>\n",
       "  <tbody>\n",
       "    <tr>\n",
       "      <th>EnoughTrumpSpam</th>\n",
       "      <td>0.0</td>\n",
       "      <td>12.0</td>\n",
       "      <td>54.0</td>\n",
       "      <td>74.0</td>\n",
       "      <td>27.0</td>\n",
       "      <td>27.0</td>\n",
       "      <td>142.0</td>\n",
       "      <td>5.0</td>\n",
       "    </tr>\n",
       "    <tr>\n",
       "      <th>PoliticalDiscussion</th>\n",
       "      <td>22.0</td>\n",
       "      <td>0.0</td>\n",
       "      <td>36.0</td>\n",
       "      <td>32.0</td>\n",
       "      <td>8.0</td>\n",
       "      <td>22.0</td>\n",
       "      <td>113.0</td>\n",
       "      <td>11.0</td>\n",
       "    </tr>\n",
       "    <tr>\n",
       "      <th>SandersForPresident</th>\n",
       "      <td>60.0</td>\n",
       "      <td>30.0</td>\n",
       "      <td>0.0</td>\n",
       "      <td>162.0</td>\n",
       "      <td>59.0</td>\n",
       "      <td>46.0</td>\n",
       "      <td>346.0</td>\n",
       "      <td>3.0</td>\n",
       "    </tr>\n",
       "    <tr>\n",
       "      <th>The_Donald</th>\n",
       "      <td>147.0</td>\n",
       "      <td>65.0</td>\n",
       "      <td>310.0</td>\n",
       "      <td>0.0</td>\n",
       "      <td>205.0</td>\n",
       "      <td>83.0</td>\n",
       "      <td>761.0</td>\n",
       "      <td>20.0</td>\n",
       "    </tr>\n",
       "    <tr>\n",
       "      <th>conspiracy</th>\n",
       "      <td>26.0</td>\n",
       "      <td>13.0</td>\n",
       "      <td>41.0</td>\n",
       "      <td>98.0</td>\n",
       "      <td>0.0</td>\n",
       "      <td>9.0</td>\n",
       "      <td>128.0</td>\n",
       "      <td>8.0</td>\n",
       "    </tr>\n",
       "    <tr>\n",
       "      <th>hillaryclinton</th>\n",
       "      <td>23.0</td>\n",
       "      <td>20.0</td>\n",
       "      <td>28.0</td>\n",
       "      <td>14.0</td>\n",
       "      <td>4.0</td>\n",
       "      <td>0.0</td>\n",
       "      <td>51.0</td>\n",
       "      <td>2.0</td>\n",
       "    </tr>\n",
       "    <tr>\n",
       "      <th>politics</th>\n",
       "      <td>332.0</td>\n",
       "      <td>261.0</td>\n",
       "      <td>649.0</td>\n",
       "      <td>678.0</td>\n",
       "      <td>262.0</td>\n",
       "      <td>180.0</td>\n",
       "      <td>0.0</td>\n",
       "      <td>36.0</td>\n",
       "    </tr>\n",
       "    <tr>\n",
       "      <th>ukpolitics</th>\n",
       "      <td>2.0</td>\n",
       "      <td>5.0</td>\n",
       "      <td>8.0</td>\n",
       "      <td>21.0</td>\n",
       "      <td>5.0</td>\n",
       "      <td>4.0</td>\n",
       "      <td>32.0</td>\n",
       "      <td>0.0</td>\n",
       "    </tr>\n",
       "  </tbody>\n",
       "</table>\n",
       "</div>"
      ],
      "text/plain": [
       "                     EnoughTrumpSpam  PoliticalDiscussion  \\\n",
       "subreddits                                                  \n",
       "EnoughTrumpSpam                  0.0                 12.0   \n",
       "PoliticalDiscussion             22.0                  0.0   \n",
       "SandersForPresident             60.0                 30.0   \n",
       "The_Donald                     147.0                 65.0   \n",
       "conspiracy                      26.0                 13.0   \n",
       "hillaryclinton                  23.0                 20.0   \n",
       "politics                       332.0                261.0   \n",
       "ukpolitics                       2.0                  5.0   \n",
       "\n",
       "                     SandersForPresident  The_Donald  conspiracy  \\\n",
       "subreddits                                                         \n",
       "EnoughTrumpSpam                     54.0        74.0        27.0   \n",
       "PoliticalDiscussion                 36.0        32.0         8.0   \n",
       "SandersForPresident                  0.0       162.0        59.0   \n",
       "The_Donald                         310.0         0.0       205.0   \n",
       "conspiracy                          41.0        98.0         0.0   \n",
       "hillaryclinton                      28.0        14.0         4.0   \n",
       "politics                           649.0       678.0       262.0   \n",
       "ukpolitics                           8.0        21.0         5.0   \n",
       "\n",
       "                     hillaryclinton  politics  ukpolitics  \n",
       "subreddits                                                 \n",
       "EnoughTrumpSpam                27.0     142.0         5.0  \n",
       "PoliticalDiscussion            22.0     113.0        11.0  \n",
       "SandersForPresident            46.0     346.0         3.0  \n",
       "The_Donald                     83.0     761.0        20.0  \n",
       "conspiracy                      9.0     128.0         8.0  \n",
       "hillaryclinton                  0.0      51.0         2.0  \n",
       "politics                      180.0       0.0        36.0  \n",
       "ukpolitics                      4.0      32.0         0.0  "
      ]
     },
     "execution_count": 107,
     "metadata": {},
     "output_type": "execute_result"
    }
   ],
   "source": [
    "df_pol_final"
   ]
  },
  {
   "cell_type": "code",
   "execution_count": 108,
   "metadata": {},
   "outputs": [],
   "source": [
    "df_politics_adj_classified = df_pol_final\n",
    "for i in df_politics_adj_classified.index:\n",
    "    total_users_of_the_subreddit = df_classifier.loc[i][\"Number_of_Users_Belonging\"]\n",
    "    df_politics_adj_classified.loc[i] = (df_politics_adj_classified.loc[i] / total_users_of_the_subreddit) * 100"
   ]
  },
  {
   "cell_type": "code",
   "execution_count": 109,
   "metadata": {
    "scrolled": true
   },
   "outputs": [
    {
     "data": {
      "text/html": [
       "<div>\n",
       "<style scoped>\n",
       "    .dataframe tbody tr th:only-of-type {\n",
       "        vertical-align: middle;\n",
       "    }\n",
       "\n",
       "    .dataframe tbody tr th {\n",
       "        vertical-align: top;\n",
       "    }\n",
       "\n",
       "    .dataframe thead th {\n",
       "        text-align: right;\n",
       "    }\n",
       "</style>\n",
       "<table border=\"1\" class=\"dataframe\">\n",
       "  <thead>\n",
       "    <tr style=\"text-align: right;\">\n",
       "      <th></th>\n",
       "      <th>EnoughTrumpSpam</th>\n",
       "      <th>PoliticalDiscussion</th>\n",
       "      <th>SandersForPresident</th>\n",
       "      <th>The_Donald</th>\n",
       "      <th>conspiracy</th>\n",
       "      <th>hillaryclinton</th>\n",
       "      <th>politics</th>\n",
       "      <th>ukpolitics</th>\n",
       "    </tr>\n",
       "    <tr>\n",
       "      <th>subreddits</th>\n",
       "      <th></th>\n",
       "      <th></th>\n",
       "      <th></th>\n",
       "      <th></th>\n",
       "      <th></th>\n",
       "      <th></th>\n",
       "      <th></th>\n",
       "      <th></th>\n",
       "    </tr>\n",
       "  </thead>\n",
       "  <tbody>\n",
       "    <tr>\n",
       "      <th>EnoughTrumpSpam</th>\n",
       "      <td>0.000000</td>\n",
       "      <td>3.296703</td>\n",
       "      <td>14.835165</td>\n",
       "      <td>20.329670</td>\n",
       "      <td>7.417582</td>\n",
       "      <td>7.417582</td>\n",
       "      <td>39.010989</td>\n",
       "      <td>1.373626</td>\n",
       "    </tr>\n",
       "    <tr>\n",
       "      <th>PoliticalDiscussion</th>\n",
       "      <td>8.870968</td>\n",
       "      <td>0.000000</td>\n",
       "      <td>14.516129</td>\n",
       "      <td>12.903226</td>\n",
       "      <td>3.225806</td>\n",
       "      <td>8.870968</td>\n",
       "      <td>45.564516</td>\n",
       "      <td>4.435484</td>\n",
       "    </tr>\n",
       "    <tr>\n",
       "      <th>SandersForPresident</th>\n",
       "      <td>5.752637</td>\n",
       "      <td>2.876318</td>\n",
       "      <td>0.000000</td>\n",
       "      <td>15.532119</td>\n",
       "      <td>5.656759</td>\n",
       "      <td>4.410355</td>\n",
       "      <td>33.173538</td>\n",
       "      <td>0.287632</td>\n",
       "    </tr>\n",
       "    <tr>\n",
       "      <th>The_Donald</th>\n",
       "      <td>5.285868</td>\n",
       "      <td>2.337289</td>\n",
       "      <td>11.147069</td>\n",
       "      <td>0.000000</td>\n",
       "      <td>7.371449</td>\n",
       "      <td>2.984538</td>\n",
       "      <td>27.364257</td>\n",
       "      <td>0.719166</td>\n",
       "    </tr>\n",
       "    <tr>\n",
       "      <th>conspiracy</th>\n",
       "      <td>4.452055</td>\n",
       "      <td>2.226027</td>\n",
       "      <td>7.020548</td>\n",
       "      <td>16.780822</td>\n",
       "      <td>0.000000</td>\n",
       "      <td>1.541096</td>\n",
       "      <td>21.917808</td>\n",
       "      <td>1.369863</td>\n",
       "    </tr>\n",
       "    <tr>\n",
       "      <th>hillaryclinton</th>\n",
       "      <td>15.333333</td>\n",
       "      <td>13.333333</td>\n",
       "      <td>18.666667</td>\n",
       "      <td>9.333333</td>\n",
       "      <td>2.666667</td>\n",
       "      <td>0.000000</td>\n",
       "      <td>34.000000</td>\n",
       "      <td>1.333333</td>\n",
       "    </tr>\n",
       "    <tr>\n",
       "      <th>politics</th>\n",
       "      <td>7.602473</td>\n",
       "      <td>5.976643</td>\n",
       "      <td>14.861461</td>\n",
       "      <td>15.525532</td>\n",
       "      <td>5.999542</td>\n",
       "      <td>4.121823</td>\n",
       "      <td>0.000000</td>\n",
       "      <td>0.824365</td>\n",
       "    </tr>\n",
       "    <tr>\n",
       "      <th>ukpolitics</th>\n",
       "      <td>1.036269</td>\n",
       "      <td>2.590674</td>\n",
       "      <td>4.145078</td>\n",
       "      <td>10.880829</td>\n",
       "      <td>2.590674</td>\n",
       "      <td>2.072539</td>\n",
       "      <td>16.580311</td>\n",
       "      <td>0.000000</td>\n",
       "    </tr>\n",
       "  </tbody>\n",
       "</table>\n",
       "</div>"
      ],
      "text/plain": [
       "                     EnoughTrumpSpam  PoliticalDiscussion  \\\n",
       "subreddits                                                  \n",
       "EnoughTrumpSpam             0.000000             3.296703   \n",
       "PoliticalDiscussion         8.870968             0.000000   \n",
       "SandersForPresident         5.752637             2.876318   \n",
       "The_Donald                  5.285868             2.337289   \n",
       "conspiracy                  4.452055             2.226027   \n",
       "hillaryclinton             15.333333            13.333333   \n",
       "politics                    7.602473             5.976643   \n",
       "ukpolitics                  1.036269             2.590674   \n",
       "\n",
       "                     SandersForPresident  The_Donald  conspiracy  \\\n",
       "subreddits                                                         \n",
       "EnoughTrumpSpam                14.835165   20.329670    7.417582   \n",
       "PoliticalDiscussion            14.516129   12.903226    3.225806   \n",
       "SandersForPresident             0.000000   15.532119    5.656759   \n",
       "The_Donald                     11.147069    0.000000    7.371449   \n",
       "conspiracy                      7.020548   16.780822    0.000000   \n",
       "hillaryclinton                 18.666667    9.333333    2.666667   \n",
       "politics                       14.861461   15.525532    5.999542   \n",
       "ukpolitics                      4.145078   10.880829    2.590674   \n",
       "\n",
       "                     hillaryclinton   politics  ukpolitics  \n",
       "subreddits                                                  \n",
       "EnoughTrumpSpam            7.417582  39.010989    1.373626  \n",
       "PoliticalDiscussion        8.870968  45.564516    4.435484  \n",
       "SandersForPresident        4.410355  33.173538    0.287632  \n",
       "The_Donald                 2.984538  27.364257    0.719166  \n",
       "conspiracy                 1.541096  21.917808    1.369863  \n",
       "hillaryclinton             0.000000  34.000000    1.333333  \n",
       "politics                   4.121823   0.000000    0.824365  \n",
       "ukpolitics                 2.072539  16.580311    0.000000  "
      ]
     },
     "execution_count": 109,
     "metadata": {},
     "output_type": "execute_result"
    }
   ],
   "source": [
    "df_politics_adj_classified"
   ]
  },
  {
   "cell_type": "markdown",
   "metadata": {},
   "source": [
    "As we saw in the adjacency matrix of the previous visualization, the subreddits are also not well connected this time; with very few percentage of them commenting in the others communities (we even see that none of them is over the 20%). So we can conclude that each of this group of political subreddits is quite isolated from each other. We also notice that the greatest values are inside the `politics`subreddit; let's see the correspondent graph:"
   ]
  },
  {
   "cell_type": "markdown",
   "metadata": {},
   "source": [
    "#### Visualization 4"
   ]
  },
  {
   "cell_type": "code",
   "execution_count": null,
   "metadata": {
    "scrolled": false
   },
   "outputs": [],
   "source": [
    "A_classified = df_politics_adj_classified.values\n",
    "g_politic_subreddits_3 = Graph().Adjacency((A_classified > 0).tolist())\n",
    "# Add edge weights and node labels.\n",
    "g_politic_subreddits_3.es['weight'] = A_classified[A_classified.nonzero()]\n",
    "g_politic_subreddits_3.vs['label'] = political_subreddits\n",
    "g_politic_subreddits_3.es['widht'] = A_classified[A_classified.nonzero()] *0.1\n",
    "\n",
    "\n",
    "visual_style = {}\n",
    "visual_style[\"bbox\"] = (800, 600)\n",
    "visual_style[\"margin\"] = 100\n",
    "visual_style[\"vertex_size\"] = [df_classifier.loc[s][\"Number_of_Users_Belonging\"] * 0.025 for s in political_subreddits]\n",
    "visual_style[\"edge_arrow_size\"] = A_perc[A.nonzero()] * 0.02\n",
    "visual_style[\"vertex_color\"] = subreddit_politic_colors\n",
    "visual_style[\"edge_color\"] = edges_colors\n",
    "\n",
    "#What this algorithm (fruchterman_reingold) do is printing the nodes which have less weight connection more distanciated\n",
    "layout = g_politic_subreddits_3.layout_fruchterman_reingold(weights = g_politic_subreddits_3.es['weight'])  \n",
    "out = plot(g_politic_subreddits_3, **visual_style, layout = layout, edge_width = g_politic_subreddits_3.es['widht'])\n",
    "out.save(VIS_DIR + 'visualization4.png') "
   ]
  },
  {
   "cell_type": "markdown",
   "metadata": {},
   "source": [
    "![title](notebook-graphs-visualizations/visualization4.png)"
   ]
  },
  {
   "cell_type": "markdown",
   "metadata": {},
   "source": [
    "In this graph:\n",
    "* Edge width is proportional to the percentage of users who have the origin subreddit as one of his communities (have been calssified in the subreddit community) and who have also commented in the destination subreddit.\n",
    "* Edge color is the color of the subreddit origin (the color of the ball representing the subreddit).\n",
    "* Node size and layout algorithm same as the last one. Note that the layout (and so the vertices distances) now is working in terms of the number of the number of users belonging to each community.\n",
    "\n",
    "So we can check now how many users of each subreddit community are commenting also in other communities (in percentage). \n",
    "As we saw in the previous visualization, most of the biggest edges come from small subreddits to `politics`. We see a clear relation with the size of the subreddits; this could mean that the users who belong to a relatively small community comment in other subreddits (or belong also to other communities) more than users who belong to a large community. Of course this fact is depending on the size of the communities, i.e. the greater is a community the more popular it is and the more people (possibly from other communities) will know this community and will comment on it, but this do not contradict our assertion. In this way, we can conclude the following:\n",
    "\n",
    "* Users who belong to smaller communities have more probability to be connected somehow (commenting or belonging) to other communities, and so suffer less the echo chamber effect.\n",
    "* The greatest communities attract more interactions from others communities. We can interpret that when a community is receiving users (their comments) from another one, this is somehow helping to avoid the echo-cambering effect, since there are people from different communities commenting and seeing the comments of each others. This claim is not meaning that in the greatest communities there are less echo-chambering, it is just meaning that the amount of \"foreigner\" users the subreddit have will reduce the mentioned effect.\n",
    "* Following the last point, we can compare the `politics` and the `The_Donald` subreddits (the two greatest ones). We see that the edges which have `politics` as destination are more wide than those which have `The_Donald` as destination. So we can interpret that `politics` should have less echo-chambing effect, since `The_Donald` is more isolated.\n",
    "\n",
    "Recall: The edges are meaning very small percentages (see the adjacency matrix above)."
   ]
  },
  {
   "cell_type": "markdown",
   "metadata": {},
   "source": [
    "### Factors that could determine the echo chamber effect"
   ]
  },
  {
   "cell_type": "markdown",
   "metadata": {},
   "source": [
    "Having done the previous conclusions; we recall the milestone 2 and see now how the controversiality and the NLP sentiment analysis is in the politics subreddits."
   ]
  },
  {
   "cell_type": "code",
   "execution_count": 37,
   "metadata": {},
   "outputs": [],
   "source": [
    "from  pyspark.sql.functions import abs\n",
    "df_spark = df_spark.withColumn('abs_contro',abs(df_spark.controversiality))\\\n",
    "                    .withColumn('abs_sent',abs(df_spark.compound_sent))"
   ]
  },
  {
   "cell_type": "code",
   "execution_count": 42,
   "metadata": {},
   "outputs": [],
   "source": [
    "df_stats = df_spark.groupby('subreddit').agg(mean('controversiality').alias('average_controversiality'), \\\n",
    "                                       mean('compound_sent').alias('average_sentiment'), \\\n",
    "                                        mean('abs_contro').alias('abs_avg_contro'),mean('abs_sent').alias('abs_avg_sent')).toPandas()"
   ]
  },
  {
   "cell_type": "code",
   "execution_count": 45,
   "metadata": {},
   "outputs": [
    {
     "data": {
      "image/png": "[encoded data removed]",
      "text/plain": [
       "<matplotlib.figure.Figure at 0x1a204e3160>"
      ]
     },
     "metadata": {},
     "output_type": "display_data"
    }
   ],
   "source": [
    "plt.bar(df_stats['subreddit'],df_stats['abs_avg_contro']);\n",
    "plt.title('Average abs subreddit controversiality');\n",
    "plt.xticks(rotation=90);"
   ]
  },
  {
   "cell_type": "markdown",
   "metadata": {},
   "source": [
    "A high degree of controversiality amongst subreddits could indicate lower risks of echo-chamber. This is due to the fact that highly controverial messages are not just 'accepted', they are contested.  \n",
    "As we can see, r/The_Donald, a subreddit where dissension is banned by the rules and enforced by moderation has high odds of being a strong echo chamber. This is confirmed by this metric, as the amount of controversial comments is substantially low compared to the other similarly themed subs."
   ]
  },
  {
   "cell_type": "code",
   "execution_count": 53,
   "metadata": {},
   "outputs": [
    {
     "data": {
      "image/png": "[encoded data removed]",
      "text/plain": [
       "<matplotlib.figure.Figure at 0x1a206bdef0>"
      ]
     },
     "metadata": {},
     "output_type": "display_data"
    }
   ],
   "source": [
    "plt.figure(figsize=(12,3.7))\n",
    "plt.subplots_adjust(wspace = 0.8)\n",
    "\n",
    "plt.subplot(1,2,1)\n",
    "plt.bar(df['subreddit'],df['average_sentiment']);\n",
    "plt.title('Average subreddit sentiment');\n",
    "plt.ylabel('average sentiment score');\n",
    "plt.xticks(rotation=90);\n",
    "\n",
    "plt.subplot(1,2,2)\n",
    "plt.bar(df_stats['subreddit'],df_stats['abs_avg_sent']);\n",
    "plt.title('Average abs subreddit sentiment');\n",
    "plt.ylabel('average sentiment score');\n",
    "plt.xticks(rotation=90);"
   ]
  },
  {
   "cell_type": "markdown",
   "metadata": {},
   "source": [
    "With sentiment the axis can be a bit deceibing, but actually all the values are pretty close. Sentiment is a learned metric and does not take into account the actual content or topic of the discussion. Hence, it alone does not seem to be a good indicator of echo."
   ]
  },
  {
   "cell_type": "markdown",
   "metadata": {},
   "source": [
    "# 2 - Ideology communities\n",
    "\n",
    "Now we leave the top 200 data set and work with another one, a sample of one million of comments which have been done in one of the ideological based subreddits of this list [\"Libertarian\", \"Anarchism\", \"socialism\", \"progressive\", \"Conservative\", \"americanpirateparty\", \"democrats\", \"Liberal\", \"new_right\", \"Republican\", \"egalitarian\", \"demsocialist\", \"LibertarianLeft\", \"Liberty\", \"Anarcho_Capitalism\", \"alltheleft\", \"neoprogs\", \"tea_party\", \"voluntarism\", \"labor\", \"blackflag\", \"GreenParty\", \"democracy\", \"IIWW\", \"PirateParty\", \"Marxism\", \"piratenpartei\", \"Objectivism\", \"LibertarianSocialism\", \"peoplesparty\", \"Capitalism\", \"Anarchist\", \"feminisms\", \"republicans\", \"Egalitarianism\", \"anarchafeminism\", \"Communist\", \"SocialDemocracy\", \"Postleftanarchism\", \"RadicalFeminism\", \"Anarcho\", Pacifism,\"conservatives\",\"republicanism\"]. This subreddits have been chosen from redditlists: https://www.reddit.com/r/redditlists/comments/josdr/list_of_political_subreddits/\n",
    "\n",
    "As this is a sample of just one million we will not have all the communities (just the enough great)."
   ]
  },
  {
   "cell_type": "code",
   "execution_count": 4,
   "metadata": {},
   "outputs": [],
   "source": [
    "def users_communities(political_subreddits, df_classifying, users_list_s):\n",
    "    df_classifier = pd.DataFrame(index = political_subreddits)\n",
    "    df_classifier[\"Users_list\"] = [list() for x in range(len(df_classifier.index))]\n",
    "\n",
    "    for u in users_list_s:\n",
    "        subreddit_values = np.zeros(len(political_subreddits))\n",
    "        df_user_comments = df_classifying[df_classifying[\"author\"] == u]\n",
    "        for index, row in df_user_comments.iterrows():\n",
    "            value = 1\n",
    "            value = value + row.score\n",
    "            sreddit_index = political_subreddits.index(row.subreddit)\n",
    "            subreddit_values[sreddit_index] = subreddit_values[sreddit_index] + value\n",
    "        greatest_value = subreddit_values.max()\n",
    "        for i in range(len(subreddit_values)):         #Necessary in case there is a tie\n",
    "            if(greatest_value > 0 and subreddit_values[i] == greatest_value):\n",
    "                df_classifier[\"Users_list\"].loc[political_subreddits[i]] = df_classifier[\"Users_list\"].loc[political_subreddits[i]] + [u]\n",
    "\n",
    "    return df_classifier"
   ]
  },
  {
   "cell_type": "code",
   "execution_count": 5,
   "metadata": {
    "scrolled": true
   },
   "outputs": [
    {
     "data": {
      "text/html": [
       "<div>\n",
       "<style scoped>\n",
       "    .dataframe tbody tr th:only-of-type {\n",
       "        vertical-align: middle;\n",
       "    }\n",
       "\n",
       "    .dataframe tbody tr th {\n",
       "        vertical-align: top;\n",
       "    }\n",
       "\n",
       "    .dataframe thead th {\n",
       "        text-align: right;\n",
       "    }\n",
       "</style>\n",
       "<table border=\"1\" class=\"dataframe\">\n",
       "  <thead>\n",
       "    <tr style=\"text-align: right;\">\n",
       "      <th></th>\n",
       "      <th>author</th>\n",
       "      <th>subreddit</th>\n",
       "      <th>score</th>\n",
       "      <th>controversiality</th>\n",
       "      <th>compound_sent</th>\n",
       "    </tr>\n",
       "  </thead>\n",
       "  <tbody>\n",
       "    <tr>\n",
       "      <th>0</th>\n",
       "      <td>haroldp</td>\n",
       "      <td>Libertarian</td>\n",
       "      <td>1</td>\n",
       "      <td>0</td>\n",
       "      <td>0.0</td>\n",
       "    </tr>\n",
       "    <tr>\n",
       "      <th>1</th>\n",
       "      <td>Gator_Engr</td>\n",
       "      <td>Republican</td>\n",
       "      <td>14</td>\n",
       "      <td>0</td>\n",
       "      <td>-0.5267</td>\n",
       "    </tr>\n",
       "    <tr>\n",
       "      <th>2</th>\n",
       "      <td>kyle_rearden</td>\n",
       "      <td>Anarcho_Capitalism</td>\n",
       "      <td>1</td>\n",
       "      <td>0</td>\n",
       "      <td>0.8176</td>\n",
       "    </tr>\n",
       "    <tr>\n",
       "      <th>4</th>\n",
       "      <td>DankDialektiks</td>\n",
       "      <td>socialism</td>\n",
       "      <td>-1</td>\n",
       "      <td>1</td>\n",
       "      <td>-0.1989</td>\n",
       "    </tr>\n",
       "    <tr>\n",
       "      <th>6</th>\n",
       "      <td>paintOnMyBalls</td>\n",
       "      <td>Anarchism</td>\n",
       "      <td>2</td>\n",
       "      <td>0</td>\n",
       "      <td>0.6249</td>\n",
       "    </tr>\n",
       "  </tbody>\n",
       "</table>\n",
       "</div>"
      ],
      "text/plain": [
       "           author           subreddit  score  controversiality compound_sent\n",
       "0         haroldp         Libertarian      1                 0           0.0\n",
       "1      Gator_Engr          Republican     14                 0       -0.5267\n",
       "2    kyle_rearden  Anarcho_Capitalism      1                 0        0.8176\n",
       "4  DankDialektiks           socialism     -1                 1       -0.1989\n",
       "6  paintOnMyBalls           Anarchism      2                 0        0.6249"
      ]
     },
     "execution_count": 5,
     "metadata": {},
     "output_type": "execute_result"
    }
   ],
   "source": [
    "df_ideologies = pd.read_parquet(DATA_DIR + \"ideology_subreddits.parquet\")\n",
    "df_ideologies = df_ideologies.loc[df_ideologies[\"author\"] != \"[deleted]\"]\n",
    "df_ideologies.head()"
   ]
  },
  {
   "cell_type": "code",
   "execution_count": 6,
   "metadata": {},
   "outputs": [
    {
     "data": {
      "text/html": [
       "<div>\n",
       "<style scoped>\n",
       "    .dataframe tbody tr th:only-of-type {\n",
       "        vertical-align: middle;\n",
       "    }\n",
       "\n",
       "    .dataframe tbody tr th {\n",
       "        vertical-align: top;\n",
       "    }\n",
       "\n",
       "    .dataframe thead th {\n",
       "        text-align: right;\n",
       "    }\n",
       "</style>\n",
       "<table border=\"1\" class=\"dataframe\">\n",
       "  <thead>\n",
       "    <tr style=\"text-align: right;\">\n",
       "      <th></th>\n",
       "      <th>subreddit</th>\n",
       "      <th>users</th>\n",
       "    </tr>\n",
       "  </thead>\n",
       "  <tbody>\n",
       "    <tr>\n",
       "      <th>0</th>\n",
       "      <td>Anarcho_Capitalism</td>\n",
       "      <td>[xLordOblivionx, MrWiggles2, 7thAccountDontDel...</td>\n",
       "    </tr>\n",
       "    <tr>\n",
       "      <th>1</th>\n",
       "      <td>anarchafeminism</td>\n",
       "      <td>[OriginalPostSearcher, EvanCarroll, Snowdivaah...</td>\n",
       "    </tr>\n",
       "    <tr>\n",
       "      <th>2</th>\n",
       "      <td>Egalitarianism</td>\n",
       "      <td>[kevin122000, triplehelix_, AimForTheHead, Pag...</td>\n",
       "    </tr>\n",
       "    <tr>\n",
       "      <th>3</th>\n",
       "      <td>voluntarism</td>\n",
       "      <td>[LysanderErdos, r0d3r, jdeath, jacob_pakman, t...</td>\n",
       "    </tr>\n",
       "    <tr>\n",
       "      <th>4</th>\n",
       "      <td>feminisms</td>\n",
       "      <td>[Clmbr76, eggsolo, kdkorz10211, mrspetewrigley...</td>\n",
       "    </tr>\n",
       "  </tbody>\n",
       "</table>\n",
       "</div>"
      ],
      "text/plain": [
       "            subreddit                                              users\n",
       "0  Anarcho_Capitalism  [xLordOblivionx, MrWiggles2, 7thAccountDontDel...\n",
       "1     anarchafeminism  [OriginalPostSearcher, EvanCarroll, Snowdivaah...\n",
       "2      Egalitarianism  [kevin122000, triplehelix_, AimForTheHead, Pag...\n",
       "3         voluntarism  [LysanderErdos, r0d3r, jdeath, jacob_pakman, t...\n",
       "4           feminisms  [Clmbr76, eggsolo, kdkorz10211, mrspetewrigley..."
      ]
     },
     "execution_count": 6,
     "metadata": {},
     "output_type": "execute_result"
    }
   ],
   "source": [
    "sdf = sqlc.createDataFrame(df_ideologies)\n",
    "df_subreddit_users = sdf.select('subreddit','author').groupby('subreddit') \\\n",
    "                                .agg(collect_set('author').alias('users'))\n",
    "\n",
    "df_number_ideo_users = df_subreddit_users.toPandas()\n",
    "df_number_ideo_users.set_index(\"subreddit\")\n",
    "df_number_ideo_users.head()"
   ]
  },
  {
   "cell_type": "code",
   "execution_count": 7,
   "metadata": {},
   "outputs": [],
   "source": [
    "df_number_ideo_users.set_index(\"subreddit\",inplace = True)"
   ]
  },
  {
   "cell_type": "code",
   "execution_count": 8,
   "metadata": {},
   "outputs": [
    {
     "data": {
      "text/plain": [
       "(909993, 5)"
      ]
     },
     "execution_count": 8,
     "metadata": {},
     "output_type": "execute_result"
    }
   ],
   "source": [
    "df_ideologies.shape"
   ]
  },
  {
   "cell_type": "code",
   "execution_count": 9,
   "metadata": {},
   "outputs": [
    {
     "data": {
      "text/plain": [
       "['Libertarian',\n",
       " 'Republican',\n",
       " 'Anarcho_Capitalism',\n",
       " 'socialism',\n",
       " 'Anarchism',\n",
       " 'Conservative',\n",
       " 'Liberal',\n",
       " 'conservatives',\n",
       " 'democrats',\n",
       " 'progressive',\n",
       " 'GreenParty',\n",
       " 'feminisms',\n",
       " 'labor',\n",
       " 'Pacifism',\n",
       " 'LibertarianSocialism',\n",
       " 'Marxism',\n",
       " 'alltheleft',\n",
       " 'democracy',\n",
       " 'SocialDemocracy',\n",
       " 'Objectivism',\n",
       " 'demsocialist',\n",
       " 'Postleftanarchism',\n",
       " 'Egalitarianism',\n",
       " 'Capitalism',\n",
       " 'RadicalFeminism',\n",
       " 'republicans',\n",
       " 'LibertarianLeft',\n",
       " 'anarchafeminism',\n",
       " 'new_right',\n",
       " 'blackflag',\n",
       " 'voluntarism',\n",
       " 'PirateParty',\n",
       " 'Liberty',\n",
       " 'neoprogs',\n",
       " 'Anarchist',\n",
       " 'tea_party',\n",
       " 'republicanism',\n",
       " 'Communist',\n",
       " 'americanpirateparty',\n",
       " 'piratenpartei']"
      ]
     },
     "execution_count": 9,
     "metadata": {},
     "output_type": "execute_result"
    }
   ],
   "source": [
    "ideological_subreddits = df_ideologies.subreddit.unique().tolist()\n",
    "ideological_subreddits"
   ]
  },
  {
   "cell_type": "code",
   "execution_count": 10,
   "metadata": {},
   "outputs": [],
   "source": [
    "users_list = [u for u in df_ideologies[\"author\"]]    \n",
    "users_list = list(set(users_list)) #Drop duplicates"
   ]
  },
  {
   "cell_type": "code",
   "execution_count": 11,
   "metadata": {},
   "outputs": [
    {
     "data": {
      "text/plain": [
       "10000"
      ]
     },
     "execution_count": 11,
     "metadata": {},
     "output_type": "execute_result"
    }
   ],
   "source": [
    "n_users_to_classify = 10000\n",
    "users_list_s = random.sample(users_list, n_users_to_classify)\n",
    "len(users_list_s)"
   ]
  },
  {
   "cell_type": "markdown",
   "metadata": {},
   "source": [
    "Uncomment the following lines for get the parquet file with the classification (they are comment in order to not run this long part every time we rerun the notebook):"
   ]
  },
  {
   "cell_type": "code",
   "execution_count": 12,
   "metadata": {},
   "outputs": [],
   "source": [
    "#df_classifier = users_communities(ideological_subreddits, df_ideologies, users_list_s)"
   ]
  },
  {
   "cell_type": "code",
   "execution_count": 13,
   "metadata": {
    "scrolled": true
   },
   "outputs": [],
   "source": [
    "#df_classifier[\"Number_of_Users_Belonging\"] = [len(i) for i in df_classifier[\"Users_list\"]]\n",
    "#df_classifier.to_parquet(DATA_DIR + \"classifier_ideo.parquet\")"
   ]
  },
  {
   "cell_type": "code",
   "execution_count": 14,
   "metadata": {},
   "outputs": [
    {
     "data": {
      "text/html": [
       "<div>\n",
       "<style scoped>\n",
       "    .dataframe tbody tr th:only-of-type {\n",
       "        vertical-align: middle;\n",
       "    }\n",
       "\n",
       "    .dataframe tbody tr th {\n",
       "        vertical-align: top;\n",
       "    }\n",
       "\n",
       "    .dataframe thead th {\n",
       "        text-align: right;\n",
       "    }\n",
       "</style>\n",
       "<table border=\"1\" class=\"dataframe\">\n",
       "  <thead>\n",
       "    <tr style=\"text-align: right;\">\n",
       "      <th></th>\n",
       "      <th>Users_list</th>\n",
       "      <th>Number_of_Users_Belonging</th>\n",
       "    </tr>\n",
       "  </thead>\n",
       "  <tbody>\n",
       "    <tr>\n",
       "      <th>Libertarian</th>\n",
       "      <td>[n0rsk, finndameron, scoooobysnacks, darthbudd...</td>\n",
       "      <td>2739</td>\n",
       "    </tr>\n",
       "    <tr>\n",
       "      <th>Republican</th>\n",
       "      <td>[dirtylopez, ponchoskunk420, Teddie1056, gakgu...</td>\n",
       "      <td>340</td>\n",
       "    </tr>\n",
       "    <tr>\n",
       "      <th>Anarcho_Capitalism</th>\n",
       "      <td>[OceanOfSpiceAndSmoke, FOURTHCENTURYRETARD, -V...</td>\n",
       "      <td>692</td>\n",
       "    </tr>\n",
       "  </tbody>\n",
       "</table>\n",
       "</div>"
      ],
      "text/plain": [
       "                                                           Users_list  \\\n",
       "Libertarian         [n0rsk, finndameron, scoooobysnacks, darthbudd...   \n",
       "Republican          [dirtylopez, ponchoskunk420, Teddie1056, gakgu...   \n",
       "Anarcho_Capitalism  [OceanOfSpiceAndSmoke, FOURTHCENTURYRETARD, -V...   \n",
       "\n",
       "                    Number_of_Users_Belonging  \n",
       "Libertarian                              2739  \n",
       "Republican                                340  \n",
       "Anarcho_Capitalism                        692  "
      ]
     },
     "execution_count": 14,
     "metadata": {},
     "output_type": "execute_result"
    }
   ],
   "source": [
    "df_classifier =  pd.read_parquet(DATA_DIR + \"classifier_ideo.parquet\")\n",
    "df_classifier.head(3)"
   ]
  },
  {
   "cell_type": "markdown",
   "metadata": {},
   "source": [
    "Let's see the number of users per ideology:"
   ]
  },
  {
   "cell_type": "code",
   "execution_count": 15,
   "metadata": {},
   "outputs": [
    {
     "data": {
      "text/plain": [
       "238.875"
      ]
     },
     "execution_count": 15,
     "metadata": {},
     "output_type": "execute_result"
    }
   ],
   "source": [
    "df_classifier[\"Number_of_Users_Belonging\"].mean()"
   ]
  },
  {
   "cell_type": "code",
   "execution_count": 16,
   "metadata": {},
   "outputs": [],
   "source": [
    "df_classifier = df_classifier.loc[df_classifier[\"Number_of_Users_Belonging\"]>30]"
   ]
  },
  {
   "cell_type": "code",
   "execution_count": 17,
   "metadata": {
    "scrolled": true
   },
   "outputs": [
    {
     "data": {
      "text/plain": [
       "<matplotlib.axes._subplots.AxesSubplot at 0x1c97cd81710>"
      ]
     },
     "execution_count": 17,
     "metadata": {},
     "output_type": "execute_result"
    },
    {
     "data": {
      "image/png": "[encoded data removed]",
      "text/plain": [
       "<Figure size 432x288 with 1 Axes>"
      ]
     },
     "metadata": {
      "needs_background": "light"
     },
     "output_type": "display_data"
    }
   ],
   "source": [
    "df_tmp = df_classifier.copy()\n",
    "df_tmp['Subreddits'] = df_tmp.index\n",
    "df_tmp.plot(kind=\"barh\", x = \"Subreddits\", y = \"Number_of_Users_Belonging\")"
   ]
  },
  {
   "cell_type": "markdown",
   "metadata": {},
   "source": [
    "Now, we need (as in the political examples) to compute the adjacency matrix:"
   ]
  },
  {
   "cell_type": "code",
   "execution_count": 18,
   "metadata": {},
   "outputs": [],
   "source": [
    "ideological_subreddits = df_classifier.index.unique().tolist()\n",
    "df_ideo_adj_classified = pd.DataFrame(index = ideological_subreddits, columns = ideological_subreddits)\n",
    "for i in ideological_subreddits:\n",
    "    total_users_of_the_subreddit = df_classifier.loc[i][\"Number_of_Users_Belonging\"]\n",
    "    for j in ideological_subreddits:\n",
    "        if i == j:\n",
    "            df_ideo_adj_classified.loc[i][j]=0.0\n",
    "        else:\n",
    "            df_ideo_adj_classified.loc[i][j] = 100 * len(list(set(df_classifier.loc[i][\"Users_list\"]) & set(df_number_ideo_users.loc[j][\"users\"]))) / total_users_of_the_subreddit"
   ]
  },
  {
   "cell_type": "code",
   "execution_count": 19,
   "metadata": {
    "scrolled": true
   },
   "outputs": [],
   "source": [
    "df_ideo_adj_classified.fillna(value=0.0, inplace = True)"
   ]
  },
  {
   "cell_type": "code",
   "execution_count": 20,
   "metadata": {
    "scrolled": false
   },
   "outputs": [
    {
     "data": {
      "text/html": [
       "<div>\n",
       "<style scoped>\n",
       "    .dataframe tbody tr th:only-of-type {\n",
       "        vertical-align: middle;\n",
       "    }\n",
       "\n",
       "    .dataframe tbody tr th {\n",
       "        vertical-align: top;\n",
       "    }\n",
       "\n",
       "    .dataframe thead th {\n",
       "        text-align: right;\n",
       "    }\n",
       "</style>\n",
       "<table border=\"1\" class=\"dataframe\">\n",
       "  <thead>\n",
       "    <tr style=\"text-align: right;\">\n",
       "      <th></th>\n",
       "      <th>Libertarian</th>\n",
       "      <th>Republican</th>\n",
       "      <th>Anarcho_Capitalism</th>\n",
       "      <th>socialism</th>\n",
       "      <th>Anarchism</th>\n",
       "      <th>Conservative</th>\n",
       "      <th>Liberal</th>\n",
       "      <th>conservatives</th>\n",
       "      <th>democrats</th>\n",
       "      <th>progressive</th>\n",
       "      <th>GreenParty</th>\n",
       "      <th>feminisms</th>\n",
       "      <th>Egalitarianism</th>\n",
       "      <th>republicans</th>\n",
       "    </tr>\n",
       "  </thead>\n",
       "  <tbody>\n",
       "    <tr>\n",
       "      <th>Libertarian</th>\n",
       "      <td>0.000000</td>\n",
       "      <td>1.788974</td>\n",
       "      <td>5.768529</td>\n",
       "      <td>2.263600</td>\n",
       "      <td>0.912742</td>\n",
       "      <td>6.133625</td>\n",
       "      <td>0.839723</td>\n",
       "      <td>0.474626</td>\n",
       "      <td>0.803213</td>\n",
       "      <td>1.058781</td>\n",
       "      <td>0.474626</td>\n",
       "      <td>0.109529</td>\n",
       "      <td>0.000000</td>\n",
       "      <td>0.255568</td>\n",
       "    </tr>\n",
       "    <tr>\n",
       "      <th>Republican</th>\n",
       "      <td>9.117647</td>\n",
       "      <td>0.000000</td>\n",
       "      <td>0.588235</td>\n",
       "      <td>0.588235</td>\n",
       "      <td>0.294118</td>\n",
       "      <td>19.411765</td>\n",
       "      <td>2.058824</td>\n",
       "      <td>2.058824</td>\n",
       "      <td>2.647059</td>\n",
       "      <td>1.470588</td>\n",
       "      <td>0.000000</td>\n",
       "      <td>0.000000</td>\n",
       "      <td>0.000000</td>\n",
       "      <td>1.470588</td>\n",
       "    </tr>\n",
       "    <tr>\n",
       "      <th>Anarcho_Capitalism</th>\n",
       "      <td>24.421965</td>\n",
       "      <td>0.867052</td>\n",
       "      <td>0.000000</td>\n",
       "      <td>5.491329</td>\n",
       "      <td>5.057803</td>\n",
       "      <td>3.468208</td>\n",
       "      <td>1.011561</td>\n",
       "      <td>0.433526</td>\n",
       "      <td>0.289017</td>\n",
       "      <td>0.289017</td>\n",
       "      <td>0.144509</td>\n",
       "      <td>0.000000</td>\n",
       "      <td>0.144509</td>\n",
       "      <td>0.289017</td>\n",
       "    </tr>\n",
       "    <tr>\n",
       "      <th>socialism</th>\n",
       "      <td>6.076923</td>\n",
       "      <td>0.384615</td>\n",
       "      <td>3.153846</td>\n",
       "      <td>0.000000</td>\n",
       "      <td>13.461538</td>\n",
       "      <td>2.846154</td>\n",
       "      <td>1.384615</td>\n",
       "      <td>0.153846</td>\n",
       "      <td>1.230769</td>\n",
       "      <td>2.461538</td>\n",
       "      <td>1.538462</td>\n",
       "      <td>0.230769</td>\n",
       "      <td>0.153846</td>\n",
       "      <td>0.153846</td>\n",
       "    </tr>\n",
       "    <tr>\n",
       "      <th>Anarchism</th>\n",
       "      <td>3.698811</td>\n",
       "      <td>0.396301</td>\n",
       "      <td>5.944518</td>\n",
       "      <td>16.380449</td>\n",
       "      <td>0.000000</td>\n",
       "      <td>2.245707</td>\n",
       "      <td>1.056803</td>\n",
       "      <td>0.000000</td>\n",
       "      <td>0.792602</td>\n",
       "      <td>1.453104</td>\n",
       "      <td>0.264201</td>\n",
       "      <td>0.792602</td>\n",
       "      <td>0.000000</td>\n",
       "      <td>0.132100</td>\n",
       "    </tr>\n",
       "    <tr>\n",
       "      <th>Conservative</th>\n",
       "      <td>10.301954</td>\n",
       "      <td>5.550622</td>\n",
       "      <td>1.642984</td>\n",
       "      <td>1.554174</td>\n",
       "      <td>0.621670</td>\n",
       "      <td>0.000000</td>\n",
       "      <td>1.065719</td>\n",
       "      <td>1.554174</td>\n",
       "      <td>0.888099</td>\n",
       "      <td>0.710480</td>\n",
       "      <td>0.133215</td>\n",
       "      <td>0.044405</td>\n",
       "      <td>0.000000</td>\n",
       "      <td>1.021314</td>\n",
       "    </tr>\n",
       "    <tr>\n",
       "      <th>Liberal</th>\n",
       "      <td>4.700855</td>\n",
       "      <td>1.709402</td>\n",
       "      <td>0.854701</td>\n",
       "      <td>3.418803</td>\n",
       "      <td>2.564103</td>\n",
       "      <td>5.555556</td>\n",
       "      <td>0.000000</td>\n",
       "      <td>0.000000</td>\n",
       "      <td>4.700855</td>\n",
       "      <td>11.111111</td>\n",
       "      <td>1.282051</td>\n",
       "      <td>0.427350</td>\n",
       "      <td>0.000000</td>\n",
       "      <td>0.000000</td>\n",
       "    </tr>\n",
       "    <tr>\n",
       "      <th>conservatives</th>\n",
       "      <td>8.571429</td>\n",
       "      <td>11.428571</td>\n",
       "      <td>0.000000</td>\n",
       "      <td>0.000000</td>\n",
       "      <td>0.000000</td>\n",
       "      <td>8.571429</td>\n",
       "      <td>2.857143</td>\n",
       "      <td>0.000000</td>\n",
       "      <td>0.000000</td>\n",
       "      <td>0.000000</td>\n",
       "      <td>0.000000</td>\n",
       "      <td>0.000000</td>\n",
       "      <td>0.000000</td>\n",
       "      <td>0.000000</td>\n",
       "    </tr>\n",
       "    <tr>\n",
       "      <th>democrats</th>\n",
       "      <td>2.688172</td>\n",
       "      <td>1.344086</td>\n",
       "      <td>0.537634</td>\n",
       "      <td>1.612903</td>\n",
       "      <td>0.268817</td>\n",
       "      <td>3.494624</td>\n",
       "      <td>9.677419</td>\n",
       "      <td>0.000000</td>\n",
       "      <td>0.000000</td>\n",
       "      <td>8.333333</td>\n",
       "      <td>0.806452</td>\n",
       "      <td>0.268817</td>\n",
       "      <td>0.000000</td>\n",
       "      <td>0.806452</td>\n",
       "    </tr>\n",
       "    <tr>\n",
       "      <th>progressive</th>\n",
       "      <td>3.672316</td>\n",
       "      <td>1.129944</td>\n",
       "      <td>0.847458</td>\n",
       "      <td>5.084746</td>\n",
       "      <td>1.694915</td>\n",
       "      <td>1.977401</td>\n",
       "      <td>8.474576</td>\n",
       "      <td>0.282486</td>\n",
       "      <td>6.779661</td>\n",
       "      <td>0.000000</td>\n",
       "      <td>1.412429</td>\n",
       "      <td>0.282486</td>\n",
       "      <td>0.282486</td>\n",
       "      <td>0.282486</td>\n",
       "    </tr>\n",
       "    <tr>\n",
       "      <th>GreenParty</th>\n",
       "      <td>5.434783</td>\n",
       "      <td>0.000000</td>\n",
       "      <td>1.086957</td>\n",
       "      <td>4.347826</td>\n",
       "      <td>1.086957</td>\n",
       "      <td>0.000000</td>\n",
       "      <td>2.173913</td>\n",
       "      <td>0.000000</td>\n",
       "      <td>0.000000</td>\n",
       "      <td>6.521739</td>\n",
       "      <td>0.000000</td>\n",
       "      <td>0.000000</td>\n",
       "      <td>0.000000</td>\n",
       "      <td>0.000000</td>\n",
       "    </tr>\n",
       "    <tr>\n",
       "      <th>feminisms</th>\n",
       "      <td>1.204819</td>\n",
       "      <td>0.000000</td>\n",
       "      <td>0.000000</td>\n",
       "      <td>2.409639</td>\n",
       "      <td>0.000000</td>\n",
       "      <td>1.204819</td>\n",
       "      <td>1.204819</td>\n",
       "      <td>1.204819</td>\n",
       "      <td>0.000000</td>\n",
       "      <td>0.000000</td>\n",
       "      <td>0.000000</td>\n",
       "      <td>0.000000</td>\n",
       "      <td>0.000000</td>\n",
       "      <td>0.000000</td>\n",
       "    </tr>\n",
       "    <tr>\n",
       "      <th>Egalitarianism</th>\n",
       "      <td>2.272727</td>\n",
       "      <td>0.000000</td>\n",
       "      <td>0.000000</td>\n",
       "      <td>2.272727</td>\n",
       "      <td>0.000000</td>\n",
       "      <td>0.000000</td>\n",
       "      <td>0.000000</td>\n",
       "      <td>0.000000</td>\n",
       "      <td>0.000000</td>\n",
       "      <td>2.272727</td>\n",
       "      <td>2.272727</td>\n",
       "      <td>0.000000</td>\n",
       "      <td>0.000000</td>\n",
       "      <td>0.000000</td>\n",
       "    </tr>\n",
       "    <tr>\n",
       "      <th>republicans</th>\n",
       "      <td>5.454545</td>\n",
       "      <td>10.909091</td>\n",
       "      <td>1.818182</td>\n",
       "      <td>0.000000</td>\n",
       "      <td>0.000000</td>\n",
       "      <td>10.909091</td>\n",
       "      <td>0.000000</td>\n",
       "      <td>1.818182</td>\n",
       "      <td>5.454545</td>\n",
       "      <td>0.000000</td>\n",
       "      <td>0.000000</td>\n",
       "      <td>0.000000</td>\n",
       "      <td>0.000000</td>\n",
       "      <td>0.000000</td>\n",
       "    </tr>\n",
       "  </tbody>\n",
       "</table>\n",
       "</div>"
      ],
      "text/plain": [
       "                    Libertarian  Republican  Anarcho_Capitalism  socialism  \\\n",
       "Libertarian            0.000000    1.788974            5.768529   2.263600   \n",
       "Republican             9.117647    0.000000            0.588235   0.588235   \n",
       "Anarcho_Capitalism    24.421965    0.867052            0.000000   5.491329   \n",
       "socialism              6.076923    0.384615            3.153846   0.000000   \n",
       "Anarchism              3.698811    0.396301            5.944518  16.380449   \n",
       "Conservative          10.301954    5.550622            1.642984   1.554174   \n",
       "Liberal                4.700855    1.709402            0.854701   3.418803   \n",
       "conservatives          8.571429   11.428571            0.000000   0.000000   \n",
       "democrats              2.688172    1.344086            0.537634   1.612903   \n",
       "progressive            3.672316    1.129944            0.847458   5.084746   \n",
       "GreenParty             5.434783    0.000000            1.086957   4.347826   \n",
       "feminisms              1.204819    0.000000            0.000000   2.409639   \n",
       "Egalitarianism         2.272727    0.000000            0.000000   2.272727   \n",
       "republicans            5.454545   10.909091            1.818182   0.000000   \n",
       "\n",
       "                    Anarchism  Conservative   Liberal  conservatives  \\\n",
       "Libertarian          0.912742      6.133625  0.839723       0.474626   \n",
       "Republican           0.294118     19.411765  2.058824       2.058824   \n",
       "Anarcho_Capitalism   5.057803      3.468208  1.011561       0.433526   \n",
       "socialism           13.461538      2.846154  1.384615       0.153846   \n",
       "Anarchism            0.000000      2.245707  1.056803       0.000000   \n",
       "Conservative         0.621670      0.000000  1.065719       1.554174   \n",
       "Liberal              2.564103      5.555556  0.000000       0.000000   \n",
       "conservatives        0.000000      8.571429  2.857143       0.000000   \n",
       "democrats            0.268817      3.494624  9.677419       0.000000   \n",
       "progressive          1.694915      1.977401  8.474576       0.282486   \n",
       "GreenParty           1.086957      0.000000  2.173913       0.000000   \n",
       "feminisms            0.000000      1.204819  1.204819       1.204819   \n",
       "Egalitarianism       0.000000      0.000000  0.000000       0.000000   \n",
       "republicans          0.000000     10.909091  0.000000       1.818182   \n",
       "\n",
       "                    democrats  progressive  GreenParty  feminisms  \\\n",
       "Libertarian          0.803213     1.058781    0.474626   0.109529   \n",
       "Republican           2.647059     1.470588    0.000000   0.000000   \n",
       "Anarcho_Capitalism   0.289017     0.289017    0.144509   0.000000   \n",
       "socialism            1.230769     2.461538    1.538462   0.230769   \n",
       "Anarchism            0.792602     1.453104    0.264201   0.792602   \n",
       "Conservative         0.888099     0.710480    0.133215   0.044405   \n",
       "Liberal              4.700855    11.111111    1.282051   0.427350   \n",
       "conservatives        0.000000     0.000000    0.000000   0.000000   \n",
       "democrats            0.000000     8.333333    0.806452   0.268817   \n",
       "progressive          6.779661     0.000000    1.412429   0.282486   \n",
       "GreenParty           0.000000     6.521739    0.000000   0.000000   \n",
       "feminisms            0.000000     0.000000    0.000000   0.000000   \n",
       "Egalitarianism       0.000000     2.272727    2.272727   0.000000   \n",
       "republicans          5.454545     0.000000    0.000000   0.000000   \n",
       "\n",
       "                    Egalitarianism  republicans  \n",
       "Libertarian               0.000000     0.255568  \n",
       "Republican                0.000000     1.470588  \n",
       "Anarcho_Capitalism        0.144509     0.289017  \n",
       "socialism                 0.153846     0.153846  \n",
       "Anarchism                 0.000000     0.132100  \n",
       "Conservative              0.000000     1.021314  \n",
       "Liberal                   0.000000     0.000000  \n",
       "conservatives             0.000000     0.000000  \n",
       "democrats                 0.000000     0.806452  \n",
       "progressive               0.282486     0.282486  \n",
       "GreenParty                0.000000     0.000000  \n",
       "feminisms                 0.000000     0.000000  \n",
       "Egalitarianism            0.000000     0.000000  \n",
       "republicans               0.000000     0.000000  "
      ]
     },
     "execution_count": 20,
     "metadata": {},
     "output_type": "execute_result"
    }
   ],
   "source": [
    "df_ideo_adj_classified"
   ]
  },
  {
   "cell_type": "markdown",
   "metadata": {},
   "source": [
    "As we saw in the adjacency matrix of the politics subreddits visualization, the subreddits are also not well connected this time; with very few percentage of them commenting in the others communities (we even see that none of them is over the 20%). So we can conclude that each of this group of political subreddits is quite isolated from each other. We also notice that the greatest values are inside the `politics`subreddit; let's see the correspondent graph:"
   ]
  },
  {
   "cell_type": "markdown",
   "metadata": {},
   "source": [
    "#### Visualization 5"
   ]
  },
  {
   "cell_type": "code",
   "execution_count": 25,
   "metadata": {
    "scrolled": false
   },
   "outputs": [],
   "source": [
    "A_classified = df_ideo_adj_classified.values\n",
    "g_ideo_subreddits = Graph().Adjacency((A_classified > 0).tolist())\n",
    "# Add edge weights and node labels.\n",
    "g_ideo_subreddits.es['weight'] = A_classified[A_classified.nonzero()]\n",
    "g_ideo_subreddits.vs['label'] = ideological_subreddits\n",
    "g_ideo_subreddits.es['widht'] = A_classified[A_classified.nonzero()] *00.1\n",
    "\n",
    "\n",
    "visual_style = {}\n",
    "visual_style[\"bbox\"] = (800, 600)\n",
    "visual_style[\"margin\"] = 100\n",
    "visual_style[\"vertex_size\"] = [df_classifier.loc[s][\"Number_of_Users_Belonging\"] * 0.02 for s in ideological_subreddits]\n",
    "visual_style[\"edge_arrow_size\"] = A_classified[A_classified.nonzero()] * 0.03\n",
    "\n",
    "#What this algorithm (fruchterman_reingold) do is printing the nodes which have less weight connection more distanciated\n",
    "layout = g_ideo_subreddits.layout_fruchterman_reingold(weights = g_ideo_subreddits.es['weight'])  \n",
    "out = plot(g_ideo_subreddits, **visual_style, layout = layout, edge_width = g_ideo_subreddits.es['widht'])\n",
    "out.save(VIS_DIR + 'visualization5.png') "
   ]
  },
  {
   "cell_type": "markdown",
   "metadata": {},
   "source": [
    "![title](notebook-graphs-visualizations/visualization5.png)"
   ]
  },
  {
   "cell_type": "markdown",
   "metadata": {},
   "source": [
    "What is interesting about this graph is that we can appreciate that similar ideologies have stronger ties; in general the right, clustered on the center and bottom is clearly separated from the left, clustered in the top and right-side. So we could interpret that even this few amount of people who is interacting with others communities, usually interact with communities whose ideology is similar to their own community. This fact could contribute even more to the echo-chamber effect; since there is no discussion between very different ideologies."
   ]
  },
  {
   "cell_type": "markdown",
   "metadata": {},
   "source": [
    "# 3 - Machine Learning for classify users ideology attempts"
   ]
  },
  {
   "cell_type": "markdown",
   "metadata": {},
   "source": [
    " We will divide our explanation into two main parts: \n",
    "\n",
    "1) What criterias did we use to obtain our dataset (Mostly scripts sent as jobs to the clusters, can be found in the `scripts/` folder)  \n",
    "2) Once the dataset obtained, we show how we classify it.  \n",
    "3) Finally we show our results, as in the average political lean for users and for subreddits."
   ]
  },
  {
   "cell_type": "markdown",
   "metadata": {},
   "source": [
    "## 1) Dataset selection."
   ]
  },
  {
   "cell_type": "markdown",
   "metadata": {},
   "source": [
    "We decided to restrict ourselves to the reddit posts in 2016 as it was an important year in terms of politics, More specifically the presidential election. Hence it would give us a chance to peek at communities that are polar opposites, as a result of the social engineering that took place in that period."
   ]
  },
  {
   "cell_type": "markdown",
   "metadata": {},
   "source": [
    "The ultimate goal of the partition is to build a classifier in order to predict the average political lean of the top 200 subreddits in 2016 (by top, meaning the ones with the most comments)."
   ]
  },
  {
   "cell_type": "markdown",
   "metadata": {},
   "source": [
    "### 1.1) Reading the data"
   ]
  },
  {
   "cell_type": "markdown",
   "metadata": {},
   "source": [
    "We use the script `scripts/read_data_original_2016.py` to save every posts made in 2016 to a parquet file, where we also drop the features (columns) that are not important to us. Which resulted in the parquet file `full_reduced_dataet_2016.parquet`."
   ]
  },
  {
   "cell_type": "markdown",
   "metadata": {},
   "source": [
    "### 1.2) Sentiment analysis"
   ]
  },
  {
   "cell_type": "markdown",
   "metadata": {},
   "source": [
    "Deciding to optimize the advantages offered to us, we decided to run sentiment analysis on the dataset obtained in 1.1) using nltk, more precisely vader sentiment analysis. The sentiment information will be useful for our classification in section 2). The script can be found at `scripts/sentiment_analysis_2016.py`, which resulted in the parquet file `full_reduced_sentiment_dataset.parquet`. It is the reddit 2016 dataset with 4 extra columns for the four polarity statistics as in positive, negative, neutral and compound sentiment. In the end only compound sentiment was used but the other 3 were still calculated if their need would arise at some point."
   ]
  },
  {
   "cell_type": "markdown",
   "metadata": {},
   "source": [
    "### 1.3) Removing unwanted data"
   ]
  },
  {
   "cell_type": "markdown",
   "metadata": {},
   "source": [
    "We first decided to remove the posts where the body of  the post or the author of the post would be deleted (i.e. `author == [deleted]`, `body == [deleted]`), as they do not bring us any information."
   ]
  },
  {
   "cell_type": "markdown",
   "metadata": {},
   "source": [
    "By looking at the graph showing the most popular subreddits in 2016:"
   ]
  },
  {
   "cell_type": "code",
   "execution_count": 110,
   "metadata": {
    "scrolled": true
   },
   "outputs": [
    {
     "data": {
      "image/png": "[encoded data removed]",
      "text/plain": [
       "<matplotlib.figure.Figure at 0x1a1eb87b00>"
      ]
     },
     "metadata": {},
     "output_type": "display_data"
    }
   ],
   "source": [
    "df_tmp = df_subreddit_count.toPandas().sort_values(by = \"Number_of_comments\", ascending = False).iloc[:10,:]\n",
    "df_tmp.plot(kind='barh',x = \"subreddit\", y = \"Number_of_comments\",legend = None)\n",
    "plt.title('10 most popular (commented) subbreddits')\n",
    "plt.xlabel('number of comments');\n",
    "plt.ylabel('subreddits');"
   ]
  },
  {
   "cell_type": "markdown",
   "metadata": {},
   "source": [
    "We can see that `r/AskReddit` is cleary much more popular than the others and is not politically pertinent to us hence we decided to remove it. We also decided to remove the subreddit `r/counting` which is a subreddit dedicated to counting but is part of the 200 most popular subreddits."
   ]
  },
  {
   "cell_type": "markdown",
   "metadata": {},
   "source": [
    "### 1.4) Obtaining subreddits"
   ]
  },
  {
   "cell_type": "markdown",
   "metadata": {},
   "source": [
    "In order to reduce the size of our 2016 dataset to a notebook managable size, we decided to take the posts that were in the 200 most popular subreddits (`AskReddit` and `counting` excluded)."
   ]
  },
  {
   "cell_type": "markdown",
   "metadata": {},
   "source": [
    "The script `scripts/remove_unwanted.py` was used in order to acomplish tasks 1.3 above and 1.4. Which resulted in 2 parquet files:  \n",
    "1) `subreddits_2016.parquet`, which contains every subreddit in 2016 and it's number of comments.  \n",
    "2) `filtered_dataset_2016.parquet`, which contains the 2016 reddit posts contained in the 200 most popular subreddits."
   ]
  },
  {
   "cell_type": "markdown",
   "metadata": {},
   "source": [
    "### 1.5) Sampling on the users"
   ]
  },
  {
   "cell_type": "markdown",
   "metadata": {},
   "source": [
    "Next, we decided to obtain all the users (`authors`) that posted in the 200 most popular subreddits, sample them, and select every comment from the sampled users. We do this so that once the classifier is trained we can obtain the average political lean of each user (`author`) by averaging the political lean of every one of that user's comments."
   ]
  },
  {
   "cell_type": "markdown",
   "metadata": {},
   "source": [
    "A small portion of the users were sampled (`0.025`), it is so small because we still have to obtain every post made by that user, hence we do not want the dataset to be unmanagable in the notebook."
   ]
  },
  {
   "cell_type": "markdown",
   "metadata": {},
   "source": [
    "This is done in the script `scripts/sample_users.py`, which results in the parquet file `final_dataset_2016_user_sampled.parquet`. "
   ]
  },
  {
   "cell_type": "markdown",
   "metadata": {},
   "source": [
    "### 1.6) Obtaining politics subreddits."
   ]
  },
  {
   "cell_type": "markdown",
   "metadata": {},
   "source": [
    "We manually took from the 200 most popular subreddits, the ones that were entierly dedicated to politics, which were the following 8 subreddits:"
   ]
  },
  {
   "cell_type": "code",
   "execution_count": 3,
   "metadata": {},
   "outputs": [
    {
     "data": {
      "text/html": [
       "<div>\n",
       "<style scoped>\n",
       "    .dataframe tbody tr th:only-of-type {\n",
       "        vertical-align: middle;\n",
       "    }\n",
       "\n",
       "    .dataframe tbody tr th {\n",
       "        vertical-align: top;\n",
       "    }\n",
       "\n",
       "    .dataframe thead th {\n",
       "        text-align: right;\n",
       "    }\n",
       "</style>\n",
       "<table border=\"1\" class=\"dataframe\">\n",
       "  <thead>\n",
       "    <tr style=\"text-align: right;\">\n",
       "      <th></th>\n",
       "      <th>subreddit entierly dedicated to politics</th>\n",
       "    </tr>\n",
       "  </thead>\n",
       "  <tbody>\n",
       "    <tr>\n",
       "      <th>0</th>\n",
       "      <td>EnoughTrumpSpam</td>\n",
       "    </tr>\n",
       "    <tr>\n",
       "      <th>1</th>\n",
       "      <td>PoliticalDiscussion</td>\n",
       "    </tr>\n",
       "    <tr>\n",
       "      <th>2</th>\n",
       "      <td>SandersForPresident</td>\n",
       "    </tr>\n",
       "    <tr>\n",
       "      <th>3</th>\n",
       "      <td>The_Donald</td>\n",
       "    </tr>\n",
       "    <tr>\n",
       "      <th>4</th>\n",
       "      <td>conspiracy</td>\n",
       "    </tr>\n",
       "    <tr>\n",
       "      <th>5</th>\n",
       "      <td>hillaryclinton</td>\n",
       "    </tr>\n",
       "    <tr>\n",
       "      <th>6</th>\n",
       "      <td>politics</td>\n",
       "    </tr>\n",
       "    <tr>\n",
       "      <th>7</th>\n",
       "      <td>ukpolitics</td>\n",
       "    </tr>\n",
       "  </tbody>\n",
       "</table>\n",
       "</div>"
      ],
      "text/plain": [
       "  subreddit entierly dedicated to politics\n",
       "0                          EnoughTrumpSpam\n",
       "1                      PoliticalDiscussion\n",
       "2                      SandersForPresident\n",
       "3                               The_Donald\n",
       "4                               conspiracy\n",
       "5                           hillaryclinton\n",
       "6                                 politics\n",
       "7                               ukpolitics"
      ]
     },
     "execution_count": 3,
     "metadata": {},
     "output_type": "execute_result"
    }
   ],
   "source": [
    "pd.DataFrame(['EnoughTrumpSpam','PoliticalDiscussion','SandersForPresident','The_Donald','conspiracy', \\\n",
    "              'hillaryclinton','politics','ukpolitics'],columns=['subreddit entierly dedicated to politics'])"
   ]
  },
  {
   "cell_type": "markdown",
   "metadata": {},
   "source": [
    "We then took every comment from every users in these 8 subreddits. This gives us a list of users who touch the subject of politics."
   ]
  },
  {
   "cell_type": "markdown",
   "metadata": {},
   "source": [
    "The script used was `scripts/users_in_politics.py`, from which we obtained `final_dataset_2016_user_sampled_politics.parquet`."
   ]
  },
  {
   "cell_type": "markdown",
   "metadata": {},
   "source": [
    "### 1.7) Training Set"
   ]
  },
  {
   "cell_type": "markdown",
   "metadata": {},
   "source": [
    "Finally we need a training set for our classifier. The idea here is to use every comments of 4 subbreddits as the training set. Those 4 subreddits are:"
   ]
  },
  {
   "cell_type": "code",
   "execution_count": 6,
   "metadata": {},
   "outputs": [
    {
     "data": {
      "text/html": [
       "<div>\n",
       "<style scoped>\n",
       "    .dataframe tbody tr th:only-of-type {\n",
       "        vertical-align: middle;\n",
       "    }\n",
       "\n",
       "    .dataframe tbody tr th {\n",
       "        vertical-align: top;\n",
       "    }\n",
       "\n",
       "    .dataframe thead th {\n",
       "        text-align: right;\n",
       "    }\n",
       "</style>\n",
       "<table border=\"1\" class=\"dataframe\">\n",
       "  <thead>\n",
       "    <tr style=\"text-align: right;\">\n",
       "      <th></th>\n",
       "      <th>subreddit r/</th>\n",
       "      <th>label</th>\n",
       "    </tr>\n",
       "  </thead>\n",
       "  <tbody>\n",
       "    <tr>\n",
       "      <th>0</th>\n",
       "      <td>Republican</td>\n",
       "      <td>1</td>\n",
       "    </tr>\n",
       "    <tr>\n",
       "      <th>1</th>\n",
       "      <td>Conservative</td>\n",
       "      <td>1</td>\n",
       "    </tr>\n",
       "    <tr>\n",
       "      <th>2</th>\n",
       "      <td>Liberal</td>\n",
       "      <td>-1</td>\n",
       "    </tr>\n",
       "    <tr>\n",
       "      <th>3</th>\n",
       "      <td>democrats</td>\n",
       "      <td>-1</td>\n",
       "    </tr>\n",
       "  </tbody>\n",
       "</table>\n",
       "</div>"
      ],
      "text/plain": [
       "   subreddit r/  label\n",
       "0    Republican      1\n",
       "1  Conservative      1\n",
       "2       Liberal     -1\n",
       "3     democrats     -1"
      ]
     },
     "execution_count": 6,
     "metadata": {},
     "output_type": "execute_result"
    }
   ],
   "source": [
    "pd.DataFrame([['Republican',1],['Conservative',1],['Liberal',-1],['democrats',-1]],columns=['subreddit r/','label'])"
   ]
  },
  {
   "cell_type": "markdown",
   "metadata": {},
   "source": [
    "The comments in the subreddits `r/Republican` and `r/Conservative` will represent our right lean, hence the will be classified as 1 and `r/Liberal` and `r/democrats` will represent our left lean and will be classified as -1."
   ]
  },
  {
   "cell_type": "markdown",
   "metadata": {},
   "source": [
    "The idea here is to select 25000 comments from each of the 4 subreddits to have a training set of 100000 comments. Rather than randomly sampling, we decided to select the comments with the highest score. This will result in the selection of the comments that are most aligned with ideology of the subreddit. "
   ]
  },
  {
   "cell_type": "markdown",
   "metadata": {},
   "source": [
    "This is done via the `scripts/training.py` script, which will result with our training set in the form of a parquet file named `training_data.parquet`."
   ]
  },
  {
   "cell_type": "markdown",
   "metadata": {},
   "source": [
    "## 2) Classification"
   ]
  },
  {
   "cell_type": "markdown",
   "metadata": {},
   "source": [
    "### 2.1) Model Selection"
   ]
  },
  {
   "cell_type": "markdown",
   "metadata": {},
   "source": [
    "The first thing we need to do is select what our classification pipeline will be. We want to build a classifier that is able to predict the political lean of a comment."
   ]
  },
  {
   "cell_type": "markdown",
   "metadata": {},
   "source": [
    "Essentially we want to train a text classifier. We will implement several different technics and find their scores by splitting our dataset (`training_data.parquet`) into a training set and a test set. We will implement a classifier with the method that gives us the highest score."
   ]
  },
  {
   "cell_type": "code",
   "execution_count": 112,
   "metadata": {},
   "outputs": [],
   "source": [
    "import pandas as pd\n",
    "import numpy as np\n",
    "import scipy as sp\n",
    "import seaborn as sns\n",
    "%matplotlib inline\n",
    "import matplotlib.pyplot as plt\n",
    "\n",
    "from sklearn.linear_model import LinearRegression, LogisticRegression\n",
    "from sklearn.preprocessing import OneHotEncoder\n",
    "from pandas.plotting import scatter_matrix\n",
    "from sklearn.model_selection import cross_val_predict\n",
    "from sklearn.model_selection import cross_val_score\n",
    "from sklearn.ensemble import RandomForestClassifier\n",
    "from sklearn.metrics import confusion_matrix, accuracy_score, recall_score, precision_score, f1_score\n",
    "\n",
    "import warnings; warnings.simplefilter('ignore')\n",
    "\n",
    "import findspark\n",
    "#findspark.init(r'C:\\Spark\\spark-2.3.2-bin-hadoop2.7')\n",
    "findspark.init('/Users/vikalpkamdar/opt/spark')\n",
    "#findspark.init()\n",
    "findspark.find()\n",
    "\n",
    "from datetime import datetime\n",
    "from matplotlib import pyplot as plt\n",
    "from pyspark.sql import *\n",
    "from pyspark.sql.functions import *\n",
    "\n",
    "from pyspark.sql import SparkSession\n",
    "from pyspark import SparkContext\n",
    "\n",
    "spark = SparkSession.builder.getOrCreate()\n",
    "spark.conf.set('spark.sql.session.timeZone', 'UTC')\n",
    "sc = spark.sparkContext\n",
    "sqlc = SQLContext(sc)"
   ]
  },
  {
   "cell_type": "markdown",
   "metadata": {},
   "source": [
    "We shall first load the training set and clean it by removing rows where `body = [deleted]`, `body = [removed]` and/or `author = [deleted]`."
   ]
  },
  {
   "cell_type": "code",
   "execution_count": 187,
   "metadata": {},
   "outputs": [],
   "source": [
    "df_training_spark = spark.read.parquet('training_data.parquet')"
   ]
  },
  {
   "cell_type": "code",
   "execution_count": 188,
   "metadata": {},
   "outputs": [],
   "source": [
    "df_training_spark = df_training_spark.filter('body != \"[removed]\"').filter('body != \"[deleted]\"').filter('author != \"[deleted]\"')"
   ]
  },
  {
   "cell_type": "code",
   "execution_count": 191,
   "metadata": {},
   "outputs": [
    {
     "name": "stdout",
     "output_type": "stream",
     "text": [
      "After cleaning, the dataset used to train the classifier has 94949 comments\n"
     ]
    }
   ],
   "source": [
    "print('After cleaning, the dataset used to train the classifier has ' + str(df_training_spark.count()) + ' comments')"
   ]
  },
  {
   "cell_type": "code",
   "execution_count": 125,
   "metadata": {},
   "outputs": [],
   "source": [
    "df_training = df_training_spark.select('body','score','compound_sent','category').toPandas()"
   ]
  },
  {
   "cell_type": "markdown",
   "metadata": {},
   "source": [
    "Let us now implement different classifiers and see which ones give us the best scores."
   ]
  },
  {
   "cell_type": "markdown",
   "metadata": {},
   "source": [
    "Source: https://www.analyticsvidhya.com/blog/2018/04/a-comprehensive-guide-to-understand-and-implement-text-classification-in-python/"
   ]
  },
  {
   "cell_type": "code",
   "execution_count": 127,
   "metadata": {},
   "outputs": [],
   "source": [
    "from sklearn import model_selection, preprocessing, linear_model, naive_bayes, metrics, svm\n",
    "from sklearn.feature_extraction.text import TfidfVectorizer, CountVectorizer\n",
    "from sklearn import decomposition, ensemble\n",
    "\n",
    "import pandas, xgboost, numpy, textblob, string\n",
    "from keras.preprocessing import text, sequence\n",
    "from keras import layers, models, optimizers"
   ]
  },
  {
   "cell_type": "markdown",
   "metadata": {},
   "source": [
    "We split the dataset into training and validation (test) sets."
   ]
  },
  {
   "cell_type": "code",
   "execution_count": 128,
   "metadata": {},
   "outputs": [],
   "source": [
    "train_x, valid_x, train_y, valid_y = model_selection.train_test_split(df_training['body'], df_training['category'])\n",
    "\n",
    "encoder = preprocessing.LabelEncoder()\n",
    "train_y = encoder.fit_transform(train_y)\n",
    "valid_y = encoder.fit_transform(valid_y)"
   ]
  },
  {
   "cell_type": "markdown",
   "metadata": {},
   "source": [
    "Method to calculate the accuracy. We will use it to test our models."
   ]
  },
  {
   "cell_type": "code",
   "execution_count": 129,
   "metadata": {},
   "outputs": [],
   "source": [
    "def train_model(classifier, feature_vector_train, label, feature_vector_valid, is_neural_net=False):\n",
    "    # fit the training dataset on the classifier\n",
    "    classifier.fit(feature_vector_train, label)\n",
    "    \n",
    "    # predict the labels on validation dataset\n",
    "    predictions = classifier.predict(feature_vector_valid)\n",
    "    \n",
    "    if is_neural_net:\n",
    "        predictions = predictions.argmax(axis=-1)\n",
    "    \n",
    "    return metrics.accuracy_score(predictions, valid_y)"
   ]
  },
  {
   "cell_type": "markdown",
   "metadata": {},
   "source": [
    "For each of the methods below we will use `LogisticRegression()` as our classifier."
   ]
  },
  {
   "cell_type": "markdown",
   "metadata": {},
   "source": [
    "#### 2.1.1) N-gram level tf-idf"
   ]
  },
  {
   "cell_type": "code",
   "execution_count": 130,
   "metadata": {},
   "outputs": [],
   "source": [
    "tfidf_vect_ngram = TfidfVectorizer(analyzer='word', ngram_range=(2,3), max_features=5000)\n",
    "tfidf_vect_ngram.fit(df_training['body'])\n",
    "xtrain_tfidf_ngram =  tfidf_vect_ngram.transform(train_x)\n",
    "xvalid_tfidf_ngram =  tfidf_vect_ngram.transform(valid_x)"
   ]
  },
  {
   "cell_type": "code",
   "execution_count": 131,
   "metadata": {},
   "outputs": [
    {
     "name": "stdout",
     "output_type": "stream",
     "text": [
      "LR, N-Gram Vectors:  0.6139101861993428\n"
     ]
    }
   ],
   "source": [
    "accuracy = train_model(linear_model.LogisticRegression(), xtrain_tfidf_ngram, train_y, xvalid_tfidf_ngram)\n",
    "print(\"LR, N-Gram Vectors: \", accuracy)"
   ]
  },
  {
   "cell_type": "markdown",
   "metadata": {},
   "source": [
    "#### 2.1.2) Word level tf-idf"
   ]
  },
  {
   "cell_type": "code",
   "execution_count": 132,
   "metadata": {},
   "outputs": [],
   "source": [
    "tfidf_vect = TfidfVectorizer(analyzer='word', token_pattern=r'\\w{1,}', max_features=5000)\n",
    "tfidf_vect.fit(df_training['body'])\n",
    "xtrain_tfidf =  tfidf_vect.transform(train_x)\n",
    "xvalid_tfidf =  tfidf_vect.transform(valid_x)"
   ]
  },
  {
   "cell_type": "code",
   "execution_count": 133,
   "metadata": {},
   "outputs": [
    {
     "name": "stdout",
     "output_type": "stream",
     "text": [
      "LR, WordLevel TF-IDF:  0.6724660881287388\n"
     ]
    }
   ],
   "source": [
    "accuracy = train_model(linear_model.LogisticRegression(), xtrain_tfidf, train_y, xvalid_tfidf)\n",
    "print(\"LR, WordLevel TF-IDF: \", accuracy)"
   ]
  },
  {
   "cell_type": "markdown",
   "metadata": {},
   "source": [
    "#### 2.1.3) Character level tf-idf"
   ]
  },
  {
   "cell_type": "code",
   "execution_count": 134,
   "metadata": {},
   "outputs": [],
   "source": [
    "tfidf_vect_ngram_chars = TfidfVectorizer(analyzer='char', token_pattern=r'\\w{1,}', ngram_range=(2,3), max_features=5000)\n",
    "tfidf_vect_ngram_chars.fit(df_training['body'])\n",
    "xtrain_tfidf_ngram_chars =  tfidf_vect_ngram_chars.transform(train_x) \n",
    "xvalid_tfidf_ngram_chars =  tfidf_vect_ngram_chars.transform(valid_x) "
   ]
  },
  {
   "cell_type": "code",
   "execution_count": 135,
   "metadata": {},
   "outputs": [
    {
     "name": "stdout",
     "output_type": "stream",
     "text": [
      "LR, CharLevel Vectors:  0.666147105906142\n"
     ]
    }
   ],
   "source": [
    "accuracy = train_model(linear_model.LogisticRegression(), xtrain_tfidf_ngram_chars, train_y, xvalid_tfidf_ngram_chars)\n",
    "print(\"LR, CharLevel Vectors: \", accuracy)"
   ]
  },
  {
   "cell_type": "markdown",
   "metadata": {},
   "source": [
    "#### 2.1.4) Text / NLP based features"
   ]
  },
  {
   "cell_type": "markdown",
   "metadata": {},
   "source": [
    "To the contrary of the above methods, this technic extends the dataset by concatenating features that are essentially statistics extracted from the comment's body."
   ]
  },
  {
   "cell_type": "code",
   "execution_count": 161,
   "metadata": {},
   "outputs": [],
   "source": [
    "df_training['char_count'] = df_training['body'].apply(len)\n",
    "df_training['word_count'] = df_training['body'].apply(lambda x: len(x.split()))\n",
    "df_training['word_density'] = df_training['char_count'] / (df_training['word_count']+1)\n",
    "df_training['punctuation_count'] = df_training['body'].apply(lambda x: len(\"\".join(_ for _ in x if _ in string.punctuation))) \n",
    "df_training['title_word_count'] = df_training['body'].apply(lambda x: len([wrd for wrd in x.split() if wrd.istitle()]))\n",
    "df_training['upper_case_word_count'] = df_training['body'].apply(lambda x: len([wrd for wrd in x.split() if wrd.isupper()]))"
   ]
  },
  {
   "cell_type": "code",
   "execution_count": 162,
   "metadata": {},
   "outputs": [],
   "source": [
    "pos_family = {\n",
    "    'noun' : ['NN','NNS','NNP','NNPS'],\n",
    "    'pron' : ['PRP','PRP$','WP','WP$'],\n",
    "    'verb' : ['VB','VBD','VBG','VBN','VBP','VBZ'],\n",
    "    'adj' :  ['JJ','JJR','JJS'],\n",
    "    'adv' : ['RB','RBR','RBS','WRB']\n",
    "}\n",
    "\n",
    "# function to check and get the part of speech tag count of a words in a given sentence\n",
    "def check_pos_tag(x, flag):\n",
    "    cnt = 0\n",
    "    try:\n",
    "        wiki = textblob.TextBlob(x)\n",
    "        for tup in wiki.tags:\n",
    "            ppo = list(tup)[1]\n",
    "            if ppo in pos_family[flag]:\n",
    "                cnt += 1\n",
    "    except:\n",
    "        pass\n",
    "    return cnt\n",
    "\n",
    "df_training['noun_count'] = df_training['body'].apply(lambda x: check_pos_tag(x, 'noun'))\n",
    "df_training['verb_count'] = df_training['body'].apply(lambda x: check_pos_tag(x, 'verb'))\n",
    "df_training['adj_count'] = df_training['body'].apply(lambda x: check_pos_tag(x, 'adj'))\n",
    "df_training['adv_count'] = df_training['body'].apply(lambda x: check_pos_tag(x, 'adv'))\n",
    "df_training['pron_count'] = df_training['body'].apply(lambda x: check_pos_tag(x, 'pron'))"
   ]
  },
  {
   "cell_type": "markdown",
   "metadata": {},
   "source": [
    "These are the features that are going to be used to train the classifier."
   ]
  },
  {
   "cell_type": "code",
   "execution_count": 144,
   "metadata": {},
   "outputs": [],
   "source": [
    "features = ['char_count', 'word_count', 'word_density',\n",
    "       'punctuation_count', 'title_word_count', 'upper_case_word_count',\n",
    "       'noun_count', 'verb_count', 'adj_count', 'adv_count', 'pron_count','score','compound_sent']"
   ]
  },
  {
   "cell_type": "code",
   "execution_count": 140,
   "metadata": {},
   "outputs": [],
   "source": [
    "classifier = LogisticRegression(solver='lbfgs')"
   ]
  },
  {
   "cell_type": "markdown",
   "metadata": {},
   "source": [
    "Split dataset into subsets, where 80% of it will be the training set and the remaining 20% will be part of the test set."
   ]
  },
  {
   "cell_type": "code",
   "execution_count": 141,
   "metadata": {},
   "outputs": [],
   "source": [
    "train_df = df_training.sample(frac=0.8,replace=False)\n",
    "test_df = df_training.drop(train_df.index.tolist(),axis=0)"
   ]
  },
  {
   "cell_type": "markdown",
   "metadata": {},
   "source": [
    "Train `LogisticRegression()` classifier."
   ]
  },
  {
   "cell_type": "code",
   "execution_count": 145,
   "metadata": {},
   "outputs": [
    {
     "data": {
      "text/plain": [
       "LogisticRegression(C=1.0, class_weight=None, dual=False, fit_intercept=True,\n",
       "          intercept_scaling=1, max_iter=100, multi_class='ovr', n_jobs=1,\n",
       "          penalty='l2', random_state=None, solver='lbfgs', tol=0.0001,\n",
       "          verbose=0, warm_start=False)"
      ]
     },
     "execution_count": 145,
     "metadata": {},
     "output_type": "execute_result"
    }
   ],
   "source": [
    "classifier.fit(train_df[features],train_df['label'])"
   ]
  },
  {
   "cell_type": "code",
   "execution_count": 193,
   "metadata": {},
   "outputs": [
    {
     "name": "stdout",
     "output_type": "stream",
     "text": [
      "accuracy score is 0.8006319115323854\n"
     ]
    }
   ],
   "source": [
    "print('accuracy score is ' + str(classifier.score(test_df[features],test_df['label'])))"
   ]
  },
  {
   "cell_type": "markdown",
   "metadata": {},
   "source": [
    "#### 2.1.5) Comparison"
   ]
  },
  {
   "cell_type": "markdown",
   "metadata": {},
   "source": [
    "Let us now compare the different methods."
   ]
  },
  {
   "cell_type": "code",
   "execution_count": 195,
   "metadata": {},
   "outputs": [],
   "source": [
    "comparison_pd = pd.DataFrame([['N-gram level tf-idf',0.6139101861993428],['Word level tf-idf',0.6724660881287388], \\\n",
    "                              ['Character level tf-idf',0.666147105906142], \\\n",
    "                              ['Text / NLP based features',0.8006319115323854]],columns=['method','accuracy score'])"
   ]
  },
  {
   "cell_type": "code",
   "execution_count": 196,
   "metadata": {},
   "outputs": [
    {
     "data": {
      "text/html": [
       "<div>\n",
       "<style scoped>\n",
       "    .dataframe tbody tr th:only-of-type {\n",
       "        vertical-align: middle;\n",
       "    }\n",
       "\n",
       "    .dataframe tbody tr th {\n",
       "        vertical-align: top;\n",
       "    }\n",
       "\n",
       "    .dataframe thead th {\n",
       "        text-align: right;\n",
       "    }\n",
       "</style>\n",
       "<table border=\"1\" class=\"dataframe\">\n",
       "  <thead>\n",
       "    <tr style=\"text-align: right;\">\n",
       "      <th></th>\n",
       "      <th>method</th>\n",
       "      <th>accuracy score</th>\n",
       "    </tr>\n",
       "  </thead>\n",
       "  <tbody>\n",
       "    <tr>\n",
       "      <th>0</th>\n",
       "      <td>N-gram level tf-idf</td>\n",
       "      <td>0.613910</td>\n",
       "    </tr>\n",
       "    <tr>\n",
       "      <th>1</th>\n",
       "      <td>Word level tf-idf</td>\n",
       "      <td>0.672466</td>\n",
       "    </tr>\n",
       "    <tr>\n",
       "      <th>2</th>\n",
       "      <td>Character level tf-idf</td>\n",
       "      <td>0.666147</td>\n",
       "    </tr>\n",
       "    <tr>\n",
       "      <th>3</th>\n",
       "      <td>Text / NLP based features</td>\n",
       "      <td>0.800632</td>\n",
       "    </tr>\n",
       "  </tbody>\n",
       "</table>\n",
       "</div>"
      ],
      "text/plain": [
       "                      method  accuracy score\n",
       "0        N-gram level tf-idf        0.613910\n",
       "1          Word level tf-idf        0.672466\n",
       "2     Character level tf-idf        0.666147\n",
       "3  Text / NLP based features        0.800632"
      ]
     },
     "execution_count": 196,
     "metadata": {},
     "output_type": "execute_result"
    }
   ],
   "source": [
    "comparison_pd"
   ]
  },
  {
   "cell_type": "code",
   "execution_count": 221,
   "metadata": {},
   "outputs": [
    {
     "data": {
      "image/png": "[encoded data removed]",
      "text/plain": [
       "<matplotlib.figure.Figure at 0x1a526592e8>"
      ]
     },
     "metadata": {},
     "output_type": "display_data"
    }
   ],
   "source": [
    "comparison_pd.set_index('method').plot(kind='bar',legend=False);\n",
    "plt.title('Performance comparison');\n",
    "plt.ylabel('accuracy score');\n",
    "plt.xticks(rotation = 45);\n",
    "plt.savefig('performance.png')"
   ]
  },
  {
   "cell_type": "markdown",
   "metadata": {},
   "source": [
    "Even though the Text/NLP based features method does not directly use the content of the comment, but rather derives features based on statistics, it gives us the highest score. That is why we decided to keep the `compound_sent` feature, which actually deals with the content of the comments."
   ]
  },
  {
   "cell_type": "markdown",
   "metadata": {},
   "source": [
    "Hence we will use the Text/NLP based features method to classify our dataset"
   ]
  },
  {
   "cell_type": "markdown",
   "metadata": {},
   "source": [
    "### 2.2) Text/NLP based features method on the dataset"
   ]
  },
  {
   "cell_type": "markdown",
   "metadata": {},
   "source": [
    "Let us first download the datasets."
   ]
  },
  {
   "cell_type": "markdown",
   "metadata": {},
   "source": [
    "The dataset containing the comments."
   ]
  },
  {
   "cell_type": "code",
   "execution_count": 172,
   "metadata": {},
   "outputs": [],
   "source": [
    "full_df_spark_2 = spark.read.parquet('final_dataset_2016_user_sampled_post_filtered_3.parquet')"
   ]
  },
  {
   "cell_type": "markdown",
   "metadata": {},
   "source": [
    "The dataset contining the list of subreddits that are 'entierly' dedicated to politics."
   ]
  },
  {
   "cell_type": "code",
   "execution_count": 147,
   "metadata": {},
   "outputs": [],
   "source": [
    "politics_subreddits_spark = spark.read.parquet('topics.parquet')"
   ]
  },
  {
   "cell_type": "code",
   "execution_count": 149,
   "metadata": {},
   "outputs": [],
   "source": [
    "politics_subreddits = politics_subreddits_spark.filter('topic = \"politics\"') \\\n",
    "                                                .select('subreddit').rdd.map(lambda row: row[0]).collect()"
   ]
  },
  {
   "cell_type": "markdown",
   "metadata": {},
   "source": [
    "Below are the 8 subreddits dedicated to politics."
   ]
  },
  {
   "cell_type": "code",
   "execution_count": 208,
   "metadata": {},
   "outputs": [
    {
     "data": {
      "text/html": [
       "<div>\n",
       "<style scoped>\n",
       "    .dataframe tbody tr th:only-of-type {\n",
       "        vertical-align: middle;\n",
       "    }\n",
       "\n",
       "    .dataframe tbody tr th {\n",
       "        vertical-align: top;\n",
       "    }\n",
       "\n",
       "    .dataframe thead th {\n",
       "        text-align: right;\n",
       "    }\n",
       "</style>\n",
       "<table border=\"1\" class=\"dataframe\">\n",
       "  <thead>\n",
       "    <tr style=\"text-align: right;\">\n",
       "      <th></th>\n",
       "      <th>subreddits entierly dedicated to politics</th>\n",
       "    </tr>\n",
       "  </thead>\n",
       "  <tbody>\n",
       "    <tr>\n",
       "      <th>0</th>\n",
       "      <td>conspiracy</td>\n",
       "    </tr>\n",
       "    <tr>\n",
       "      <th>1</th>\n",
       "      <td>politics</td>\n",
       "    </tr>\n",
       "    <tr>\n",
       "      <th>2</th>\n",
       "      <td>hillaryclinton</td>\n",
       "    </tr>\n",
       "    <tr>\n",
       "      <th>3</th>\n",
       "      <td>The_Donald</td>\n",
       "    </tr>\n",
       "    <tr>\n",
       "      <th>4</th>\n",
       "      <td>SandersForPresident</td>\n",
       "    </tr>\n",
       "    <tr>\n",
       "      <th>5</th>\n",
       "      <td>PoliticalDiscussion</td>\n",
       "    </tr>\n",
       "    <tr>\n",
       "      <th>6</th>\n",
       "      <td>EnoughTrumpSpam</td>\n",
       "    </tr>\n",
       "    <tr>\n",
       "      <th>7</th>\n",
       "      <td>ukpolitics</td>\n",
       "    </tr>\n",
       "  </tbody>\n",
       "</table>\n",
       "</div>"
      ],
      "text/plain": [
       "  subreddits entierly dedicated to politics\n",
       "0                                conspiracy\n",
       "1                                  politics\n",
       "2                            hillaryclinton\n",
       "3                                The_Donald\n",
       "4                       SandersForPresident\n",
       "5                       PoliticalDiscussion\n",
       "6                           EnoughTrumpSpam\n",
       "7                                ukpolitics"
      ]
     },
     "execution_count": 208,
     "metadata": {},
     "output_type": "execute_result"
    }
   ],
   "source": [
    "pd.DataFrame(politics_subreddits,columns=['subreddits entierly dedicated to politics'])"
   ]
  },
  {
   "cell_type": "markdown",
   "metadata": {},
   "source": [
    "We shall now obtain every comment made in these subreddits."
   ]
  },
  {
   "cell_type": "code",
   "execution_count": 173,
   "metadata": {},
   "outputs": [],
   "source": [
    "politic_posts_df_spark_2 = full_df_spark_2.filter(full_df_spark_2.subreddit.isin(politics_subreddits))"
   ]
  },
  {
   "cell_type": "code",
   "execution_count": 174,
   "metadata": {},
   "outputs": [],
   "source": [
    "df_pd_2 = politic_posts_df_spark_2.select('body','score','compound_sent').toPandas()"
   ]
  },
  {
   "cell_type": "markdown",
   "metadata": {},
   "source": [
    "In order to classify each comment in the dataset `df_pd_2`, we need to append the 'statistics' features."
   ]
  },
  {
   "cell_type": "code",
   "execution_count": 175,
   "metadata": {},
   "outputs": [],
   "source": [
    "df_pd_2['char_count'] = df_pd_2['body'].apply(len)\n",
    "df_pd_2['word_count'] = df_pd_2['body'].apply(lambda x: len(x.split()))\n",
    "df_pd_2['word_density'] = df_pd_2['char_count'] / (df_pd_2['word_count']+1)\n",
    "df_pd_2['punctuation_count'] = df_pd_2['body'].apply(lambda x: len(\"\".join(_ for _ in x if _ in string.punctuation))) \n",
    "df_pd_2['title_word_count'] = df_pd_2['body'].apply(lambda x: len([wrd for wrd in x.split() if wrd.istitle()]))\n",
    "df_pd_2['upper_case_word_count'] = df_pd_2['body'].apply(lambda x: len([wrd for wrd in x.split() if wrd.isupper()]))"
   ]
  },
  {
   "cell_type": "code",
   "execution_count": 176,
   "metadata": {},
   "outputs": [],
   "source": [
    "pos_family = {\n",
    "    'noun' : ['NN','NNS','NNP','NNPS'],\n",
    "    'pron' : ['PRP','PRP$','WP','WP$'],\n",
    "    'verb' : ['VB','VBD','VBG','VBN','VBP','VBZ'],\n",
    "    'adj' :  ['JJ','JJR','JJS'],\n",
    "    'adv' : ['RB','RBR','RBS','WRB']\n",
    "}\n",
    "\n",
    "# function to check and get the part of speech tag count of a words in a given sentence\n",
    "def check_pos_tag(x, flag):\n",
    "    cnt = 0\n",
    "    try:\n",
    "        wiki = textblob.TextBlob(x)\n",
    "        for tup in wiki.tags:\n",
    "            ppo = list(tup)[1]\n",
    "            if ppo in pos_family[flag]:\n",
    "                cnt += 1\n",
    "    except:\n",
    "        pass\n",
    "    return cnt\n",
    "\n",
    "df_pd_2['noun_count'] = df_pd_2['body'].apply(lambda x: check_pos_tag(x, 'noun'))\n",
    "df_pd_2['verb_count'] = df_pd_2['body'].apply(lambda x: check_pos_tag(x, 'verb'))\n",
    "df_pd_2['adj_count'] = df_pd_2['body'].apply(lambda x: check_pos_tag(x, 'adj'))\n",
    "df_pd_2['adv_count'] = df_pd_2['body'].apply(lambda x: check_pos_tag(x, 'adv'))\n",
    "df_pd_2['pron_count'] = df_pd_2['body'].apply(lambda x: check_pos_tag(x, 'pron'))"
   ]
  },
  {
   "cell_type": "markdown",
   "metadata": {},
   "source": [
    "### 2.3) Classify Dataset"
   ]
  },
  {
   "cell_type": "markdown",
   "metadata": {},
   "source": [
    "Now that the classifier is trained and the dataset to be classified has the proper format, we can go ahead and classifiy each comments in `df_pd_2`."
   ]
  },
  {
   "cell_type": "code",
   "execution_count": 177,
   "metadata": {},
   "outputs": [],
   "source": [
    "pred2 = classifier.predict(df_pd_2[features])"
   ]
  },
  {
   "cell_type": "code",
   "execution_count": 212,
   "metadata": {},
   "outputs": [
    {
     "data": {
      "image/png": "[encoded data removed]",
      "text/plain": [
       "<matplotlib.figure.Figure at 0x1a350120b8>"
      ]
     },
     "metadata": {},
     "output_type": "display_data"
    }
   ],
   "source": [
    "plt.hist(pred2);\n",
    "plt.title('Comments lean Distribution');\n",
    "plt.xlabel('political lean score');\n",
    "plt.ylabel('frequency');"
   ]
  },
  {
   "cell_type": "markdown",
   "metadata": {},
   "source": [
    "As we can see this distribution is much 'one-sided' towards the political left party. Hence one hypothesis that could be made concerning the average political lean of users and subreddits, is that it should be similarely 'one-sided'."
   ]
  },
  {
   "cell_type": "code",
   "execution_count": 178,
   "metadata": {},
   "outputs": [],
   "source": [
    "np.save('pred_2.npy',pred2)"
   ]
  },
  {
   "cell_type": "code",
   "execution_count": 179,
   "metadata": {},
   "outputs": [],
   "source": [
    "df_pd_2.to_parquet('dataset_feature_augmentation_2.parquet')"
   ]
  },
  {
   "cell_type": "markdown",
   "metadata": {},
   "source": [
    "## 3) Results"
   ]
  },
  {
   "cell_type": "markdown",
   "metadata": {},
   "source": [
    "### 3.1) Average Author Lean Distribution"
   ]
  },
  {
   "cell_type": "markdown",
   "metadata": {},
   "source": [
    "Now that we have successfully classified our dataset, we will calculate the average political lean of each user (`author`). This will be done by averaging the leans of the comments made by the user."
   ]
  },
  {
   "cell_type": "code",
   "execution_count": 8,
   "metadata": {},
   "outputs": [],
   "source": [
    "results_pd = politic_posts_df_spark_2.select('id','author','subreddit').toPandas()"
   ]
  },
  {
   "cell_type": "code",
   "execution_count": 10,
   "metadata": {},
   "outputs": [],
   "source": [
    "results_pd = pd.concat([results_pd,pred2],axis=1)"
   ]
  },
  {
   "cell_type": "code",
   "execution_count": 11,
   "metadata": {},
   "outputs": [],
   "source": [
    "results_pd.columns = ['id','author','subreddit','lean']"
   ]
  },
  {
   "cell_type": "code",
   "execution_count": 12,
   "metadata": {},
   "outputs": [],
   "source": [
    "author_lean = results_pd[['author','lean']].groupby('author').mean()"
   ]
  },
  {
   "cell_type": "code",
   "execution_count": 70,
   "metadata": {},
   "outputs": [
    {
     "data": {
      "text/html": [
       "<div>\n",
       "<style scoped>\n",
       "    .dataframe tbody tr th:only-of-type {\n",
       "        vertical-align: middle;\n",
       "    }\n",
       "\n",
       "    .dataframe tbody tr th {\n",
       "        vertical-align: top;\n",
       "    }\n",
       "\n",
       "    .dataframe thead th {\n",
       "        text-align: right;\n",
       "    }\n",
       "</style>\n",
       "<table border=\"1\" class=\"dataframe\">\n",
       "  <thead>\n",
       "    <tr style=\"text-align: right;\">\n",
       "      <th></th>\n",
       "      <th>lean</th>\n",
       "    </tr>\n",
       "    <tr>\n",
       "      <th>author</th>\n",
       "      <th></th>\n",
       "    </tr>\n",
       "  </thead>\n",
       "  <tbody>\n",
       "    <tr>\n",
       "      <th>---iamjenok---</th>\n",
       "      <td>-1.000000</td>\n",
       "    </tr>\n",
       "    <tr>\n",
       "      <th>--Squidoo--</th>\n",
       "      <td>1.000000</td>\n",
       "    </tr>\n",
       "    <tr>\n",
       "      <th>--WhiteFang--</th>\n",
       "      <td>-0.701754</td>\n",
       "    </tr>\n",
       "    <tr>\n",
       "      <th>--harley--quinn--</th>\n",
       "      <td>-1.000000</td>\n",
       "    </tr>\n",
       "    <tr>\n",
       "      <th>-1K</th>\n",
       "      <td>-1.000000</td>\n",
       "    </tr>\n",
       "  </tbody>\n",
       "</table>\n",
       "</div>"
      ],
      "text/plain": [
       "                       lean\n",
       "author                     \n",
       "---iamjenok---    -1.000000\n",
       "--Squidoo--        1.000000\n",
       "--WhiteFang--     -0.701754\n",
       "--harley--quinn-- -1.000000\n",
       "-1K               -1.000000"
      ]
     },
     "execution_count": 70,
     "metadata": {},
     "output_type": "execute_result"
    }
   ],
   "source": [
    "author_lean.head()"
   ]
  },
  {
   "cell_type": "code",
   "execution_count": 71,
   "metadata": {},
   "outputs": [
    {
     "data": {
      "image/png": "[encoded data removed]",
      "text/plain": [
       "<matplotlib.figure.Figure at 0x1a45406518>"
      ]
     },
     "metadata": {},
     "output_type": "display_data"
    }
   ],
   "source": [
    "author_lean.hist();\n",
    "plt.title('average political lean for Reddit users');\n",
    "plt.ylabel('frequency');\n",
    "plt.xlabel('average political lean score');"
   ]
  },
  {
   "cell_type": "markdown",
   "metadata": {},
   "source": [
    "As hypothesised before, the average politcal lean is heavily sided to the left (negative score)."
   ]
  },
  {
   "cell_type": "markdown",
   "metadata": {},
   "source": [
    "### 3.2) Average Subreddit Lean Distribution"
   ]
  },
  {
   "cell_type": "markdown",
   "metadata": {},
   "source": [
    "Now let us plot the histogram for the average subreddit lean. "
   ]
  },
  {
   "cell_type": "code",
   "execution_count": 46,
   "metadata": {},
   "outputs": [],
   "source": [
    "author_lean_spark = sqlc.createDataFrame(author_lean.reset_index())"
   ]
  },
  {
   "cell_type": "code",
   "execution_count": 47,
   "metadata": {},
   "outputs": [
    {
     "name": "stdout",
     "output_type": "stream",
     "text": [
      "+--------------+-------------------+\n",
      "|        author|               lean|\n",
      "+--------------+-------------------+\n",
      "|---iamjenok---|               -1.0|\n",
      "|   --Squidoo--|                1.0|\n",
      "| --WhiteFang--|-0.7017543859649122|\n",
      "+--------------+-------------------+\n",
      "only showing top 3 rows\n",
      "\n"
     ]
    }
   ],
   "source": [
    "author_lean_spark.show(3)"
   ]
  },
  {
   "cell_type": "code",
   "execution_count": 48,
   "metadata": {},
   "outputs": [],
   "source": [
    "subreddit_lean_spark_final = subreddit_lean_spark.join(author_lean_spark, subreddit_lean_spark.author == author_lean_spark.author)"
   ]
  },
  {
   "cell_type": "code",
   "execution_count": 50,
   "metadata": {},
   "outputs": [],
   "source": [
    "subreddit_lean_spark_final = subreddit_lean_spark_final.select('subreddit','lean') \\\n",
    "                                                        .groupby('subreddit') \\\n",
    "                                                        .agg(mean('lean').alias('average_subreddit_lean'))"
   ]
  },
  {
   "cell_type": "code",
   "execution_count": 53,
   "metadata": {},
   "outputs": [],
   "source": [
    "subreddit_lean_spark_final.write.mode(\"overwrite\").parquet('average_subreddit_lean.parquet')"
   ]
  },
  {
   "cell_type": "code",
   "execution_count": 54,
   "metadata": {},
   "outputs": [],
   "source": [
    "subreddit_lean_df = subreddit_lean_spark_final.toPandas()"
   ]
  },
  {
   "cell_type": "code",
   "execution_count": 86,
   "metadata": {},
   "outputs": [
    {
     "data": {
      "image/png": "[encoded data removed]",
      "text/plain": [
       "<matplotlib.figure.Figure at 0x1a4865e940>"
      ]
     },
     "metadata": {},
     "output_type": "display_data"
    }
   ],
   "source": [
    "subreddit_lean_df.hist();\n",
    "plt.xlabel('lean score');\n",
    "plt.ylabel('frequency');"
   ]
  },
  {
   "cell_type": "markdown",
   "metadata": {},
   "source": [
    "We can see that this distribution is extreme, saying that out of the 200 most popular subreddits, all 200 of them have an average lean below -0.4. It is completely 'one-sided'."
   ]
  },
  {
   "cell_type": "markdown",
   "metadata": {},
   "source": [
    "Possible reasons as to the shape of these 2 histograms will be discussed in our project report."
   ]
  },
  {
   "cell_type": "markdown",
   "metadata": {},
   "source": [
    "## Classifying users in the range Democrat - Republican by NLP and topic detection"
   ]
  },
  {
   "cell_type": "markdown",
   "metadata": {},
   "source": [
    "We assume as an hypothesis that the democrats  and the republicans talk about different topics (inside the political topics); since they have different worries and it is usual to criticize differents aspects from the point of view of a democrat and a republican. So they should talk more about certain subtopics; let's try to classify them:"
   ]
  },
  {
   "cell_type": "code",
   "execution_count": null,
   "metadata": {},
   "outputs": [],
   "source": [
    "import warnings; warnings.simplefilter('ignore')\n",
    "import os, codecs, string, random\n",
    "import numpy as np\n",
    "from numpy.random import seed as random_seed\n",
    "from numpy.random import shuffle as random_shuffle\n",
    "\n",
    "\n",
    "seed = 42\n",
    "random.seed(seed)\n",
    "np.random.seed(seed)\n",
    "\n",
    "#NLP libraries\n",
    "import spacy, nltk, gensim, sklearn\n",
    "import pyLDAvis.gensim"
   ]
  },
  {
   "cell_type": "markdown",
   "metadata": {},
   "source": [
    "First we load the data which we are going to use to train our predictor:"
   ]
  },
  {
   "cell_type": "code",
   "execution_count": 2,
   "metadata": {
    "scrolled": true
   },
   "outputs": [
    {
     "name": "stdout",
     "output_type": "stream",
     "text": [
      "+-------+----------------+------------+--------------------+-----+----------------+-------------+--------+\n",
      "|     id|          author|   subreddit|                body|score|controversiality|compound_sent|category|\n",
      "+-------+----------------+------------+--------------------+-----+----------------+-------------+--------+\n",
      "|dbb0mui|JohnnyJamBoogie_|Conservative|Recipe for an Eva...|   20|               0|       0.4404|       1|\n",
      "|dbb0vac|     Laxidazical|Conservative|That is some seri...|   29|               0|       -0.264|       1|\n",
      "|dbb1gbn|        deadally|Conservative|I don't care what...| 4281|               0|      -0.8941|       1|\n",
      "|dbb1nx9|    BrighamYoung|Conservative|       See: Alinsky.|   19|               0|          0.0|       1|\n",
      "|dbb1oez|       [deleted]|Conservative|           [deleted]|   19|               0|          0.0|       1|\n",
      "+-------+----------------+------------+--------------------+-----+----------------+-------------+--------+\n",
      "only showing top 5 rows\n",
      "\n"
     ]
    }
   ],
   "source": [
    "df_data = sqlc.read.parquet(DATA_DIR+\"training_data.parquet\")\n",
    "df_data.show(5)"
   ]
  },
  {
   "cell_type": "code",
   "execution_count": 3,
   "metadata": {},
   "outputs": [
    {
     "data": {
      "text/html": [
       "<div>\n",
       "<style scoped>\n",
       "    .dataframe tbody tr th:only-of-type {\n",
       "        vertical-align: middle;\n",
       "    }\n",
       "\n",
       "    .dataframe tbody tr th {\n",
       "        vertical-align: top;\n",
       "    }\n",
       "\n",
       "    .dataframe thead th {\n",
       "        text-align: right;\n",
       "    }\n",
       "</style>\n",
       "<table border=\"1\" class=\"dataframe\">\n",
       "  <thead>\n",
       "    <tr style=\"text-align: right;\">\n",
       "      <th></th>\n",
       "      <th>id</th>\n",
       "      <th>author</th>\n",
       "      <th>subreddit</th>\n",
       "      <th>body</th>\n",
       "      <th>score</th>\n",
       "      <th>controversiality</th>\n",
       "      <th>compound_sent</th>\n",
       "      <th>category</th>\n",
       "    </tr>\n",
       "  </thead>\n",
       "  <tbody>\n",
       "    <tr>\n",
       "      <th>0</th>\n",
       "      <td>dbb0mui</td>\n",
       "      <td>JohnnyJamBoogie_</td>\n",
       "      <td>Conservative</td>\n",
       "      <td>Recipe for an Evan McMuffin:\\nFirst you start ...</td>\n",
       "      <td>20</td>\n",
       "      <td>0</td>\n",
       "      <td>0.4404</td>\n",
       "      <td>1</td>\n",
       "    </tr>\n",
       "    <tr>\n",
       "      <th>1</th>\n",
       "      <td>dbb0vac</td>\n",
       "      <td>Laxidazical</td>\n",
       "      <td>Conservative</td>\n",
       "      <td>That is some serious self delusion. \\n\\nHer hu...</td>\n",
       "      <td>29</td>\n",
       "      <td>0</td>\n",
       "      <td>-0.264</td>\n",
       "      <td>1</td>\n",
       "    </tr>\n",
       "    <tr>\n",
       "      <th>2</th>\n",
       "      <td>dbb1gbn</td>\n",
       "      <td>deadally</td>\n",
       "      <td>Conservative</td>\n",
       "      <td>I don't care what the DNC thinks. Their manipu...</td>\n",
       "      <td>4281</td>\n",
       "      <td>0</td>\n",
       "      <td>-0.8941</td>\n",
       "      <td>1</td>\n",
       "    </tr>\n",
       "    <tr>\n",
       "      <th>3</th>\n",
       "      <td>dbb1nx9</td>\n",
       "      <td>BrighamYoung</td>\n",
       "      <td>Conservative</td>\n",
       "      <td>See: Alinsky.</td>\n",
       "      <td>19</td>\n",
       "      <td>0</td>\n",
       "      <td>0.0</td>\n",
       "      <td>1</td>\n",
       "    </tr>\n",
       "    <tr>\n",
       "      <th>4</th>\n",
       "      <td>dbb1oez</td>\n",
       "      <td>[deleted]</td>\n",
       "      <td>Conservative</td>\n",
       "      <td>[deleted]</td>\n",
       "      <td>19</td>\n",
       "      <td>0</td>\n",
       "      <td>0.0</td>\n",
       "      <td>1</td>\n",
       "    </tr>\n",
       "  </tbody>\n",
       "</table>\n",
       "</div>"
      ],
      "text/plain": [
       "        id            author     subreddit  \\\n",
       "0  dbb0mui  JohnnyJamBoogie_  Conservative   \n",
       "1  dbb0vac       Laxidazical  Conservative   \n",
       "2  dbb1gbn          deadally  Conservative   \n",
       "3  dbb1nx9      BrighamYoung  Conservative   \n",
       "4  dbb1oez         [deleted]  Conservative   \n",
       "\n",
       "                                                body  score  controversiality  \\\n",
       "0  Recipe for an Evan McMuffin:\\nFirst you start ...     20                 0   \n",
       "1  That is some serious self delusion. \\n\\nHer hu...     29                 0   \n",
       "2  I don't care what the DNC thinks. Their manipu...   4281                 0   \n",
       "3                                      See: Alinsky.     19                 0   \n",
       "4                                          [deleted]     19                 0   \n",
       "\n",
       "  compound_sent  category  \n",
       "0        0.4404         1  \n",
       "1        -0.264         1  \n",
       "2       -0.8941         1  \n",
       "3           0.0         1  \n",
       "4           0.0         1  "
      ]
     },
     "execution_count": 3,
     "metadata": {},
     "output_type": "execute_result"
    }
   ],
   "source": [
    "df_data = df_data.toPandas()\n",
    "df_data.head()"
   ]
  },
  {
   "cell_type": "code",
   "execution_count": 4,
   "metadata": {},
   "outputs": [
    {
     "data": {
      "text/html": [
       "<div>\n",
       "<style scoped>\n",
       "    .dataframe tbody tr th:only-of-type {\n",
       "        vertical-align: middle;\n",
       "    }\n",
       "\n",
       "    .dataframe tbody tr th {\n",
       "        vertical-align: top;\n",
       "    }\n",
       "\n",
       "    .dataframe thead th {\n",
       "        text-align: right;\n",
       "    }\n",
       "</style>\n",
       "<table border=\"1\" class=\"dataframe\">\n",
       "  <thead>\n",
       "    <tr style=\"text-align: right;\">\n",
       "      <th></th>\n",
       "      <th>id</th>\n",
       "      <th>author</th>\n",
       "      <th>subreddit</th>\n",
       "      <th>body</th>\n",
       "      <th>score</th>\n",
       "      <th>controversiality</th>\n",
       "      <th>compound_sent</th>\n",
       "      <th>category</th>\n",
       "    </tr>\n",
       "  </thead>\n",
       "  <tbody>\n",
       "    <tr>\n",
       "      <th>4</th>\n",
       "      <td>dbb1oez</td>\n",
       "      <td>[deleted]</td>\n",
       "      <td>Conservative</td>\n",
       "      <td>[deleted]</td>\n",
       "      <td>19</td>\n",
       "      <td>0</td>\n",
       "      <td>0.0</td>\n",
       "      <td>1</td>\n",
       "    </tr>\n",
       "    <tr>\n",
       "      <th>39</th>\n",
       "      <td>dbb3gm8</td>\n",
       "      <td>[deleted]</td>\n",
       "      <td>Conservative</td>\n",
       "      <td>[deleted]</td>\n",
       "      <td>20</td>\n",
       "      <td>0</td>\n",
       "      <td>0.0</td>\n",
       "      <td>1</td>\n",
       "    </tr>\n",
       "    <tr>\n",
       "      <th>48</th>\n",
       "      <td>dbb3pqn</td>\n",
       "      <td>[deleted]</td>\n",
       "      <td>Conservative</td>\n",
       "      <td>Liberal here. I say both Democrats and Russia ...</td>\n",
       "      <td>81</td>\n",
       "      <td>0</td>\n",
       "      <td>-0.4767</td>\n",
       "      <td>1</td>\n",
       "    </tr>\n",
       "    <tr>\n",
       "      <th>86</th>\n",
       "      <td>dbb4h2m</td>\n",
       "      <td>[deleted]</td>\n",
       "      <td>Conservative</td>\n",
       "      <td>[removed]</td>\n",
       "      <td>30</td>\n",
       "      <td>0</td>\n",
       "      <td>0.0</td>\n",
       "      <td>1</td>\n",
       "    </tr>\n",
       "    <tr>\n",
       "      <th>94</th>\n",
       "      <td>dbb4kw1</td>\n",
       "      <td>[deleted]</td>\n",
       "      <td>Conservative</td>\n",
       "      <td>[deleted]</td>\n",
       "      <td>30</td>\n",
       "      <td>0</td>\n",
       "      <td>0.0</td>\n",
       "      <td>1</td>\n",
       "    </tr>\n",
       "  </tbody>\n",
       "</table>\n",
       "</div>"
      ],
      "text/plain": [
       "         id     author     subreddit  \\\n",
       "4   dbb1oez  [deleted]  Conservative   \n",
       "39  dbb3gm8  [deleted]  Conservative   \n",
       "48  dbb3pqn  [deleted]  Conservative   \n",
       "86  dbb4h2m  [deleted]  Conservative   \n",
       "94  dbb4kw1  [deleted]  Conservative   \n",
       "\n",
       "                                                 body  score  \\\n",
       "4                                           [deleted]     19   \n",
       "39                                          [deleted]     20   \n",
       "48  Liberal here. I say both Democrats and Russia ...     81   \n",
       "86                                          [removed]     30   \n",
       "94                                          [deleted]     30   \n",
       "\n",
       "    controversiality compound_sent  category  \n",
       "4                  0           0.0         1  \n",
       "39                 0           0.0         1  \n",
       "48                 0       -0.4767         1  \n",
       "86                 0           0.0         1  \n",
       "94                 0           0.0         1  "
      ]
     },
     "execution_count": 4,
     "metadata": {},
     "output_type": "execute_result"
    }
   ],
   "source": [
    "df_data[df_data['author'] == '[deleted]'].head()"
   ]
  },
  {
   "cell_type": "markdown",
   "metadata": {},
   "source": [
    "Let's see which of the subs is more heavily moderated"
   ]
  },
  {
   "cell_type": "code",
   "execution_count": 5,
   "metadata": {},
   "outputs": [
    {
     "name": "stdout",
     "output_type": "stream",
     "text": [
      "removed comments in r/democrats: 460 (1.84%)\n",
      "removed comments in r/Liberal: 1133 (4.532%)\n",
      "removed comments in r/Republican: 280 (1.12%)\n",
      "removed comments in r/Conservative: 84 (0.336%)\n"
     ]
    }
   ],
   "source": [
    "removed_dem = df_data[(df_data['body'] == '[removed]') & (df_data['subreddit'] == 'democrats')].shape[0]\n",
    "removed_rep = df_data[(df_data['body'] == '[removed]') & (df_data['subreddit'] == 'Republican')].shape[0]\n",
    "removed_lib = df_data[(df_data['body'] == '[removed]') & (df_data['subreddit'] == 'Liberal')].shape[0]\n",
    "removed_con = df_data[(df_data['body'] == '[removed]') & (df_data['subreddit'] == 'Conservative')].shape[0]\n",
    "\n",
    "removed_percent_dem = 100*removed_dem / df_data[df_data['subreddit'] == 'democrats'].shape[0]\n",
    "removed_percent_rep = 100*removed_rep / df_data[df_data['subreddit'] == 'Republican'].shape[0]\n",
    "removed_percent_lib = 100*removed_lib / df_data[df_data['subreddit'] == 'Liberal'].shape[0]\n",
    "removed_percent_con = 100*removed_con / df_data[df_data['subreddit'] == 'Conservative'].shape[0]\n",
    "\n",
    "print('removed comments in r/democrats: '+str(removed_dem)+' ('+str(removed_percent_dem)+'%)')\n",
    "print('removed comments in r/Liberal: '+str(removed_lib)+' ('+str(removed_percent_lib)+'%)')\n",
    "print('removed comments in r/Republican: '+str(removed_rep)+' ('+str(removed_percent_rep)+'%)')\n",
    "print('removed comments in r/Conservative: '+str(removed_con)+' ('+str(removed_percent_con)+'%)')"
   ]
  },
  {
   "cell_type": "code",
   "execution_count": 6,
   "metadata": {},
   "outputs": [
    {
     "name": "stdout",
     "output_type": "stream",
     "text": [
      "+-------+----------------+------------+--------------------+-----+----------------+-------------+--------+\n",
      "|     id|          author|   subreddit|                body|score|controversiality|compound_sent|category|\n",
      "+-------+----------------+------------+--------------------+-----+----------------+-------------+--------+\n",
      "|dbb0mui|JohnnyJamBoogie_|Conservative|Recipe for an Eva...|   20|               0|       0.4404|       1|\n",
      "|dbb0vac|     Laxidazical|Conservative|That is some seri...|   29|               0|       -0.264|       1|\n",
      "|dbb1gbn|        deadally|Conservative|I don't care what...| 4281|               0|      -0.8941|       1|\n",
      "|dbb1nx9|    BrighamYoung|Conservative|       See: Alinsky.|   19|               0|          0.0|       1|\n",
      "|dbb1prp|    Boxingfan420|Conservative|Remember when Rea...|  506|               0|      -0.3818|       1|\n",
      "+-------+----------------+------------+--------------------+-----+----------------+-------------+--------+\n",
      "only showing top 5 rows\n",
      "\n"
     ]
    }
   ],
   "source": [
    "# this dataset doesn't have deleted/removed comments/users\n",
    "df_training = sqlc.read.parquet(DATA_DIR+\"training_data_cleaned.parquet\")\n",
    "df_training.show(5)"
   ]
  },
  {
   "cell_type": "code",
   "execution_count": 7,
   "metadata": {},
   "outputs": [
    {
     "data": {
      "text/html": [
       "<div>\n",
       "<style scoped>\n",
       "    .dataframe tbody tr th:only-of-type {\n",
       "        vertical-align: middle;\n",
       "    }\n",
       "\n",
       "    .dataframe tbody tr th {\n",
       "        vertical-align: top;\n",
       "    }\n",
       "\n",
       "    .dataframe thead th {\n",
       "        text-align: right;\n",
       "    }\n",
       "</style>\n",
       "<table border=\"1\" class=\"dataframe\">\n",
       "  <thead>\n",
       "    <tr style=\"text-align: right;\">\n",
       "      <th></th>\n",
       "      <th>id</th>\n",
       "      <th>author</th>\n",
       "      <th>subreddit</th>\n",
       "      <th>body</th>\n",
       "      <th>score</th>\n",
       "      <th>controversiality</th>\n",
       "      <th>compound_sent</th>\n",
       "      <th>category</th>\n",
       "    </tr>\n",
       "  </thead>\n",
       "  <tbody>\n",
       "    <tr>\n",
       "      <th>0</th>\n",
       "      <td>dbb0mui</td>\n",
       "      <td>JohnnyJamBoogie_</td>\n",
       "      <td>Conservative</td>\n",
       "      <td>Recipe for an Evan McMuffin:\\nFirst you start ...</td>\n",
       "      <td>20</td>\n",
       "      <td>0</td>\n",
       "      <td>0.4404</td>\n",
       "      <td>1</td>\n",
       "    </tr>\n",
       "    <tr>\n",
       "      <th>1</th>\n",
       "      <td>dbb0vac</td>\n",
       "      <td>Laxidazical</td>\n",
       "      <td>Conservative</td>\n",
       "      <td>That is some serious self delusion. \\n\\nHer hu...</td>\n",
       "      <td>29</td>\n",
       "      <td>0</td>\n",
       "      <td>-0.264</td>\n",
       "      <td>1</td>\n",
       "    </tr>\n",
       "    <tr>\n",
       "      <th>2</th>\n",
       "      <td>dbb1gbn</td>\n",
       "      <td>deadally</td>\n",
       "      <td>Conservative</td>\n",
       "      <td>I don't care what the DNC thinks. Their manipu...</td>\n",
       "      <td>4281</td>\n",
       "      <td>0</td>\n",
       "      <td>-0.8941</td>\n",
       "      <td>1</td>\n",
       "    </tr>\n",
       "    <tr>\n",
       "      <th>3</th>\n",
       "      <td>dbb1nx9</td>\n",
       "      <td>BrighamYoung</td>\n",
       "      <td>Conservative</td>\n",
       "      <td>See: Alinsky.</td>\n",
       "      <td>19</td>\n",
       "      <td>0</td>\n",
       "      <td>0.0</td>\n",
       "      <td>1</td>\n",
       "    </tr>\n",
       "    <tr>\n",
       "      <th>4</th>\n",
       "      <td>dbb1prp</td>\n",
       "      <td>Boxingfan420</td>\n",
       "      <td>Conservative</td>\n",
       "      <td>Remember when Reagan called Russia \"The evil e...</td>\n",
       "      <td>506</td>\n",
       "      <td>0</td>\n",
       "      <td>-0.3818</td>\n",
       "      <td>1</td>\n",
       "    </tr>\n",
       "  </tbody>\n",
       "</table>\n",
       "</div>"
      ],
      "text/plain": [
       "        id            author     subreddit  \\\n",
       "0  dbb0mui  JohnnyJamBoogie_  Conservative   \n",
       "1  dbb0vac       Laxidazical  Conservative   \n",
       "2  dbb1gbn          deadally  Conservative   \n",
       "3  dbb1nx9      BrighamYoung  Conservative   \n",
       "4  dbb1prp      Boxingfan420  Conservative   \n",
       "\n",
       "                                                body  score  controversiality  \\\n",
       "0  Recipe for an Evan McMuffin:\\nFirst you start ...     20                 0   \n",
       "1  That is some serious self delusion. \\n\\nHer hu...     29                 0   \n",
       "2  I don't care what the DNC thinks. Their manipu...   4281                 0   \n",
       "3                                      See: Alinsky.     19                 0   \n",
       "4  Remember when Reagan called Russia \"The evil e...    506                 0   \n",
       "\n",
       "  compound_sent  category  \n",
       "0        0.4404         1  \n",
       "1        -0.264         1  \n",
       "2       -0.8941         1  \n",
       "3           0.0         1  \n",
       "4       -0.3818         1  "
      ]
     },
     "execution_count": 7,
     "metadata": {},
     "output_type": "execute_result"
    }
   ],
   "source": [
    "df_training = df_training.toPandas()\n",
    "df_training.head()"
   ]
  },
  {
   "cell_type": "markdown",
   "metadata": {},
   "source": [
    "## Using Topic Detection to Classify Content\n",
    "\n",
    "Here we try to use topic detection to know if a comment would fit better a left-leaning sub (democrat, liberal) or a right-leaning sub (republican, conservative)"
   ]
  },
  {
   "cell_type": "code",
   "execution_count": 8,
   "metadata": {},
   "outputs": [],
   "source": [
    "nlp = spacy.load('en')"
   ]
  },
  {
   "cell_type": "code",
   "execution_count": 9,
   "metadata": {},
   "outputs": [
    {
     "data": {
      "text/plain": [
       "array(['Recipe for an Evan McMuffin:\\nFirst you start out with just a normal Republican. Then, you add a level table spoon of race baiting, go easy on the social conservatism, and take out the back bone. ',\n",
       "       'That is some serious self delusion. \\n\\nHer husband handed the White House, both houses of congress, and a generation of the Supreme Court to the republicans. \\n\\nThe dollar is booming, the stock market is at a record high, and business sentiment is at a high not seen since 2008.\\n\\n This somehow means \"hope\" is dead. \\n\\nOne question, hope for what?? \\n\\nOhhh I get it. Michelle is upset she still can\\'t use the boys bathrooms.',\n",
       "       \"I don't care what the DNC thinks. Their manipulation of the election was unacceptable.\\n\\nSo too would Russian manipulation of the election be unacceptable. \\n\\nThis isn't hard.\",\n",
       "       ..., '\"becoming\"', 'Elections. ',\n",
       "       'B-b-but emails and Der Foundation!'], dtype=object)"
      ]
     },
     "execution_count": 9,
     "metadata": {},
     "output_type": "execute_result"
    }
   ],
   "source": [
    "comments = df_training['body'].values\n",
    "comment_class = df_training['category'].values\n",
    "\n",
    "comments"
   ]
  },
  {
   "cell_type": "code",
   "execution_count": 10,
   "metadata": {},
   "outputs": [],
   "source": [
    "STOPWORDS = spacy.lang.en.stop_words.STOP_WORDS\n",
    "\n",
    "processed_docs = list()\n",
    "for doc in nlp.pipe(comments, n_threads=5, batch_size=10):\n",
    "\n",
    "    # Process document using Spacy NLP pipeline.\n",
    "    ents = doc.ents  # Named entities\n",
    "\n",
    "    # Keep only words (no numbers, no punctuation).\n",
    "    # Lemmatize tokens, remove punctuation and remove stopwords.\n",
    "    doc = [token.lemma_ for token in doc if token.is_alpha and not token.is_stop]\n",
    "\n",
    "    # Remove common words from a stopword list and keep only words of length 3 or more.\n",
    "    doc = [token for token in doc if token not in STOPWORDS and len(token) > 2]\n",
    "\n",
    "    # Add named entities, but only if they are a compound of more than word.\n",
    "    doc.extend([str(entity) for entity in ents if len(entity) > 1])\n",
    "\n",
    "    processed_docs.append(doc)\n",
    "docs = processed_docs\n",
    "del processed_docs"
   ]
  },
  {
   "cell_type": "code",
   "execution_count": 11,
   "metadata": {},
   "outputs": [],
   "source": [
    "# Add bigrams too\n",
    "from gensim.models.phrases import Phrases\n",
    "\n",
    "# Add bigrams to docs (only ones that appear 15 times or more).\n",
    "bigram = Phrases(docs, min_count=15)\n",
    "\n",
    "for idx in range(len(docs)):\n",
    "    for token in bigram[docs[idx]]:\n",
    "        if '_' in token:\n",
    "            # Token is a bigram, add to document.\n",
    "            docs[idx].append(token)"
   ]
  },
  {
   "cell_type": "code",
   "execution_count": 12,
   "metadata": {},
   "outputs": [
    {
     "name": "stdout",
     "output_type": "stream",
     "text": [
      "Number of unique tokens: 15946\n",
      "Number of chunks: 94949\n"
     ]
    }
   ],
   "source": [
    "# Create a dictionary representation of the documents, and filter out frequent and rare words.\n",
    "from gensim.corpora import Dictionary\n",
    "dictionary = Dictionary(docs)\n",
    "\n",
    "# Remove rare and common tokens.\n",
    "# Filter out words that occur too frequently or too rarely.\n",
    "max_freq = 0.5\n",
    "min_wordcount = 5\n",
    "dictionary.filter_extremes(no_below=min_wordcount, no_above=max_freq)\n",
    "\n",
    "# Bag-of-words representation of the documents.\n",
    "corpus = [dictionary.doc2bow(doc) for doc in docs]\n",
    "#MmCorpus.serialize(\"models/corpus.mm\", corpus)\n",
    "\n",
    "print('Number of unique tokens: %d' % len(dictionary))\n",
    "print('Number of chunks: %d' % len(corpus))"
   ]
  },
  {
   "cell_type": "code",
   "execution_count": null,
   "metadata": {},
   "outputs": [],
   "source": [
    "# models\n",
    "from gensim.models import LdaMulticore\n",
    "params = {'passes': 10, 'random_state': seed}\n",
    "base_models = dict()\n",
    "model = LdaMulticore(corpus=corpus, num_topics=2, id2word=dictionary, workers=6,\n",
    "                passes=params['passes'], random_state=params['random_state'])"
   ]
  },
  {
   "cell_type": "code",
   "execution_count": 14,
   "metadata": {},
   "outputs": [
    {
     "data": {
      "text/plain": [
       "[(0,\n",
       "  '0.025*\"trump\" + 0.015*\"vote\" + 0.010*\"like\" + 0.010*\"party\" + 0.010*\"people\"'),\n",
       " (1,\n",
       "  '0.013*\"people\" + 0.008*\"like\" + 0.006*\"think\" + 0.005*\"right\" + 0.005*\"want\"')]"
      ]
     },
     "execution_count": 14,
     "metadata": {},
     "output_type": "execute_result"
    }
   ],
   "source": [
    "model.show_topics(num_words=5)"
   ]
  },
  {
   "cell_type": "code",
   "execution_count": 15,
   "metadata": {},
   "outputs": [
    {
     "data": {
      "text/plain": [
       "[('people', 0.012857338),\n",
       " ('like', 0.007878537),\n",
       " ('think', 0.0062495223),\n",
       " ('right', 0.0052813124),\n",
       " ('want', 0.0051435586),\n",
       " ('good', 0.005031273),\n",
       " ('know', 0.0048698476),\n",
       " ('thing', 0.0044299182),\n",
       " ('government', 0.0042841095),\n",
       " ('work', 0.0039783143),\n",
       " ('need', 0.0037009276),\n",
       " ('time', 0.0036655623),\n",
       " ('tax', 0.0036463246),\n",
       " ('gun', 0.003567239),\n",
       " ('pay', 0.0035113455),\n",
       " ('year', 0.0033424061),\n",
       " ('law', 0.0032953818),\n",
       " ('country', 0.003152435),\n",
       " ('mean', 0.0031255835),\n",
       " ('money', 0.0030856142)]"
      ]
     },
     "execution_count": 15,
     "metadata": {},
     "output_type": "execute_result"
    }
   ],
   "source": [
    "model.show_topic(1,20)"
   ]
  },
  {
   "cell_type": "code",
   "execution_count": 16,
   "metadata": {},
   "outputs": [
    {
     "data": {
      "text/plain": [
       "[(0, 0.9497347), (1, 0.050265327)]"
      ]
     },
     "execution_count": 16,
     "metadata": {},
     "output_type": "execute_result"
    }
   ],
   "source": [
    "sorted(model[corpus[0]],key=lambda x:x[1],reverse=True)"
   ]
  },
  {
   "cell_type": "code",
   "execution_count": 17,
   "metadata": {},
   "outputs": [
    {
     "data": {
      "text/html": [
       "\n",
       "<link rel=\"stylesheet\" type=\"text/css\" href=\"https://cdn.rawgit.com/bmabey/pyLDAvis/files/ldavis.v1.0.0.css\">\n",
       "\n",
       "\n",
       "<div id=\"ldavis_el129242619643268696250107552\"></div>\n",
       "<script type=\"text/javascript\">\n",
       "\n",
       "var ldavis_el129242619643268696250107552_data = {\"mdsDat\": {\"x\": [0.11507347226142882, -0.11507347226142882], \"y\": [0.0, 0.0], \"topics\": [1, 2], \"cluster\": [1, 1], \"Freq\": [51.576358795166016, 48.423641204833984]}, \"tinfo\": {\"Category\": [\"Default\", \"Default\", \"Default\", \"Default\", \"Default\", \"Default\", \"Default\", \"Default\", \"Default\", \"Default\", \"Default\", \"Default\", \"Default\", \"Default\", \"Default\", \"Default\", \"Default\", \"Default\", \"Default\", \"Default\", \"Default\", \"Default\", \"Default\", \"Default\", \"Default\", \"Default\", \"Default\", \"Default\", \"Default\", \"Default\", \"Topic1\", \"Topic1\", \"Topic1\", \"Topic1\", \"Topic1\", \"Topic1\", \"Topic1\", \"Topic1\", \"Topic1\", \"Topic1\", \"Topic1\", \"Topic1\", \"Topic1\", \"Topic1\", \"Topic1\", \"Topic1\", \"Topic1\", \"Topic1\", \"Topic1\", \"Topic1\", \"Topic1\", \"Topic1\", \"Topic1\", \"Topic1\", \"Topic1\", \"Topic1\", \"Topic1\", \"Topic1\", \"Topic1\", \"Topic1\", \"Topic1\", \"Topic1\", \"Topic1\", \"Topic1\", \"Topic1\", \"Topic1\", \"Topic1\", \"Topic1\", \"Topic1\", \"Topic1\", \"Topic1\", \"Topic1\", \"Topic1\", \"Topic1\", \"Topic1\", \"Topic1\", \"Topic1\", \"Topic1\", \"Topic1\", \"Topic1\", \"Topic1\", \"Topic1\", \"Topic1\", \"Topic1\", \"Topic1\", \"Topic1\", \"Topic1\", \"Topic1\", \"Topic1\", \"Topic1\", \"Topic1\", \"Topic1\", \"Topic1\", \"Topic1\", \"Topic1\", \"Topic1\", \"Topic1\", \"Topic1\", \"Topic1\", \"Topic1\", \"Topic1\", \"Topic1\", \"Topic1\", \"Topic1\", \"Topic1\", \"Topic1\", \"Topic1\", \"Topic1\", \"Topic1\", \"Topic1\", \"Topic1\", \"Topic1\", \"Topic1\", \"Topic1\", \"Topic1\", \"Topic1\", \"Topic2\", \"Topic2\", \"Topic2\", \"Topic2\", \"Topic2\", \"Topic2\", \"Topic2\", \"Topic2\", \"Topic2\", \"Topic2\", \"Topic2\", \"Topic2\", \"Topic2\", \"Topic2\", \"Topic2\", \"Topic2\", \"Topic2\", \"Topic2\", \"Topic2\", \"Topic2\", \"Topic2\", \"Topic2\", \"Topic2\", \"Topic2\", \"Topic2\", \"Topic2\", \"Topic2\", \"Topic2\", \"Topic2\", \"Topic2\", \"Topic2\", \"Topic2\", \"Topic2\", \"Topic2\", \"Topic2\", \"Topic2\", \"Topic2\", \"Topic2\", \"Topic2\", \"Topic2\", \"Topic2\", \"Topic2\", \"Topic2\", \"Topic2\", \"Topic2\", \"Topic2\", \"Topic2\", \"Topic2\", \"Topic2\", \"Topic2\", \"Topic2\", \"Topic2\", \"Topic2\", \"Topic2\", \"Topic2\", \"Topic2\", \"Topic2\", \"Topic2\", \"Topic2\", \"Topic2\", \"Topic2\", \"Topic2\", \"Topic2\", \"Topic2\", \"Topic2\", \"Topic2\", \"Topic2\", \"Topic2\", \"Topic2\", \"Topic2\", \"Topic2\", \"Topic2\", \"Topic2\", \"Topic2\"], \"Freq\": [23533.0, 13815.0, 9125.0, 8299.0, 7200.0, 8563.0, 6124.0, 6077.0, 5705.0, 5359.0, 6211.0, 4340.0, 4108.0, 3847.0, 3505.0, 3434.0, 3318.0, 3077.0, 3413.0, 3182.0, 4327.0, 2687.0, 2716.0, 2333.0, 2625.0, 4044.0, 2826.0, 3778.0, 1962.0, 5649.0, 3504.466552734375, 1051.494384765625, 1015.9310913085938, 690.2330322265625, 832.3201293945312, 1249.668212890625, 1066.0279541015625, 603.7337646484375, 549.4094848632812, 449.4245300292969, 466.8689880371094, 512.6104125976562, 455.6014099121094, 598.476318359375, 468.2059326171875, 864.31494140625, 352.3390197753906, 372.33331298828125, 448.3538513183594, 630.7479248046875, 351.7846984863281, 350.6634521484375, 3428.457763671875, 325.8161926269531, 294.62652587890625, 266.11669921875, 908.7127685546875, 524.5578002929688, 305.6537780761719, 359.07763671875, 3167.177001953125, 3374.73876953125, 1252.666015625, 1201.6431884765625, 1025.5791015625, 927.6827392578125, 1054.89453125, 910.18603515625, 724.2474975585938, 818.4530639648438, 651.8876342773438, 827.827880859375, 843.6480102539062, 939.6923217773438, 631.7702026367188, 1171.123779296875, 885.7930908203125, 4117.4384765625, 1782.468994140625, 1377.274658203125, 1332.5693359375, 2207.296630859375, 1421.010009765625, 1047.4407958984375, 2965.5703125, 2280.18115234375, 1973.372314453125, 2694.38232421875, 2075.309814453125, 2441.255126953125, 12357.1318359375, 1156.605224609375, 2018.5931396484375, 3823.540283203125, 2072.699951171875, 1822.1036376953125, 3029.79150390625, 2513.651611328125, 1968.0771484375, 7572.02734375, 2340.741943359375, 5075.84619140625, 4943.45166015625, 4680.38916015625, 4257.57470703125, 6006.388671875, 4835.5341796875, 3003.984619140625, 3522.955810546875, 3556.9453125, 3212.371826171875, 2618.07666015625, 2913.8056640625, 2427.99267578125, 2718.95166015625, 2481.18212890625, 1961.6500244140625, 2331.992431640625, 1368.5816650390625, 988.535888671875, 678.015869140625, 558.45849609375, 1437.8450927734375, 542.34375, 493.9224853515625, 511.9527587890625, 1051.422119140625, 388.4129943847656, 626.910888671875, 390.228515625, 402.6132507324219, 7189.61279296875, 348.1488342285156, 521.2618408203125, 2683.322998046875, 313.0584411621094, 336.21795654296875, 270.2200012207031, 265.3414611816406, 5693.744140625, 382.7203674316406, 276.5030517578125, 599.629638671875, 557.780517578125, 341.336181640625, 876.4228515625, 13775.3271484375, 9065.154296875, 6101.41455078125, 6053.96826171875, 5340.55712890625, 8220.92578125, 4093.933837890625, 4320.7822265625, 3823.134765625, 3054.818359375, 1769.8846435546875, 3282.853515625, 2688.033447265625, 1413.704345703125, 1465.921630859375, 965.68017578125, 1345.2933349609375, 1353.58154296875, 990.99658203125, 973.5431518554688, 22143.736328125, 6001.3896484375, 8210.498046875, 2577.03125, 2723.539794921875, 3432.42041015625, 3639.543701171875, 4590.2734375, 1755.4149169921875, 4554.8876953125, 4335.810546875, 8388.65625, 2969.4541015625, 9149.37109375, 4885.5927734375, 6174.43896484375, 8726.771484375, 3549.859375, 4799.08544921875, 4699.40185546875, 4258.92529296875, 3791.677978515625, 3850.8251953125, 3616.343994140625], \"Term\": [\"trump\", \"vote\", \"party\", \"hillary\", \"win\", \"clinton\", \"candidate\", \"bernie\", \"election\", \"sanders\", \"republican\", \"cruz\", \"supporter\", \"voter\", \"tax\", \"gun\", \"democrat\", \"gop\", \"pay\", \"law\", \"government\", \"primary\", \"democratic\", \"poll\", \"democrats\", \"lose\", \"republicans\", \"campaign\", \"delegate\", \"conservative\", \"tax\", \"wage\", \"police\", \"insurance\", \"income\", \"company\", \"crime\", \"industry\", \"weapon\", \"profit\", \"employee\", \"cop\", \"food\", \"drug\", \"price\", \"service\", \"officer\", \"minimum_wage\", \"china\", \"terrorist\", \"medical\", \"property\", \"gun\", \"mother\", \"firearm\", \"pay_tax\", \"legal\", \"sex\", \"doctor\", \"wealth\", \"law\", \"pay\", \"school\", \"illegal\", \"abortion\", \"market\", \"health\", \"military\", \"student\", \"security\", \"dollar\", \"education\", \"rate\", \"private\", \"minimum\", \"federal\", \"society\", \"government\", \"business\", \"child\", \"gay\", \"free\", \"kill\", \"economy\", \"money\", \"life\", \"war\", \"job\", \"world\", \"woman\", \"people\", \"family\", \"black\", \"work\", \"use\", \"live\", \"country\", \"man\", \"american\", \"like\", \"problem\", \"right\", \"want\", \"know\", \"thing\", \"think\", \"good\", \"mean\", \"time\", \"need\", \"year\", \"issue\", \"way\", \"believe\", \"state\", \"come\", \"delegate\", \"poll\", \"nomination\", \"democratic_party\", \"electoral\", \"general_election\", \"nominee\", \"caucus\", \"sanders_supporter\", \"bernie_supporter\", \"convention\", \"popular_vote\", \"ballot\", \"turnout\", \"electoral_college\", \"win\", \"superdelegate\", \"polling\", \"primary\", \"super_delegate\", \"bot\", \"swing_state\", \"win_nomination\", \"election\", \"alt\", \"the Democratic Party\", \"ted_cruz\", \"Ted Cruz\", \"alt_right\", \"Bernie Sanders\", \"vote\", \"party\", \"candidate\", \"bernie\", \"sanders\", \"hillary\", \"supporter\", \"cruz\", \"voter\", \"gop\", \"kasich\", \"democrat\", \"democratic\", \"dnc\", \"rubio\", \"bernie_sanders\", \"establishment\", \"senate\", \"trump_supporter\", \"republican_party\", \"trump\", \"republican\", \"clinton\", \"democrats\", \"republicans\", \"campaign\", \"lose\", \"conservative\", \"donald\", \"support\", \"liberal\", \"think\", \"run\", \"like\", \"state\", \"good\", \"people\", \"president\", \"right\", \"want\", \"know\", \"need\", \"thing\", \"time\"], \"Total\": [23533.0, 13815.0, 9125.0, 8299.0, 7200.0, 8563.0, 6124.0, 6077.0, 5705.0, 5359.0, 6211.0, 4340.0, 4108.0, 3847.0, 3505.0, 3434.0, 3318.0, 3077.0, 3413.0, 3182.0, 4327.0, 2687.0, 2716.0, 2333.0, 2625.0, 4044.0, 2826.0, 3778.0, 1962.0, 5649.0, 3505.866455078125, 1052.2161865234375, 1016.6921997070312, 690.8256225585938, 833.1508178710938, 1250.9288330078125, 1067.1043701171875, 604.469482421875, 550.1305541992188, 450.0385437011719, 467.532958984375, 513.34521484375, 456.2564392089844, 599.3865356445312, 468.9264831542969, 865.6973266601562, 352.90435791015625, 372.944091796875, 449.1174011230469, 631.8639526367188, 352.4215393066406, 351.3123779296875, 3434.92822265625, 326.4549560546875, 295.2109375, 266.66168212890625, 910.6062622070312, 525.6566162109375, 306.2998962402344, 359.8608093261719, 3182.846923828125, 3413.6962890625, 1256.432373046875, 1205.34521484375, 1028.994140625, 930.3078002929688, 1061.0130615234375, 914.1802978515625, 726.193359375, 822.2830810546875, 654.068603515625, 832.642578125, 848.8279418945312, 946.5629272460938, 633.8689575195312, 1185.5875244140625, 893.831787109375, 4327.15234375, 1834.08203125, 1410.1224365234375, 1366.5975341796875, 2307.75, 1461.2501220703125, 1066.78125, 3268.977294921875, 2467.298828125, 2124.919921875, 3019.04931640625, 2329.65283203125, 2895.448486328125, 21083.90234375, 1221.7451171875, 2414.281005859375, 5429.66650390625, 2543.701416015625, 2184.07568359375, 4359.43798828125, 3471.190185546875, 2490.29248046875, 16721.3984375, 3250.150146484375, 9874.931640625, 9642.853515625, 8939.314453125, 8108.39990234375, 14395.044921875, 11009.97265625, 5319.0703125, 7139.2998046875, 7348.623046875, 6337.796875, 4503.2744140625, 6453.8974609375, 4314.22509765625, 7604.54443359375, 5240.5634765625, 1962.24560546875, 2333.288818359375, 1369.344970703125, 989.3281860351562, 678.6356201171875, 559.0501098632812, 1439.43408203125, 542.9436645507812, 494.5467224121094, 512.6569213867188, 1052.8883056640625, 388.96649169921875, 627.8093872070312, 390.7941589355469, 403.216796875, 7200.81298828125, 348.7135009765625, 522.108642578125, 2687.863037109375, 313.6084899902344, 336.8946838378906, 270.77325439453125, 265.89971923828125, 5705.7646484375, 383.55206298828125, 277.1148681640625, 600.9918212890625, 559.0515747070312, 342.1146545410156, 878.4981079101562, 13815.7060546875, 9125.8642578125, 6124.349609375, 6077.23095703125, 5359.63671875, 8299.8603515625, 4108.033203125, 4340.0615234375, 3847.13818359375, 3077.179443359375, 1774.6505126953125, 3318.93994140625, 2716.563232421875, 1419.5592041015625, 1472.63818359375, 967.9921264648438, 1353.0653076171875, 1362.4971923828125, 994.9363403320312, 977.8993530273438, 23533.490234375, 6211.45654296875, 8563.890625, 2625.199462890625, 2826.4091796875, 3778.760498046875, 4044.59521484375, 5649.3095703125, 1845.07568359375, 6026.8740234375, 5672.04150390625, 14395.044921875, 3715.7138671875, 16721.3984375, 7604.54443359375, 11009.97265625, 21083.90234375, 4797.537109375, 9874.931640625, 9642.853515625, 8939.314453125, 7348.623046875, 8108.39990234375, 7139.2998046875], \"loglift\": [30.0, 29.0, 28.0, 27.0, 26.0, 25.0, 24.0, 23.0, 22.0, 21.0, 20.0, 19.0, 18.0, 17.0, 16.0, 15.0, 14.0, 13.0, 12.0, 11.0, 10.0, 9.0, 8.0, 7.0, 6.0, 5.0, 4.0, 3.0, 2.0, 1.0, 0.6617000102996826, 0.6614000201225281, 0.6614000201225281, 0.6611999869346619, 0.6610999703407288, 0.6610999703407288, 0.6610999703407288, 0.6608999967575073, 0.6607999801635742, 0.6607000231742859, 0.6607000231742859, 0.6607000231742859, 0.6607000231742859, 0.6606000065803528, 0.6606000065803528, 0.6604999899864197, 0.6604999899864197, 0.6604999899864197, 0.6603999733924866, 0.6603000164031982, 0.6603000164031982, 0.6603000164031982, 0.6601999998092651, 0.660099983215332, 0.660099983215332, 0.660099983215332, 0.6600000262260437, 0.6600000262260437, 0.6600000262260437, 0.6599000096321106, 0.6571999788284302, 0.650600016117096, 0.6590999960899353, 0.6589999794960022, 0.6588000059127808, 0.6593000292778015, 0.6563000082969666, 0.6577000021934509, 0.6593999862670898, 0.6574000120162964, 0.6588000059127808, 0.6563000082969666, 0.656000018119812, 0.6547999978065491, 0.6588000059127808, 0.6498000025749207, 0.6531000137329102, 0.6123999953269958, 0.6335999965667725, 0.6384999752044678, 0.636900007724762, 0.6176000237464905, 0.6341999769210815, 0.6438000202178955, 0.5647000074386597, 0.5831999778747559, 0.588100016117096, 0.54830002784729, 0.546500027179718, 0.49149999022483826, 0.12780000269412994, 0.6072999835014343, 0.4830999970436096, 0.31139999628067017, 0.45730000734329224, 0.48089998960494995, 0.29829999804496765, 0.3393000066280365, 0.426800012588501, -0.13009999692440033, 0.33390000462532043, -0.0034000000450760126, -0.006000000052154064, 0.014999999664723873, 0.017899999395012856, -0.21199999749660492, -0.1606999933719635, 0.09070000052452087, -0.044199999421834946, -0.06350000202655792, -0.017400000244379044, 0.11969999969005585, -0.1331000030040741, 0.08730000257492065, -0.36640000343322754, -0.08560000360012054, 0.7249000072479248, 0.7246000170707703, 0.7246000170707703, 0.724399983882904, 0.7243000268936157, 0.7240999937057495, 0.7240999937057495, 0.7240999937057495, 0.7239000201225281, 0.723800003528595, 0.723800003528595, 0.723800003528595, 0.7236999869346619, 0.7236999869346619, 0.7236999869346619, 0.7235999703407288, 0.7235999703407288, 0.7235999703407288, 0.7235000133514404, 0.7233999967575073, 0.7232000231742859, 0.7231000065803528, 0.7231000065803528, 0.7231000065803528, 0.7229999899864197, 0.7229999899864197, 0.7228999733924866, 0.7228999733924866, 0.7228999733924866, 0.7228000164031982, 0.7222999930381775, 0.718500018119812, 0.7214000225067139, 0.7213000059127808, 0.7215999960899353, 0.7156000137329102, 0.7217000126838684, 0.7207000255584717, 0.7189000248908997, 0.7178999781608582, 0.7225000262260437, 0.7142000198364258, 0.7146000266075134, 0.7210000157356262, 0.7206000089645386, 0.7228000164031982, 0.7193999886512756, 0.7185999751091003, 0.7211999893188477, 0.7207000255584717, 0.6643000245094299, 0.6908000111579895, 0.6830000281333923, 0.7067000269889832, 0.6880999803543091, 0.6291000247001648, 0.619700014591217, 0.5175999999046326, 0.6754000186920166, 0.44519999623298645, 0.45649999380111694, 0.18520000576972961, 0.5009999871253967, 0.12219999730587006, 0.2827000021934509, 0.1467999964952469, -0.15690000355243683, 0.42399999499320984, 0.003599999938160181, 0.006399999838322401, -0.016300000250339508, 0.06350000202655792, -0.01940000057220459, 0.04500000178813934], \"logprob\": [30.0, 29.0, 28.0, 27.0, 26.0, 25.0, 24.0, 23.0, 22.0, 21.0, 20.0, 19.0, 18.0, 17.0, 16.0, 15.0, 14.0, 13.0, 12.0, 11.0, 10.0, 9.0, 8.0, 7.0, 6.0, 5.0, 4.0, 3.0, 2.0, 1.0, -5.613999843597412, -6.81790018081665, -6.85230016708374, -7.238800048828125, -7.051599979400635, -6.645199775695801, -6.804100036621094, -7.372700214385986, -7.4670000076293945, -7.667900085449219, -7.629799842834473, -7.536300182342529, -7.654200077056885, -7.381400108337402, -7.6269001960754395, -7.013899803161621, -7.911200046539307, -7.855999946594238, -7.670199871063232, -7.32889986038208, -7.912799835205078, -7.915999889373779, -5.636000156402588, -7.989500045776367, -8.090100288391113, -8.191900253295898, -6.963799953460693, -7.513299942016602, -8.053400039672852, -7.892300128936768, -5.715199947357178, -5.651800155639648, -6.6427998542785645, -6.6844000816345215, -6.842800140380859, -6.9430999755859375, -6.814599990844727, -6.962200164794922, -7.190700054168701, -7.068399906158447, -7.296000003814697, -7.057000160217285, -7.038099765777588, -6.930300235748291, -7.327300071716309, -6.710100173950195, -6.989299774169922, -5.4527997970581055, -6.29010009765625, -6.547999858856201, -6.580999851226807, -6.076300144195557, -6.51669979095459, -6.821700096130371, -5.781000137329102, -6.043799877166748, -6.188300132751465, -5.8769001960754395, -6.138000011444092, -5.975599765777588, -4.353799819946289, -6.722599983215332, -6.1656999588012695, -5.526899814605713, -6.139200210571289, -6.268099784851074, -5.7596001625061035, -5.946300029754639, -6.190999984741211, -4.843599796295166, -6.017600059509277, -5.243599891662598, -5.269999980926514, -5.324699878692627, -5.419400215148926, -5.075200080871582, -5.292099952697754, -5.768099784851074, -5.608799934387207, -5.5991997718811035, -5.701099872589111, -5.905600070953369, -5.798600196838379, -5.980999946594238, -5.867800235748291, -5.9593000411987305, -6.131199836730957, -5.9583001136779785, -6.491199970245361, -6.816500186920166, -7.193600177764893, -7.387599945068359, -6.44189977645874, -7.416900157928467, -7.51039981842041, -7.4745001792907715, -6.754899978637695, -7.750699996948242, -7.271999835968018, -7.745999813079834, -7.714799880981445, -4.832399845123291, -7.860099792480469, -7.456500053405762, -5.81790018081665, -7.966400146484375, -7.894999980926514, -8.113499641418457, -8.131699562072754, -5.0655999183654785, -7.765399932861328, -8.090499877929688, -7.316400051116943, -7.388800144195557, -7.879899978637695, -6.9369001388549805, -4.18209981918335, -4.600599765777588, -4.996500015258789, -5.004300117492676, -5.129700183868408, -4.698299884796143, -5.395500183105469, -5.341599941253662, -5.463900089263916, -5.688300132751465, -6.234099864959717, -5.616300106048584, -5.816199779510498, -6.458799839019775, -6.422500133514404, -6.839900016784668, -6.508399963378906, -6.502200126647949, -6.814000129699707, -6.8317999839782715, -3.70740008354187, -5.013000011444092, -4.6996002197265625, -5.858399868011475, -5.803100109100342, -5.571700096130371, -5.5131001472473145, -5.281099796295166, -6.242300033569336, -5.28879976272583, -5.338099956512451, -4.678100109100342, -5.716599941253662, -4.591300010681152, -5.218699932098389, -4.984600067138672, -4.638599872589111, -5.538099765777588, -5.236599922180176, -5.257599830627441, -5.355999946594238, -5.4721999168396, -5.456699848175049, -5.519499778747559]}, \"token.table\": {\"Topic\": [1, 2, 1, 2, 1, 2, 1, 2, 1, 2, 1, 2, 1, 2, 1, 2, 1, 2, 1, 2, 1, 2, 1, 2, 1, 2, 1, 2, 1, 2, 1, 2, 1, 2, 1, 2, 1, 2, 1, 2, 1, 2, 1, 2, 1, 2, 1, 2, 1, 2, 1, 2, 1, 2, 1, 2, 1, 2, 1, 2, 1, 2, 1, 2, 1, 2, 1, 2, 1, 2, 1, 2, 1, 2, 1, 2, 1, 2, 1, 2, 1, 2, 1, 2, 1, 2, 1, 2, 1, 2, 1, 2, 1, 2, 1, 2, 1, 2, 1, 2, 1, 2, 1, 2, 1, 2, 1, 2, 1, 2, 1, 2, 1, 2, 1, 2, 1, 2, 1, 2, 1, 2, 1, 2, 1, 2, 1, 2, 1, 2, 1, 2, 1, 2, 1, 2, 1, 2, 1, 2, 1, 2, 1, 2, 1, 2, 1, 2, 1, 2, 1, 2, 1, 2, 1, 2, 1, 2, 1, 2, 1, 2, 1, 2, 1, 2, 1, 2, 1, 2, 1, 2, 1, 2, 1, 2, 1, 2, 1, 2, 1, 2, 1, 2, 1, 2, 1, 2, 1, 2, 1, 2, 1, 2, 1, 2, 1, 2, 1, 2, 1, 2, 1, 2, 1, 2, 1, 2, 1, 2, 1, 2, 1, 2, 1, 2, 1, 2, 1, 2, 1, 2, 1, 2, 1, 2, 1, 2, 1, 2, 1, 2, 1, 2, 1, 2, 1, 2, 1, 2, 1, 2, 1, 2, 1, 2, 1, 2, 1, 2, 1, 2, 1, 2, 1, 2, 1, 2, 1, 2, 1, 2, 1, 2, 1, 2, 1, 2, 1, 2, 1, 2, 1, 2, 1, 2, 1, 2, 1, 2, 1, 2, 1, 2, 1, 2, 1, 2, 1, 2, 1, 2, 1, 2, 1, 2, 1, 2], \"Freq\": [0.002276612678542733, 0.9971563816070557, 0.0017887437716126442, 0.9981189966201782, 0.997090220451355, 0.002915468532592058, 0.002607207978144288, 0.9985606670379639, 0.0029229966457933187, 0.9967418909072876, 0.79026859998703, 0.20961393415927887, 0.0015928401844576001, 0.9987107515335083, 0.5627893805503845, 0.437158465385437, 0.003784618340432644, 0.9961773753166199, 0.0020661326125264168, 0.9979420304298401, 0.0019506223034113646, 0.9987186193466187, 0.8362738490104675, 0.1640239953994751, 0.002968286629766226, 0.9973443150520325, 0.9716032147407532, 0.028352057561278343, 0.09156441688537598, 0.9082342982292175, 0.0037555007729679346, 0.9961873888969421, 0.0018418116960674524, 0.9982619285583496, 0.9765109419822693, 0.023402223363518715, 0.9975119829177856, 0.002226589247584343, 0.04121958464384079, 0.9586763978004456, 0.4734223783016205, 0.5264701247215271, 0.999257504940033, 0.0007994059706106782, 0.18745653331279755, 0.8124886751174927, 0.0009497683495283127, 0.9982065558433533, 0.999327540397644, 0.0019480069167912006, 0.6950437426567078, 0.3050852119922638, 0.9989650845527649, 0.0009371154592372477, 0.004377818200737238, 0.9956080317497253, 0.0005096201784908772, 0.9998748302459717, 0.010846836492419243, 0.9891712665557861, 0.010675253346562386, 0.989485502243042, 0.0010107869748026133, 0.999668300151825, 0.018284324556589127, 0.9816396832466125, 0.0042266640812158585, 0.9960838556289673, 0.9990209341049194, 0.003264774102717638, 0.996837317943573, 0.0030577832367271185, 0.048778485506772995, 0.9511805176734924, 0.9976867437362671, 0.0016683724243193865, 0.9814570546150208, 0.017810586839914322, 0.9944242835044861, 0.006004977505654097, 0.0021031361538916826, 0.9979380965232849, 0.0014735448639839888, 0.9990633726119995, 0.0024800554383546114, 0.9994623064994812, 0.9988600611686707, 0.0021388866007328033, 0.005912500899285078, 0.9940392374992371, 0.9470060467720032, 0.053202588111162186, 0.9876959323883057, 0.011808491311967373, 0.9992854595184326, 0.0033874083310365677, 0.9994379281997681, 0.00219174986705184, 0.9563427567481995, 0.04333224892616272, 0.9754151701927185, 0.02487930655479431, 0.0017887484282255173, 0.9981216192245483, 0.43923816084861755, 0.5607643127441406, 0.007149404380470514, 0.9927923083305359, 0.9514340162277222, 0.048530761152505875, 0.9979829788208008, 0.001746761379763484, 0.9943327307701111, 0.005654972977936268, 0.009518232196569443, 0.9904986023902893, 0.9972246885299683, 0.0033185514621436596, 0.9986187219619751, 0.0012002629227936268, 0.9992232918739319, 0.0016543432138860226, 0.9988048672676086, 0.0014475432690232992, 0.5813547372817993, 0.41858431696891785, 0.8923338651657104, 0.1076497808098793, 0.0028174561448395252, 0.99737948179245, 0.9724550247192383, 0.027373822405934334, 0.5235300660133362, 0.47643473744392395, 0.9950211644172668, 0.005026946309953928, 0.9982360601425171, 0.0021963389590382576, 0.23554129898548126, 0.7644513845443726, 0.9240875244140625, 0.0757913887500763, 0.4528329372406006, 0.5471432209014893, 0.8342201709747314, 0.16574516892433167, 0.10013362765312195, 0.8999664783477783, 0.7242472767829895, 0.2759860157966614, 0.997519314289093, 0.003224739106371999, 0.5647603273391724, 0.4352264404296875, 0.9988038539886475, 0.0028375110123306513, 0.9954272508621216, 0.004375504329800606, 0.9970515370368958, 0.0031552263535559177, 0.9974685311317444, 0.0026813670992851257, 0.9073173999786377, 0.09268953651189804, 0.9986063838005066, 0.0030632098205387592, 0.48403626680374146, 0.5160150527954102, 0.0007302761659957469, 0.9997480511665344, 0.0013894349103793502, 0.9990037083625793, 0.9974373579025269, 0.0028336290270090103, 0.006684298627078533, 0.9933305978775024, 0.9886643886566162, 0.011424566619098186, 0.9975186586380005, 0.003750069998204708, 0.5860869288444519, 0.4139176905155182, 0.9993191361427307, 0.0009835818782448769, 0.0004285796021576971, 0.9994476437568665, 0.0019153101602569222, 0.9978765845298767, 0.002570915501564741, 0.9975152611732483, 0.2601334750652313, 0.7399629950523376, 0.9980242252349854, 0.0021325305569916964, 0.0018602138152346015, 0.9981907606124878, 0.9930665493011475, 0.007395176682621241, 0.7202743887901306, 0.27967938780784607, 0.997692346572876, 0.002222031820565462, 0.9991108179092407, 0.0028464696370065212, 0.9943122267723083, 0.005890475120395422, 0.033808495849370956, 0.9661179780960083, 0.004090400412678719, 0.9960125088691711, 0.036442000418901443, 0.9637670516967773, 0.5140288472175598, 0.48597803711891174, 0.00475337402895093, 0.9954923391342163, 0.20076896250247955, 0.7990389466285706, 0.0035450162831693888, 0.9965227842330933, 0.0020220535807311535, 0.9988945126533508, 0.9972681403160095, 0.003183617489412427, 0.9947912096977234, 0.004864505026489496, 0.00660551805049181, 0.9937635064125061, 0.9980393648147583, 0.0011551381321623921, 0.9987508654594421, 0.0019023825880140066, 0.9912379384040833, 0.008950229734182358, 0.35754936933517456, 0.6425105333328247, 0.9969796538352966, 0.0027540873270481825, 0.003188689239323139, 0.9980596899986267, 0.0028676835354417562, 0.9979538917541504, 0.24423938989639282, 0.7557815313339233, 0.00340795679949224, 0.9965839385986328, 0.003693126840516925, 0.9971442818641663, 0.9994676113128662, 0.00028523619403131306, 0.0016639161622151732, 0.998349666595459, 0.9986326694488525, 0.001582619152031839, 0.0036086118780076504, 0.9995855093002319, 0.5251344442367554, 0.47493958473205566, 0.4172269105911255, 0.5827699899673462, 0.49346575140953064, 0.5064922571182251, 0.05906476080417633, 0.9409568905830383, 0.004020357504487038, 0.9960436224937439, 0.0025588918942958117, 0.9979678392410278, 0.8149541616439819, 0.1851632446050644, 0.002895255573093891, 0.9970536231994629, 0.0062384032644331455, 0.9937256574630737, 0.9988441467285156, 0.0009503750479780138, 0.5126075744628906, 0.48730388283729553, 0.9285055994987488, 0.07153210788965225, 0.45151013135910034, 0.5485057830810547, 0.997607946395874, 0.0027788521256297827, 0.9979449510574341, 0.0018177502788603306, 0.0015276053454726934, 0.9984983801841736, 0.0037608162965625525, 0.9966163039207458, 0.8430472612380981, 0.15679781138896942, 0.7042790055274963, 0.2957824468612671, 0.8906906247138977, 0.109029121696949, 0.5068007111549377, 0.49307355284690857], \"Term\": [\"Bernie Sanders\", \"Bernie Sanders\", \"Ted Cruz\", \"Ted Cruz\", \"abortion\", \"abortion\", \"alt\", \"alt\", \"alt_right\", \"alt_right\", \"american\", \"american\", \"ballot\", \"ballot\", \"believe\", \"believe\", \"bernie\", \"bernie\", \"bernie_sanders\", \"bernie_sanders\", \"bernie_supporter\", \"bernie_supporter\", \"black\", \"black\", \"bot\", \"bot\", \"business\", \"business\", \"campaign\", \"campaign\", \"candidate\", \"candidate\", \"caucus\", \"caucus\", \"child\", \"child\", \"china\", \"china\", \"clinton\", \"clinton\", \"come\", \"come\", \"company\", \"company\", \"conservative\", \"conservative\", \"convention\", \"convention\", \"cop\", \"cop\", \"country\", \"country\", \"crime\", \"crime\", \"cruz\", \"cruz\", \"delegate\", \"delegate\", \"democrat\", \"democrat\", \"democratic\", \"democratic\", \"democratic_party\", \"democratic_party\", \"democrats\", \"democrats\", \"dnc\", \"dnc\", \"doctor\", \"doctor\", \"dollar\", \"dollar\", \"donald\", \"donald\", \"drug\", \"drug\", \"economy\", \"economy\", \"education\", \"education\", \"election\", \"election\", \"electoral\", \"electoral\", \"electoral_college\", \"electoral_college\", \"employee\", \"employee\", \"establishment\", \"establishment\", \"family\", \"family\", \"federal\", \"federal\", \"firearm\", \"firearm\", \"food\", \"food\", \"free\", \"free\", \"gay\", \"gay\", \"general_election\", \"general_election\", \"good\", \"good\", \"gop\", \"gop\", \"government\", \"government\", \"gun\", \"gun\", \"health\", \"health\", \"hillary\", \"hillary\", \"illegal\", \"illegal\", \"income\", \"income\", \"industry\", \"industry\", \"insurance\", \"insurance\", \"issue\", \"issue\", \"job\", \"job\", \"kasich\", \"kasich\", \"kill\", \"kill\", \"know\", \"know\", \"law\", \"law\", \"legal\", \"legal\", \"liberal\", \"liberal\", \"life\", \"life\", \"like\", \"like\", \"live\", \"live\", \"lose\", \"lose\", \"man\", \"man\", \"market\", \"market\", \"mean\", \"mean\", \"medical\", \"medical\", \"military\", \"military\", \"minimum\", \"minimum\", \"minimum_wage\", \"minimum_wage\", \"money\", \"money\", \"mother\", \"mother\", \"need\", \"need\", \"nomination\", \"nomination\", \"nominee\", \"nominee\", \"officer\", \"officer\", \"party\", \"party\", \"pay\", \"pay\", \"pay_tax\", \"pay_tax\", \"people\", \"people\", \"police\", \"police\", \"poll\", \"poll\", \"polling\", \"polling\", \"popular_vote\", \"popular_vote\", \"president\", \"president\", \"price\", \"price\", \"primary\", \"primary\", \"private\", \"private\", \"problem\", \"problem\", \"profit\", \"profit\", \"property\", \"property\", \"rate\", \"rate\", \"republican\", \"republican\", \"republican_party\", \"republican_party\", \"republicans\", \"republicans\", \"right\", \"right\", \"rubio\", \"rubio\", \"run\", \"run\", \"sanders\", \"sanders\", \"sanders_supporter\", \"sanders_supporter\", \"school\", \"school\", \"security\", \"security\", \"senate\", \"senate\", \"service\", \"service\", \"sex\", \"sex\", \"society\", \"society\", \"state\", \"state\", \"student\", \"student\", \"super_delegate\", \"super_delegate\", \"superdelegate\", \"superdelegate\", \"support\", \"support\", \"supporter\", \"supporter\", \"swing_state\", \"swing_state\", \"tax\", \"tax\", \"ted_cruz\", \"ted_cruz\", \"terrorist\", \"terrorist\", \"the Democratic Party\", \"the Democratic Party\", \"thing\", \"thing\", \"think\", \"think\", \"time\", \"time\", \"trump\", \"trump\", \"trump_supporter\", \"trump_supporter\", \"turnout\", \"turnout\", \"use\", \"use\", \"vote\", \"vote\", \"voter\", \"voter\", \"wage\", \"wage\", \"want\", \"want\", \"war\", \"war\", \"way\", \"way\", \"wealth\", \"wealth\", \"weapon\", \"weapon\", \"win\", \"win\", \"win_nomination\", \"win_nomination\", \"woman\", \"woman\", \"work\", \"work\", \"world\", \"world\", \"year\", \"year\"]}, \"R\": 30, \"lambda.step\": 0.01, \"plot.opts\": {\"xlab\": \"PC1\", \"ylab\": \"PC2\"}, \"topic.order\": [2, 1]};\n",
       "\n",
       "function LDAvis_load_lib(url, callback){\n",
       "  var s = document.createElement('script');\n",
       "  s.src = url;\n",
       "  s.async = true;\n",
       "  s.onreadystatechange = s.onload = callback;\n",
       "  s.onerror = function(){console.warn(\"failed to load library \" + url);};\n",
       "  document.getElementsByTagName(\"head\")[0].appendChild(s);\n",
       "}\n",
       "\n",
       "if(typeof(LDAvis) !== \"undefined\"){\n",
       "   // already loaded: just create the visualization\n",
       "   !function(LDAvis){\n",
       "       new LDAvis(\"#\" + \"ldavis_el129242619643268696250107552\", ldavis_el129242619643268696250107552_data);\n",
       "   }(LDAvis);\n",
       "}else if(typeof define === \"function\" && define.amd){\n",
       "   // require.js is available: use it to load d3/LDAvis\n",
       "   require.config({paths: {d3: \"https://cdnjs.cloudflare.com/ajax/libs/d3/3.5.5/d3.min\"}});\n",
       "   require([\"d3\"], function(d3){\n",
       "      window.d3 = d3;\n",
       "      LDAvis_load_lib(\"https://cdn.rawgit.com/bmabey/pyLDAvis/files/ldavis.v1.0.0.js\", function(){\n",
       "        new LDAvis(\"#\" + \"ldavis_el129242619643268696250107552\", ldavis_el129242619643268696250107552_data);\n",
       "      });\n",
       "    });\n",
       "}else{\n",
       "    // require.js not available: dynamically load d3 & LDAvis\n",
       "    LDAvis_load_lib(\"https://cdnjs.cloudflare.com/ajax/libs/d3/3.5.5/d3.min.js\", function(){\n",
       "         LDAvis_load_lib(\"https://cdn.rawgit.com/bmabey/pyLDAvis/files/ldavis.v1.0.0.js\", function(){\n",
       "                 new LDAvis(\"#\" + \"ldavis_el129242619643268696250107552\", ldavis_el129242619643268696250107552_data);\n",
       "            })\n",
       "         });\n",
       "}\n",
       "</script>"
      ],
      "text/plain": [
       "<IPython.core.display.HTML object>"
      ]
     },
     "execution_count": 17,
     "metadata": {},
     "output_type": "execute_result"
    }
   ],
   "source": [
    "# plot topics\n",
    "data =  pyLDAvis.gensim.prepare(model, corpus, dictionary)\n",
    "pyLDAvis.display(data)"
   ]
  },
  {
   "cell_type": "code",
   "execution_count": 18,
   "metadata": {},
   "outputs": [
    {
     "data": {
      "text/plain": [
       "0"
      ]
     },
     "execution_count": 18,
     "metadata": {},
     "output_type": "execute_result"
    }
   ],
   "source": [
    "item = model[corpus[0]]\n",
    "\n",
    "item[0][0]"
   ]
  },
  {
   "cell_type": "code",
   "execution_count": 20,
   "metadata": {},
   "outputs": [],
   "source": [
    "# assignment\n",
    "from builtins import max\n",
    "\n",
    "sent_to_cluster = list()\n",
    "for n,doc in enumerate(corpus):\n",
    "    if doc:\n",
    "        cluster = max(model[doc],key=lambda x:x[1])\n",
    "        sent_to_cluster.append(cluster[0])"
   ]
  },
  {
   "cell_type": "code",
   "execution_count": 21,
   "metadata": {},
   "outputs": [],
   "source": [
    "comment_class = [0 if x==1 else 1 for x in comment_class]"
   ]
  },
  {
   "cell_type": "code",
   "execution_count": 22,
   "metadata": {},
   "outputs": [],
   "source": [
    "class_id = {\n",
    "    'right-lean':1,\n",
    "    'left-lean':0\n",
    "}"
   ]
  },
  {
   "cell_type": "code",
   "execution_count": 23,
   "metadata": {},
   "outputs": [
    {
     "name": "stdout",
     "output_type": "stream",
     "text": [
      "93428\n",
      "right-lean : 0 - 25134\n",
      "Accuracy: 0.50268\n",
      "------\n",
      "93428\n",
      "left-lean : 0 - 26335\n",
      "Accuracy: 0.5267\n",
      "------\n"
     ]
    }
   ],
   "source": [
    "# accuracy\n",
    "from collections import Counter\n",
    "for lean, cluster in class_id.items():\n",
    "    assignments = list()\n",
    "    class_size = 0\n",
    "    for real,given in zip(comment_class,sent_to_cluster):\n",
    "        class_size += 1\n",
    "        if real == cluster:\n",
    "            assignments.append(given)\n",
    "    most_common,num_most_common = Counter(assignments).most_common(1)[0] # 4, 6 times\n",
    "    print(class_size)\n",
    "    print(lean,\":\",most_common,\"-\",num_most_common)\n",
    "    print(\"Accuracy:\",num_most_common/50000)\n",
    "    print(\"------\")"
   ]
  },
  {
   "cell_type": "markdown",
   "metadata": {},
   "source": [
    "Obtaining this accuracy for each group of comments, we can conclude that this approach is not good to classify the users in terms of the discussion topic, since apparently the distribution of the 2 main topics is the very same in both groups.  \n",
    "We did not have time to keep pursuing this approach, but the next step would be to train for a much larger number of topics and look at the topic distribution of a community and compare it to that of each of the classes."
   ]
  }
 ],
 "metadata": {
  "kernelspec": {
   "display_name": "Python 3",
   "language": "python",
   "name": "python3"
  },
  "language_info": {
   "codemirror_mode": {
    "name": "ipython",
    "version": 3
   },
   "file_extension": ".py",
   "mimetype": "text/x-python",
   "name": "python",
   "nbconvert_exporter": "python",
   "pygments_lexer": "ipython3",
   "version": "3.6.7"
  }
 },
 "nbformat": 4,
 "nbformat_minor": 2
}
