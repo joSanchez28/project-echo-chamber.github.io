{
 "cells": [
  {
   "cell_type": "markdown",
   "metadata": {},
   "source": [
    "# Network Graph Visualization of Reddit Subreddits\n",
    "\n",
    "Notebook based in the notebook created by Max Woolf (@minimaxir): See it on GitHub https://github.com/minimaxir/reddit-graph"
   ]
  },
  {
   "cell_type": "code",
   "execution_count": 85,
   "metadata": {},
   "outputs": [],
   "source": [
    "Sys.setenv(R_GSCMD = \"C:/Program Files/gs/gs9.26/bin/gswin64c.exe\")"
   ]
  },
  {
   "cell_type": "code",
   "execution_count": 86,
   "metadata": {},
   "outputs": [
    {
     "data": {
      "text/plain": [
       "R version 3.5.1 (2018-07-02)\n",
       "Platform: x86_64-w64-mingw32/x64 (64-bit)\n",
       "Running under: Windows 10 x64 (build 17763)\n",
       "\n",
       "Matrix products: default\n",
       "\n",
       "locale:\n",
       "[1] LC_COLLATE=Spanish_Spain.1252  LC_CTYPE=Spanish_Spain.1252   \n",
       "[3] LC_MONETARY=Spanish_Spain.1252 LC_NUMERIC=C                  \n",
       "[5] LC_TIME=Spanish_Spain.1252    \n",
       "\n",
       "attached base packages:\n",
       "[1] grid      stats     graphics  grDevices utils     datasets  methods  \n",
       "[8] base     \n",
       "\n",
       "other attached packages:\n",
       " [1] gdtools_0.1.7        bindrcpp_0.2.2       rsvg_1.3            \n",
       " [4] intergraph_2.0-2     igraph_1.2.2         svglite_1.2.1       \n",
       " [7] ggnetwork_0.5.1      sna_2.4              network_1.13.0.1    \n",
       "[10] statnet.common_4.1.4 stringr_1.3.1        digest_0.6.15       \n",
       "[13] RColorBrewer_1.1-2   scales_0.5.0         extrafont_0.17      \n",
       "[16] ggplot2_3.0.0        dplyr_0.7.6          readr_1.3.0         \n",
       "\n",
       "loaded via a namespace (and not attached):\n",
       " [1] pbdZMQ_0.3-3     tidyselect_0.2.4 repr_0.15.0      purrr_0.2.5     \n",
       " [5] lattice_0.20-35  colorspace_1.3-2 htmltools_0.3.6  base64enc_0.1-3 \n",
       " [9] utf8_1.1.4       rlang_0.3.0.1    pillar_1.3.0     glue_1.3.0      \n",
       "[13] withr_2.1.2      uuid_0.1-2       bindr_0.1.1      plyr_1.8.4      \n",
       "[17] munsell_0.5.0    gtable_0.2.0     coda_0.19-1      evaluate_0.11   \n",
       "[21] labeling_0.3     fansi_0.3.0      Rttf2pt1_1.3.7   IRdisplay_0.5.0 \n",
       "[25] Rcpp_0.12.18     IRkernel_0.8.12  jsonlite_1.5     hms_0.4.2       \n",
       "[29] stringi_1.2.4    ggrepel_0.8.0    cli_1.0.0        tools_3.5.1     \n",
       "[33] magrittr_1.5     lazyeval_0.2.1   tibble_1.4.2     crayon_1.3.4    \n",
       "[37] extrafontdb_1.0  pkgconfig_2.0.2  assertthat_0.2.0 R6_2.2.2        \n",
       "[41] compiler_3.5.1  "
      ]
     },
     "metadata": {},
     "output_type": "display_data"
    }
   ],
   "source": [
    "source(\"Rstart.R\")\n",
    "\n",
    "library(sna)\n",
    "library(ggnetwork)\n",
    "library(svglite)\n",
    "library(igraph)\n",
    "library(intergraph)   # convert igraph to network\n",
    "library(rsvg)   # convert svg to pdf\n",
    "\n",
    "sessionInfo()"
   ]
  },
  {
   "cell_type": "markdown",
   "metadata": {},
   "source": [
    "Load edgelist into R and preprocess."
   ]
  },
  {
   "cell_type": "code",
   "execution_count": 87,
   "metadata": {
    "scrolled": false
   },
   "outputs": [
    {
     "name": "stderr",
     "output_type": "stream",
     "text": [
      "Parsed with column specification:\n",
      "cols(\n",
      "  Subreddit1 = col_character(),\n",
      "  Subreddit2 = col_character(),\n",
      "  Weight = col_double()\n",
      ")\n"
     ]
    },
    {
     "name": "stdout",
     "output_type": "stream",
     "text": [
      "# A tibble: 6 x 3\n",
      "  Subreddit1 Subreddit2 Weight\n",
      "  <chr>      <chr>       <dbl>\n",
      "1 2007scape  funny        1113\n",
      "2 2007scape  gaming       1070\n",
      "3 2007scape  gifs          963\n",
      "4 2007scape  news          973\n",
      "5 2007scape  pics         1209\n",
      "6 2007scape  politics     1212\n"
     ]
    }
   ],
   "source": [
    "#file_name <- \"subreddit_edges.csv\"\n",
    "file_name <- \"edge_list.csv\"\n",
    "\n",
    "#df <- read_csv(file_name) %>% arrange(Source, Target)\n",
    "df <- read_csv(file_name) %>% arrange(Subreddit1, Subreddit2)\n",
    "print(head(df))"
   ]
  },
  {
   "cell_type": "code",
   "execution_count": 88,
   "metadata": {},
   "outputs": [
    {
     "name": "stdout",
     "output_type": "stream",
     "text": [
      "# A tibble: 6 x 4\n",
      "  Subreddit1 Subreddit2    Weight connectDefault\n",
      "  <chr>      <chr>          <dbl> <lgl>         \n",
      "1 WTF        trees           6223 TRUE          \n",
      "2 WTF        unitedkingdom   1321 TRUE          \n",
      "3 WTF        videos         20654 TRUE          \n",
      "4 WTF        worldnews      19447 TRUE          \n",
      "5 WTF        wow             2645 TRUE          \n",
      "6 WTF        xboxone         2424 TRUE          \n"
     ]
    }
   ],
   "source": [
    "#defaults <- c(\"announcements\",\"art\",\"askreddit\",\"askscience\",\"aww\",\"blog\",\n",
    " #            \"books\",\"creepy\",\"dataisbeautiful\",\"diy\",\"documentaries\",\"earthporn\",\n",
    "  #           \"explainlikeimfive\",\"fitness\",\"food\",\"funny\",\"futurology\",\"gadgets\",\n",
    "   #          \"gaming\",\"getmotivated\",\"gifs\",\"history\",\"iama\",\"internetisbeautiful\",\n",
    "    #         \"jokes\",\"lifeprotips\",\"listentothis\",\"mildlyinteresting\",\"movies\",\"music\",\n",
    "     #        \"news\",\"nosleep\",\"nottheonion\",\"oldschoolcool\",\"personalfinance\",\n",
    "      #       \"philosophy\",\"photoshopbattles\",\"pics\",\"science\",\"showerthoughts\",\n",
    "       #      \"space\",\"sports\",\"television\",\"tifu\",\"todayilearned\",\"twoxchromosomes\",\"upliftingnews\",\n",
    "        #     \"videos\",\"worldnews\",\"writingprompts\")\n",
    "\n",
    "defaults <- c('AskReddit', 'news', 'funny', 'AdviceAnimals', 'Showerthoughts',\n",
    "              'The_Donald', 'CFB', 'gaming', 'pics', 'gifs', 'Overwatch', 'WTF',\n",
    "              'Futurology', 'politics', 'aww', 'BlackPeopleTwitter', 'movies',\n",
    "              'Jokes', 'CringeAnarchy', 'Games', 'LifeProTips', 'AskMen',\n",
    "              'OldSchoolCool', 'Documentaries', 'EnoughTrumpSpam', 'nfl', 'IAmA',\n",
    "              'Android', 'nba', 'MMA')\n",
    "\n",
    "#df <- df %>% mutate(connectDefault = ifelse(Source %in% defaults | Target %in% defaults, T, F))\n",
    "df <- df %>% mutate(connectDefault = ifelse(Subreddit1 %in% defaults | Subreddit2 %in% defaults, T, F))\n",
    "print(tail(df))"
   ]
  },
  {
   "cell_type": "code",
   "execution_count": 89,
   "metadata": {
    "scrolled": true
   },
   "outputs": [
    {
     "name": "stdout",
     "output_type": "stream",
     "text": [
      "IGRAPH 1c895e6 UN-- 146 3993 -- \n",
      "+ attr: name (v/c), Weight (e/n), connectDefault (e/l)\n",
      "+ edges from 1c895e6 (vertex names):\n",
      " [1] 2007scape--funny              2007scape--gaming            \n",
      " [3] 2007scape--gifs               2007scape--news              \n",
      " [5] 2007scape--pics               2007scape--politics          \n",
      " [7] 2007scape--The_Donald         2007scape--todayilearned     \n",
      " [9] 2007scape--videos             2007scape--worldnews         \n",
      "[11] 4chan    --AdviceAnimals      4chan    --Android           \n",
      "[13] 4chan    --AskMen             4chan    --atheism           \n",
      "[15] 4chan    --aww                4chan    --BlackPeopleTwitter\n",
      "+ ... omitted several edges\n"
     ]
    }
   ],
   "source": [
    "net <- graph.data.frame(df, directed=F)\n",
    "\n",
    "print(net)"
   ]
  },
  {
   "cell_type": "markdown",
   "metadata": {},
   "source": [
    "Calculate degree, and remove nodes with only 1 or 2 neighbors for graphing simplicity."
   ]
  },
  {
   "cell_type": "code",
   "execution_count": 90,
   "metadata": {
    "scrolled": false
   },
   "outputs": [
    {
     "name": "stdout",
     "output_type": "stream",
     "text": [
      "IGRAPH 1c8ee4b UN-- 139 3983 -- \n",
      "+ attr: name (v/c), degree (v/n), Weight (e/n), connectDefault (e/l)\n",
      "+ edges from 1c8ee4b (vertex names):\n",
      " [1] 2007scape--funny              2007scape--gaming            \n",
      " [3] 2007scape--gifs               2007scape--news              \n",
      " [5] 2007scape--pics               2007scape--politics          \n",
      " [7] 2007scape--The_Donald         2007scape--todayilearned     \n",
      " [9] 2007scape--videos             2007scape--worldnews         \n",
      "[11] 4chan    --AdviceAnimals      4chan    --Android           \n",
      "[13] 4chan    --AskMen             4chan    --atheism           \n",
      "[15] 4chan    --aww                4chan    --BlackPeopleTwitter\n",
      "+ ... omitted several edges\n"
     ]
    }
   ],
   "source": [
    "V(net)$degree <- centralization.degree(net)$res\n",
    "net <- igraph::delete.vertices(net, V(net)[degree < 3])\n",
    "\n",
    "print(net)"
   ]
  },
  {
   "cell_type": "markdown",
   "metadata": {},
   "source": [
    "Add more summary statistics to the nodes."
   ]
  },
  {
   "cell_type": "code",
   "execution_count": 91,
   "metadata": {
    "scrolled": false
   },
   "outputs": [
    {
     "name": "stdout",
     "output_type": "stream",
     "text": [
      "    V.net..name V.net..degree V.net..centrality V.net..group V.net..defaultnode\n",
      "1     2007scape            10       0.018819632            1              FALSE\n",
      "2         4chan            71       0.189046072            2              FALSE\n",
      "3 AdviceAnimals           119       0.640145222            1               TRUE\n",
      "4           Amd             4       0.005795301            3              FALSE\n",
      "5       Android            69       0.182583128            2               TRUE\n",
      "6         anime            24       0.048642025            2              FALSE\n"
     ]
    }
   ],
   "source": [
    "V(net)$group <- membership(cluster_walktrap(net, weights=E(net)$Weight))\n",
    "V(net)$centrality <- eigen_centrality(net, weights=E(net)$Weight)$vector\n",
    "V(net)$defaultnode <- V(net)$name %in% defaults\n",
    "\n",
    "print(head(data.frame(V(net)$name, V(net)$degree, V(net)$centrality, V(net)$group, V(net)$defaultnode)))"
   ]
  },
  {
   "cell_type": "code",
   "execution_count": null,
   "metadata": {},
   "outputs": [],
   "source": []
  },
  {
   "cell_type": "markdown",
   "metadata": {},
   "source": [
    "## Triying to color by topic"
   ]
  },
  {
   "cell_type": "code",
   "execution_count": null,
   "metadata": {},
   "outputs": [],
   "source": []
  },
  {
   "cell_type": "code",
   "execution_count": null,
   "metadata": {},
   "outputs": [],
   "source": []
  },
  {
   "cell_type": "code",
   "execution_count": null,
   "metadata": {},
   "outputs": [],
   "source": []
  },
  {
   "cell_type": "code",
   "execution_count": null,
   "metadata": {},
   "outputs": [],
   "source": []
  },
  {
   "cell_type": "code",
   "execution_count": null,
   "metadata": {},
   "outputs": [],
   "source": []
  },
  {
   "cell_type": "markdown",
   "metadata": {},
   "source": [
    "## Adding colors\n",
    "\n",
    "Long string of code to generate color palette and assign to nodes and edges. Generate a color for a group from solid ColorBrewer colors."
   ]
  },
  {
   "cell_type": "code",
   "execution_count": 92,
   "metadata": {},
   "outputs": [
    {
     "name": "stdout",
     "output_type": "stream",
     "text": [
      "  group  colors\n",
      "1     1 #54278F\n",
      "2     2 #54278F\n",
      "3     3 #EF3B2C\n",
      "4     4 #6A51A3\n",
      "5     5 #006D2C\n",
      "6     6 #41AB5D\n"
     ]
    }
   ],
   "source": [
    "color_pool <- c(brewer.pal(9, \"Blues\")[6:9],\n",
    "                brewer.pal(9, \"Reds\")[6:9],\n",
    "                brewer.pal(9, \"Greens\")[6:9],\n",
    "                brewer.pal(9, \"Purples\")[6:9])\n",
    "\n",
    "n_colors <- max(V(net)$group)\n",
    "set.seed(42)\n",
    "palette <- data.frame(group=1:n_colors, colors=sample(color_pool, n_colors, replace=T), stringsAsFactors=FALSE)\n",
    "\n",
    "V(net)$colornode <- palette[V(net)$group, 2]\n",
    "                   \n",
    "print(head(palette))"
   ]
  },
  {
   "cell_type": "markdown",
   "metadata": {},
   "source": [
    "Prepare data frame for merging. (to find edges with are in the same group)"
   ]
  },
  {
   "cell_type": "code",
   "execution_count": 93,
   "metadata": {
    "scrolled": true
   },
   "outputs": [
    {
     "name": "stdout",
     "output_type": "stream",
     "text": [
      "# A tibble: 6 x 2\n",
      "  X1        X2      \n",
      "  <chr>     <chr>   \n",
      "1 2007scape funny   \n",
      "2 2007scape gaming  \n",
      "3 2007scape gifs    \n",
      "4 2007scape news    \n",
      "5 2007scape pics    \n",
      "6 2007scape politics\n",
      "# A tibble: 6 x 3\n",
      "  name          color   group\n",
      "  <chr>         <chr>   <dbl>\n",
      "1 2007scape     #54278F     1\n",
      "2 4chan         #54278F     2\n",
      "3 AdviceAnimals #54278F     1\n",
      "4 Amd           #EF3B2C     3\n",
      "5 Android       #54278F     2\n",
      "6 anime         #54278F     2\n"
     ]
    }
   ],
   "source": [
    "# http://stackoverflow.com/questions/21243965/igraph-get-edge-from-to-value\n",
    "\n",
    "df_edges <- tbl_df(data.frame(get.edgelist(net), stringsAsFactors=FALSE))\n",
    "df_vertices <- tbl_df(data.frame(name=V(net)$name, color=V(net)$colornode, group=V(net)$group, stringsAsFactors=FALSE))\n",
    "\n",
    "print(head(df_edges))\n",
    "print(head(df_vertices))"
   ]
  },
  {
   "cell_type": "code",
   "execution_count": 94,
   "metadata": {},
   "outputs": [
    {
     "name": "stdout",
     "output_type": "stream",
     "text": [
      "# A tibble: 6 x 6\n",
      "  X1        X2       color.x group.x color.y group.y\n",
      "  <chr>     <chr>    <chr>     <dbl> <chr>     <dbl>\n",
      "1 2007scape funny    #54278F       1 #54278F       1\n",
      "2 2007scape gaming   #54278F       1 #54278F       1\n",
      "3 2007scape gifs     #54278F       1 #54278F       1\n",
      "4 2007scape news     #54278F       1 #54278F       1\n",
      "5 2007scape pics     #54278F       1 #54278F       1\n",
      "6 2007scape politics #54278F       1 #54278F       1\n"
     ]
    }
   ],
   "source": [
    "default_edge_color <- \"#cccccc\"\n",
    "\n",
    "df_edges <- df_edges %>% left_join(df_vertices, by=c(\"X1\"=\"name\")) %>% left_join(df_vertices, by=c(\"X2\"=\"name\"))\n",
    "E(net)$coloredge <- ifelse(df_edges$group.x==df_edges$group.y, df_edges$color.x, default_edge_color)\n",
    "\n",
    "print(head(df_edges))"
   ]
  },
  {
   "cell_type": "markdown",
   "metadata": {},
   "source": [
    "Build the network layout. 50,000 iterations is enough for layout convergence."
   ]
  },
  {
   "cell_type": "code",
   "execution_count": 95,
   "metadata": {
    "scrolled": true
   },
   "outputs": [
    {
     "name": "stdout",
     "output_type": "stream",
     "text": [
      "           x          y  centrality colornode defaultnode degree group  na.x\n",
      "1 0.92167078 0.45221211 0.018819632   #54278F       FALSE     10     1 FALSE\n",
      "2 0.00000000 0.40214640 0.189046072   #54278F       FALSE     71     2 FALSE\n",
      "3 0.38156908 0.29568797 0.640145222   #54278F        TRUE    119     1 FALSE\n",
      "4 0.66238421 1.00000000 0.005795301   #EF3B2C       FALSE      4     3 FALSE\n",
      "5 0.01925663 0.48094565 0.182583128   #54278F        TRUE     69     2 FALSE\n",
      "6 0.58855029 0.07645285 0.048642025   #54278F       FALSE     24     2 FALSE\n",
      "   vertex.names       xend       yend coloredge connectDefault na.y Weight\n",
      "1     2007scape 0.92167078 0.45221211      <NA>             NA   NA     NA\n",
      "2         4chan 0.00000000 0.40214640      <NA>             NA   NA     NA\n",
      "3 AdviceAnimals 0.38156908 0.29568797      <NA>             NA   NA     NA\n",
      "4           Amd 0.66238421 1.00000000      <NA>             NA   NA     NA\n",
      "5       Android 0.01925663 0.48094565      <NA>             NA   NA     NA\n",
      "6         anime 0.58855029 0.07645285      <NA>             NA   NA     NA\n"
     ]
    }
   ],
   "source": [
    "df_net <- ggnetwork(net, layout = \"fruchtermanreingold\", weights=\"Weight\", niter=50000)\n",
    "\n",
    "write.csv(df_net, \"df_net.csv\", row.names=F)\n",
    "print(head(df_net))"
   ]
  },
  {
   "cell_type": "code",
   "execution_count": 96,
   "metadata": {
    "scrolled": false
   },
   "outputs": [
    {
     "name": "stdout",
     "output_type": "stream",
     "text": [
      "            x          y centrality colornode defaultnode degree group  na.x\n",
      "3  0.38156908 0.29568797 0.64014522   #54278F        TRUE    119     1 FALSE\n",
      "5  0.01925663 0.48094565 0.18258313   #54278F        TRUE     69     2 FALSE\n",
      "8  0.17349885 0.68256275 0.10854552   #54278F        TRUE     50     2 FALSE\n",
      "13 0.32020879 0.31295952 0.55023134   #54278F        TRUE    109     2 FALSE\n",
      "17 0.22926710 0.31936543 0.35741572   #54278F        TRUE    100     2 FALSE\n",
      "25 0.29637013 0.07384898 0.09730195   #54278F        TRUE     45     2 FALSE\n",
      "         vertex.names       xend       yend coloredge connectDefault na.y\n",
      "3       AdviceAnimals 0.38156908 0.29568797      <NA>             NA   NA\n",
      "5             Android 0.01925663 0.48094565      <NA>             NA   NA\n",
      "8              AskMen 0.17349885 0.68256275      <NA>             NA   NA\n",
      "13                aww 0.32020879 0.31295952      <NA>             NA   NA\n",
      "17 BlackPeopleTwitter 0.22926710 0.31936543      <NA>             NA   NA\n",
      "25                CFB 0.29637013 0.07384898      <NA>             NA   NA\n",
      "   Weight\n",
      "3      NA\n",
      "5      NA\n",
      "8      NA\n",
      "13     NA\n",
      "17     NA\n",
      "25     NA\n"
     ]
    }
   ],
   "source": [
    "df_net_defaults = df_net[which(df_net$default),]\n",
    "print(head(df_net_defaults))"
   ]
  },
  {
   "cell_type": "markdown",
   "metadata": {},
   "source": [
    "We will color the nodes whether or not they are a default subreddit (orange if default, blue otherwise) and color the lines accordingly (orange if either end is a default subreddit, blue otherwise)."
   ]
  },
  {
   "cell_type": "code",
   "execution_count": 97,
   "metadata": {},
   "outputs": [
    {
     "name": "stderr",
     "output_type": "stream",
     "text": [
      "Warning message:\n",
      "\"Ignoring unknown parameters: segment.color\""
     ]
    },
    {
     "data": {},
     "metadata": {},
     "output_type": "display_data"
    },
    {
     "data": {
      "text/html": [
       "<strong>png:</strong> 2"
      ],
      "text/latex": [
       "\\textbf{png:} 2"
      ],
      "text/markdown": [
       "**png:** 2"
      ],
      "text/plain": [
       "png \n",
       "  2 "
      ]
     },
     "metadata": {},
     "output_type": "display_data"
    }
   ],
   "source": [
    "default_colors=c(\"#3498db\", \"#e67e22\")\n",
    "default_labels=c(\"Not Default\", \"Default\")\n",
    "\n",
    "svglite(\"subreddit-1.svg\", width=10, height=8)  \n",
    "  ggplot(df_net, aes(x = x, y = y, xend = xend, yend = yend, size = centrality)) +\n",
    "    geom_edges(aes(color = connectDefault), size=0.05) +\n",
    "    geom_nodes(aes(fill = defaultnode), shape = 21, stroke=0.2, color=\"black\") +\n",
    "    geom_nodelabel_repel(data=df_net, aes(color = defaultnode, label = vertex.names),\n",
    "                          fontface = \"bold\", size=0.5, box.padding = unit(0.05, \"lines\"),\n",
    "                          label.padding= unit(0.1, \"lines\"), segment.size=0.1, label.size=0.2) +\n",
    "    scale_color_manual(values=default_colors, labels=default_labels, guide=F) +\n",
    "    scale_fill_manual(values=default_colors, labels=default_labels) +\n",
    "    ggtitle(\"Network Graph of Reddit Subreddits\") +\n",
    "    scale_size(range=c(0.1, 4)) + \n",
    "    theme_blank()\n",
    "dev.off()\n",
    "\n",
    "rsvg_pdf(\"subreddit-1.svg\", \"subreddit-1.pdf\")"
   ]
  },
  {
   "cell_type": "markdown",
   "metadata": {},
   "source": [
    "Color by group: if an edge links to a node of the same group, the edge is colored that group. Otherwise, the edge is colored gray. "
   ]
  },
  {
   "cell_type": "code",
   "execution_count": 98,
   "metadata": {},
   "outputs": [
    {
     "name": "stderr",
     "output_type": "stream",
     "text": [
      "Warning message:\n",
      "\"Ignoring unknown parameters: segment.color\""
     ]
    },
    {
     "data": {},
     "metadata": {},
     "output_type": "display_data"
    },
    {
     "data": {
      "text/html": [
       "<strong>png:</strong> 2"
      ],
      "text/latex": [
       "\\textbf{png:} 2"
      ],
      "text/markdown": [
       "**png:** 2"
      ],
      "text/plain": [
       "png \n",
       "  2 "
      ]
     },
     "metadata": {},
     "output_type": "display_data"
    }
   ],
   "source": [
    "svglite(\"subreddit-2.svg\", width=10, height=8)  \n",
    "  ggplot(df_net, aes(x = x, y = y, xend = xend, yend = yend, size = centrality)) +\n",
    "  geom_edges(aes(color = coloredge), size=0.05) +\n",
    "  geom_nodes(aes(fill = colornode), shape = 21, stroke=0.2, color=\"black\") +\n",
    "     geom_nodelabel_repel(data=df_net, aes(color = colornode, label = vertex.names),\n",
    "                       fontface = \"bold\", size=0.5,\n",
    "                    box.padding = unit(0.05, \"lines\"), label.padding= unit(0.1, \"lines\"), segment.size=0.1, label.size=0.2) +\n",
    "    scale_color_identity(\"colornode\", guide=F) +\n",
    "    scale_fill_identity(\"colornode\", guide=F) +\n",
    "    scale_size(range=c(0.2, 3), guide=F) +\n",
    "    ggtitle(\"Network Graph of Reddit Subreddits\") +\n",
    "  theme_blank()\n",
    "dev.off()\n",
    "\n",
    "rsvg_pdf(\"subreddit-2.svg\", \"subreddit-2.pdf\")"
   ]
  },
  {
   "cell_type": "markdown",
   "metadata": {},
   "source": [
    "For the subgroups, use a function that prints a visualization of the subgraph for *each* group. Since the groups are in random order, sort out the important ones later.\n",
    "\n",
    "NB: Since output is a PNG with fixed dimensions and not a SVG, the style parameters of graph aestetics must be changed."
   ]
  },
  {
   "cell_type": "code",
   "execution_count": 99,
   "metadata": {},
   "outputs": [],
   "source": [
    "subreddit_graph_subset <- function(group_number) {\n",
    "\n",
    "df_network <- df_net[which(df_net$group==group_number),]\n",
    "\n",
    "plot <- \n",
    "  ggplot(df_network, aes(x = x, y = y, xend = xend, yend = yend, size = centrality)) +\n",
    "  geom_edges(data=df_network[which(df_network$coloredge!=default_edge_color),], aes(color = coloredge), size=0.05) +\n",
    "  geom_nodes(aes(fill = colornode), shape = 21, stroke=0.5, color=\"black\") +\n",
    "    geom_nodelabel_repel(data=df_network, aes(color = colornode, label = vertex.names),\n",
    "                       fontface = \"bold\", family=\"Open Sans Condensed\", size=1.5,\n",
    "                    box.padding = unit(0.10, \"lines\"), label.padding= unit(0.1, \"lines\"), segment.size=0.1, label.size=0.5, label.r=unit(0.15, \"lines\")) +\n",
    "    scale_color_identity(\"colornode\", guide=F) +\n",
    "    scale_fill_identity(\"colornode\", guide=F) +\n",
    "    scale_size(range=c(0.2, 6), guide=F) +\n",
    "    ggtitle(sprintf(\"Network Subgraph of Group %s Subreddits\",group_number)) +\n",
    "  theme_blank(base_size=7, base_family=\"Source Sans Pro\")\n",
    "    \n",
    "ggsave(sprintf(\"subreddit-groups/group-%03d.png\", group_number), plot, width=4, height=3, dpi=300)\n",
    "\n",
    "}"
   ]
  },
  {
   "cell_type": "code",
   "execution_count": 100,
   "metadata": {},
   "outputs": [
    {
     "name": "stderr",
     "output_type": "stream",
     "text": [
      "Warning message:\n",
      "\"Ignoring unknown parameters: segment.color\"Warning message in grid.Call(C_textBounds, as.graphicsAnnot(x$label), x$x, x$y, :\n",
      "\"font family not found in Windows font database\"Warning message in grid.Call(C_textBounds, as.graphicsAnnot(x$label), x$x, x$y, :\n",
      "\"font family not found in Windows font database\"Warning message in grid.Call(C_textBounds, as.graphicsAnnot(x$label), x$x, x$y, :\n",
      "\"font family not found in Windows font database\"Warning message:\n",
      "\"Ignoring unknown parameters: segment.color\"Warning message in grid.Call(C_textBounds, as.graphicsAnnot(x$label), x$x, x$y, :\n",
      "\"font family not found in Windows font database\"Warning message in grid.Call(C_textBounds, as.graphicsAnnot(x$label), x$x, x$y, :\n",
      "\"font family not found in Windows font database\"Warning message in grid.Call(C_textBounds, as.graphicsAnnot(x$label), x$x, x$y, :\n",
      "\"font family not found in Windows font database\"Warning message:\n",
      "\"Ignoring unknown parameters: segment.color\"Warning message in grid.Call(C_textBounds, as.graphicsAnnot(x$label), x$x, x$y, :\n",
      "\"font family not found in Windows font database\"Warning message in grid.Call(C_textBounds, as.graphicsAnnot(x$label), x$x, x$y, :\n",
      "\"font family not found in Windows font database\"Warning message in grid.Call(C_textBounds, as.graphicsAnnot(x$label), x$x, x$y, :\n",
      "\"font family not found in Windows font database\"Warning message:\n",
      "\"Ignoring unknown parameters: segment.color\"Warning message in grid.Call(C_textBounds, as.graphicsAnnot(x$label), x$x, x$y, :\n",
      "\"font family not found in Windows font database\"Warning message in grid.Call(C_textBounds, as.graphicsAnnot(x$label), x$x, x$y, :\n",
      "\"font family not found in Windows font database\"Warning message in grid.Call(C_textBounds, as.graphicsAnnot(x$label), x$x, x$y, :\n",
      "\"font family not found in Windows font database\"Warning message:\n",
      "\"Ignoring unknown parameters: segment.color\"Warning message in grid.Call(C_textBounds, as.graphicsAnnot(x$label), x$x, x$y, :\n",
      "\"font family not found in Windows font database\"Warning message in grid.Call(C_textBounds, as.graphicsAnnot(x$label), x$x, x$y, :\n",
      "\"font family not found in Windows font database\"Warning message in grid.Call(C_textBounds, as.graphicsAnnot(x$label), x$x, x$y, :\n",
      "\"font family not found in Windows font database\"Warning message:\n",
      "\"Ignoring unknown parameters: segment.color\"Warning message in grid.Call(C_textBounds, as.graphicsAnnot(x$label), x$x, x$y, :\n",
      "\"font family not found in Windows font database\"Warning message in grid.Call(C_textBounds, as.graphicsAnnot(x$label), x$x, x$y, :\n",
      "\"font family not found in Windows font database\"Warning message in grid.Call(C_textBounds, as.graphicsAnnot(x$label), x$x, x$y, :\n",
      "\"font family not found in Windows font database\"Warning message:\n",
      "\"Ignoring unknown parameters: segment.color\"Warning message in grid.Call(C_textBounds, as.graphicsAnnot(x$label), x$x, x$y, :\n",
      "\"font family not found in Windows font database\"Warning message in grid.Call(C_textBounds, as.graphicsAnnot(x$label), x$x, x$y, :\n",
      "\"font family not found in Windows font database\"Warning message in grid.Call(C_textBounds, as.graphicsAnnot(x$label), x$x, x$y, :\n",
      "\"font family not found in Windows font database\""
     ]
    }
   ],
   "source": [
    "x <- lapply(1:max(V(net)$group), subreddit_graph_subset)"
   ]
  }
 ],
 "metadata": {
  "kernelspec": {
   "display_name": "R",
   "language": "R",
   "name": "ir"
  },
  "language_info": {
   "codemirror_mode": "r",
   "file_extension": ".r",
   "mimetype": "text/x-r-source",
   "name": "R",
   "pygments_lexer": "r",
   "version": "3.5.1"
  }
 },
 "nbformat": 4,
 "nbformat_minor": 1
}
