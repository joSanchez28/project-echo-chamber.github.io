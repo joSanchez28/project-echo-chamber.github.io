{
 "cells": [
  {
   "cell_type": "markdown",
   "metadata": {},
   "source": [
    "# How to Create a Network Graph Visualization of Reddit Subreddits\n",
    "\n",
    "by Max Woolf (@minimaxir)\n",
    "\n",
    "*This notebook is licensed under the MIT License. If you use the code or data visualization designs contained within this notebook, it would be greatly appreciated if proper attribution is given back to this notebook and/or myself. Thanks! :)*"
   ]
  },
  {
   "cell_type": "code",
   "execution_count": 118,
   "metadata": {},
   "outputs": [
    {
     "name": "stdout",
     "output_type": "stream",
     "text": [
      "package 'Rttf2pt1' successfully unpacked and MD5 sums checked\n"
     ]
    }
   ],
   "source": [
    "install.packages('C:/Users/jorge/Downloads/Rttf2pt1_1.3.7.zip', repos = NULL)"
   ]
  },
  {
   "cell_type": "code",
   "execution_count": 119,
   "metadata": {},
   "outputs": [
    {
     "name": "stderr",
     "output_type": "stream",
     "text": [
      "Warning message:\n",
      "\"package 'extrafont' is in use and will not be installed\""
     ]
    }
   ],
   "source": [
    "install.packages('extrafont', repos = \"http://cran.us.r-project.org\")\n",
    "library(extrafont)"
   ]
  },
  {
   "cell_type": "code",
   "execution_count": 120,
   "metadata": {},
   "outputs": [],
   "source": [
    "Sys.setenv(R_GSCMD=\"C:/Program Files/gs/gs9.26/bin/gswin64c.exe\")"
   ]
  },
  {
   "cell_type": "code",
   "execution_count": 121,
   "metadata": {
    "scrolled": true
   },
   "outputs": [
    {
     "name": "stderr",
     "output_type": "stream",
     "text": [
      "Warning message:\n",
      "\"package 'ggnetwork' is in use and will not be installed\""
     ]
    }
   ],
   "source": [
    "install.packages('ggnetwork', repos = \"http://cran.us.r-project.org\")"
   ]
  },
  {
   "cell_type": "code",
   "execution_count": 122,
   "metadata": {
    "scrolled": true
   },
   "outputs": [
    {
     "name": "stderr",
     "output_type": "stream",
     "text": [
      "Warning message:\n",
      "\"package 'svglite' is in use and will not be installed\""
     ]
    }
   ],
   "source": [
    "install.packages('svglite', repos = \"http://cran.us.r-project.org\")"
   ]
  },
  {
   "cell_type": "code",
   "execution_count": 123,
   "metadata": {
    "scrolled": true
   },
   "outputs": [
    {
     "name": "stderr",
     "output_type": "stream",
     "text": [
      "Warning message:\n",
      "\"package 'igraph' is in use and will not be installed\""
     ]
    }
   ],
   "source": [
    "install.packages('igraph', repos = \"http://cran.us.r-project.org\")"
   ]
  },
  {
   "cell_type": "code",
   "execution_count": 124,
   "metadata": {
    "scrolled": true
   },
   "outputs": [
    {
     "name": "stderr",
     "output_type": "stream",
     "text": [
      "Warning message:\n",
      "\"package 'intergraph' is in use and will not be installed\""
     ]
    }
   ],
   "source": [
    "install.packages('intergraph', repos = \"http://cran.us.r-project.org\")"
   ]
  },
  {
   "cell_type": "code",
   "execution_count": 125,
   "metadata": {},
   "outputs": [
    {
     "name": "stderr",
     "output_type": "stream",
     "text": [
      "Warning message:\n",
      "\"package 'rsvg' is in use and will not be installed\""
     ]
    }
   ],
   "source": [
    "install.packages('rsvg', repos = \"http://cran.us.r-project.org\")"
   ]
  },
  {
   "cell_type": "code",
   "execution_count": 126,
   "metadata": {},
   "outputs": [
    {
     "data": {
      "text/plain": [
       "R version 3.5.1 (2018-07-02)\n",
       "Platform: x86_64-w64-mingw32/x64 (64-bit)\n",
       "Running under: Windows 10 x64 (build 17763)\n",
       "\n",
       "Matrix products: default\n",
       "\n",
       "locale:\n",
       "[1] LC_COLLATE=Spanish_Spain.1252  LC_CTYPE=Spanish_Spain.1252   \n",
       "[3] LC_MONETARY=Spanish_Spain.1252 LC_NUMERIC=C                  \n",
       "[5] LC_TIME=Spanish_Spain.1252    \n",
       "\n",
       "attached base packages:\n",
       "[1] grid      stats     graphics  grDevices utils     datasets  methods  \n",
       "[8] base     \n",
       "\n",
       "other attached packages:\n",
       " [1] gdtools_0.1.7        bindrcpp_0.2.2       rsvg_1.3            \n",
       " [4] intergraph_2.0-2     igraph_1.2.2         svglite_1.2.1       \n",
       " [7] ggnetwork_0.5.1      sna_2.4              network_1.13.0.1    \n",
       "[10] statnet.common_4.1.4 stringr_1.3.1        digest_0.6.15       \n",
       "[13] RColorBrewer_1.1-2   scales_0.5.0         extrafont_0.17      \n",
       "[16] ggplot2_3.0.0        dplyr_0.7.6          readr_1.3.0         \n",
       "\n",
       "loaded via a namespace (and not attached):\n",
       " [1] pbdZMQ_0.3-3     tidyselect_0.2.4 repr_0.15.0      purrr_0.2.5     \n",
       " [5] lattice_0.20-35  colorspace_1.3-2 htmltools_0.3.6  base64enc_0.1-3 \n",
       " [9] utf8_1.1.4       rlang_0.3.0.1    pillar_1.3.0     glue_1.3.0      \n",
       "[13] withr_2.1.2      uuid_0.1-2       bindr_0.1.1      plyr_1.8.4      \n",
       "[17] munsell_0.5.0    gtable_0.2.0     coda_0.19-1      evaluate_0.11   \n",
       "[21] labeling_0.3     fansi_0.3.0      Rttf2pt1_1.3.7   IRdisplay_0.5.0 \n",
       "[25] Rcpp_0.12.18     IRkernel_0.8.12  jsonlite_1.5     hms_0.4.2       \n",
       "[29] stringi_1.2.4    ggrepel_0.8.0    cli_1.0.0        tools_3.5.1     \n",
       "[33] magrittr_1.5     lazyeval_0.2.1   tibble_1.4.2     crayon_1.3.4    \n",
       "[37] extrafontdb_1.0  pkgconfig_2.0.2  assertthat_0.2.0 R6_2.2.2        \n",
       "[41] compiler_3.5.1  "
      ]
     },
     "metadata": {},
     "output_type": "display_data"
    }
   ],
   "source": [
    "source(\"Rstart.R\")\n",
    "\n",
    "library(sna)\n",
    "library(ggnetwork)\n",
    "library(svglite)\n",
    "library(igraph)\n",
    "library(intergraph)   # convert igraph to network\n",
    "library(rsvg)   # convert svg to pdf\n",
    "\n",
    "sessionInfo()"
   ]
  },
  {
   "cell_type": "markdown",
   "metadata": {},
   "source": [
    "Load edgelist into R and preprocess."
   ]
  },
  {
   "cell_type": "code",
   "execution_count": 127,
   "metadata": {
    "scrolled": false
   },
   "outputs": [
    {
     "name": "stderr",
     "output_type": "stream",
     "text": [
      "Parsed with column specification:\n",
      "cols(\n",
      "  Subreddit1 = col_character(),\n",
      "  Subreddit2 = col_character(),\n",
      "  Weight = col_double()\n",
      ")\n"
     ]
    },
    {
     "name": "stdout",
     "output_type": "stream",
     "text": [
      "# A tibble: 6 x 3\n",
      "  Subreddit1 Subreddit2    Weight\n",
      "  <chr>      <chr>          <dbl>\n",
      "1 2007scape  3dshacks           2\n",
      "2 2007scape  3dshacks           2\n",
      "3 2007scape  AdviceAnimals      8\n",
      "4 2007scape  altright           1\n",
      "5 2007scape  Amd                1\n",
      "6 2007scape  Android            3\n"
     ]
    }
   ],
   "source": [
    "#file_name <- \"subreddit_edges.csv\"\n",
    "file_name <- \"edge_list.csv\"\n",
    "\n",
    "#df <- read_csv(file_name) %>% arrange(Source, Target)\n",
    "df <- read_csv(file_name) %>% arrange(Subreddit1, Subreddit2)\n",
    "print(head(df))"
   ]
  },
  {
   "cell_type": "code",
   "execution_count": 128,
   "metadata": {},
   "outputs": [
    {
     "name": "stdout",
     "output_type": "stream",
     "text": [
      "# A tibble: 6 x 4\n",
      "  Subreddit1 Subreddit2     Weight connectDefault\n",
      "  <chr>      <chr>           <dbl> <lgl>         \n",
      "1 WTF        videos            114 TRUE          \n",
      "2 WTF        Warframe            1 TRUE          \n",
      "3 WTF        wholesomememes     12 TRUE          \n",
      "4 WTF        worldnews         120 TRUE          \n",
      "5 WTF        wow                 7 TRUE          \n",
      "6 WTF        xboxone            10 TRUE          \n"
     ]
    }
   ],
   "source": [
    "#defaults <- c(\"announcements\",\"art\",\"askreddit\",\"askscience\",\"aww\",\"blog\",\n",
    " #            \"books\",\"creepy\",\"dataisbeautiful\",\"diy\",\"documentaries\",\"earthporn\",\n",
    "  #           \"explainlikeimfive\",\"fitness\",\"food\",\"funny\",\"futurology\",\"gadgets\",\n",
    "   #          \"gaming\",\"getmotivated\",\"gifs\",\"history\",\"iama\",\"internetisbeautiful\",\n",
    "    #         \"jokes\",\"lifeprotips\",\"listentothis\",\"mildlyinteresting\",\"movies\",\"music\",\n",
    "     #        \"news\",\"nosleep\",\"nottheonion\",\"oldschoolcool\",\"personalfinance\",\n",
    "      #       \"philosophy\",\"photoshopbattles\",\"pics\",\"science\",\"showerthoughts\",\n",
    "       #      \"space\",\"sports\",\"television\",\"tifu\",\"todayilearned\",\"twoxchromosomes\",\"upliftingnews\",\n",
    "        #     \"videos\",\"worldnews\",\"writingprompts\")\n",
    "\n",
    "defaults <- c('AskReddit', 'news', 'funny', 'AdviceAnimals', 'Showerthoughts',\n",
    "              'The_Donald', 'CFB', 'gaming', 'pics', 'gifs', 'Overwatch', 'WTF',\n",
    "              'Futurology', 'politics', 'aww', 'BlackPeopleTwitter', 'movies',\n",
    "              'Jokes', 'CringeAnarchy', 'Games', 'LifeProTips', 'AskMen',\n",
    "              'OldSchoolCool', 'Documentaries', 'EnoughTrumpSpam', 'nfl', 'IAmA',\n",
    "              'Android', 'nba', 'MMA')\n",
    "\n",
    "#df <- df %>% mutate(connectDefault = ifelse(Source %in% defaults | Target %in% defaults, T, F))\n",
    "df <- df %>% mutate(connectDefault = ifelse(Subreddit1 %in% defaults | Subreddit2 %in% defaults, T, F))\n",
    "print(tail(df))"
   ]
  },
  {
   "cell_type": "code",
   "execution_count": 129,
   "metadata": {
    "scrolled": true
   },
   "outputs": [
    {
     "name": "stdout",
     "output_type": "stream",
     "text": [
      "IGRAPH b3c7c6b UN-- 179 15932 -- \n",
      "+ attr: name (v/c), Weight (e/n), connectDefault (e/l)\n",
      "+ edges from b3c7c6b (vertex names):\n",
      " [1] 2007scape--3dshacks           2007scape--3dshacks          \n",
      " [3] 2007scape--AdviceAnimals      2007scape--altright          \n",
      " [5] 2007scape--Amd                2007scape--Android           \n",
      " [7] 2007scape--anime              2007scape--apple             \n",
      " [9] 2007scape--askgaybros         2007scape--AskMen            \n",
      "[11] 2007scape--AskReddit          2007scape--AskWomen          \n",
      "[13] 2007scape--atheism            2007scape--australia         \n",
      "[15] 2007scape--aww                2007scape--baseball          \n",
      "+ ... omitted several edges\n"
     ]
    }
   ],
   "source": [
    "net <- graph.data.frame(df, directed=F)\n",
    "\n",
    "print(net)"
   ]
  },
  {
   "cell_type": "markdown",
   "metadata": {},
   "source": [
    "Calculate degree, and remove nodes with only 1 or 2 neighbors for graphing simplicity."
   ]
  },
  {
   "cell_type": "code",
   "execution_count": 130,
   "metadata": {
    "scrolled": false
   },
   "outputs": [
    {
     "name": "stdout",
     "output_type": "stream",
     "text": [
      "IGRAPH b3d3811 UN-- 179 15932 -- \n",
      "+ attr: name (v/c), degree (v/n), Weight (e/n), connectDefault (e/l)\n",
      "+ edges from b3d3811 (vertex names):\n",
      " [1] 2007scape--3dshacks           2007scape--3dshacks          \n",
      " [3] 2007scape--AdviceAnimals      2007scape--altright          \n",
      " [5] 2007scape--Amd                2007scape--Android           \n",
      " [7] 2007scape--anime              2007scape--apple             \n",
      " [9] 2007scape--askgaybros         2007scape--AskMen            \n",
      "[11] 2007scape--AskReddit          2007scape--AskWomen          \n",
      "[13] 2007scape--atheism            2007scape--australia         \n",
      "[15] 2007scape--aww                2007scape--baseball          \n",
      "+ ... omitted several edges\n"
     ]
    }
   ],
   "source": [
    "V(net)$degree <- centralization.degree(net)$res\n",
    "net <- igraph::delete.vertices(net, V(net)[degree < 3])\n",
    "\n",
    "print(net)"
   ]
  },
  {
   "cell_type": "markdown",
   "metadata": {},
   "source": [
    "Add more summary statistics to the nodes."
   ]
  },
  {
   "cell_type": "code",
   "execution_count": 131,
   "metadata": {},
   "outputs": [
    {
     "name": "stdout",
     "output_type": "stream",
     "text": [
      "    V.net..name V.net..degree V.net..centrality V.net..group V.net..defaultnode\n",
      "1     2007scape           179       0.021295025            1              FALSE\n",
      "2      3dshacks           179       0.009311412            1              FALSE\n",
      "3 AdviceAnimals           178       0.204497017            3               TRUE\n",
      "4      altright           178       0.016662546            1              FALSE\n",
      "5           Amd           178       0.021443775            1              FALSE\n",
      "6       Android           178       0.045051723            1               TRUE\n"
     ]
    }
   ],
   "source": [
    "V(net)$group <- membership(cluster_walktrap(net, weights=E(net)$Weight))\n",
    "V(net)$centrality <- eigen_centrality(net, weights=E(net)$Weight)$vector\n",
    "V(net)$defaultnode <- V(net)$name %in% defaults\n",
    "\n",
    "print(head(data.frame(V(net)$name, V(net)$degree, V(net)$centrality, V(net)$group, V(net)$defaultnode)))"
   ]
  },
  {
   "cell_type": "markdown",
   "metadata": {},
   "source": [
    "## Adding colors\n",
    "\n",
    "Long string of code to generate color palette and assign to nodes and edges. Generate a color for a group from solid ColorBrewer colors."
   ]
  },
  {
   "cell_type": "code",
   "execution_count": 132,
   "metadata": {},
   "outputs": [
    {
     "name": "stdout",
     "output_type": "stream",
     "text": [
      "  group  colors\n",
      "1     1 #54278F\n",
      "2     2 #54278F\n",
      "3     3 #EF3B2C\n"
     ]
    }
   ],
   "source": [
    "color_pool <- c(brewer.pal(9, \"Blues\")[6:9],\n",
    "                brewer.pal(9, \"Reds\")[6:9],\n",
    "                brewer.pal(9, \"Greens\")[6:9],\n",
    "                brewer.pal(9, \"Purples\")[6:9])\n",
    "\n",
    "n_colors <- max(V(net)$group)\n",
    "set.seed(42)\n",
    "palette <- data.frame(group=1:n_colors, colors=sample(color_pool, n_colors, replace=T), stringsAsFactors=FALSE)\n",
    "\n",
    "V(net)$colornode <- palette[V(net)$group, 2]\n",
    "                   \n",
    "print(head(palette))"
   ]
  },
  {
   "cell_type": "markdown",
   "metadata": {},
   "source": [
    "Prepare data frame for merging. (to find edges with are in the same group)"
   ]
  },
  {
   "cell_type": "code",
   "execution_count": 133,
   "metadata": {
    "scrolled": true
   },
   "outputs": [
    {
     "name": "stdout",
     "output_type": "stream",
     "text": [
      "# A tibble: 6 x 2\n",
      "  X1        X2           \n",
      "  <chr>     <chr>        \n",
      "1 2007scape 3dshacks     \n",
      "2 2007scape 3dshacks     \n",
      "3 2007scape AdviceAnimals\n",
      "4 2007scape altright     \n",
      "5 2007scape Amd          \n",
      "6 2007scape Android      \n",
      "# A tibble: 6 x 3\n",
      "  name          color   group\n",
      "  <chr>         <chr>   <dbl>\n",
      "1 2007scape     #54278F     1\n",
      "2 3dshacks      #54278F     1\n",
      "3 AdviceAnimals #EF3B2C     3\n",
      "4 altright      #54278F     1\n",
      "5 Amd           #54278F     1\n",
      "6 Android       #54278F     1\n"
     ]
    }
   ],
   "source": [
    "# http://stackoverflow.com/questions/21243965/igraph-get-edge-from-to-value\n",
    "\n",
    "df_edges <- tbl_df(data.frame(get.edgelist(net), stringsAsFactors=FALSE))\n",
    "df_vertices <- tbl_df(data.frame(name=V(net)$name, color=V(net)$colornode, group=V(net)$group, stringsAsFactors=FALSE))\n",
    "\n",
    "print(head(df_edges))\n",
    "print(head(df_vertices))"
   ]
  },
  {
   "cell_type": "code",
   "execution_count": 134,
   "metadata": {},
   "outputs": [
    {
     "name": "stdout",
     "output_type": "stream",
     "text": [
      "# A tibble: 6 x 6\n",
      "  X1        X2            color.x group.x color.y group.y\n",
      "  <chr>     <chr>         <chr>     <dbl> <chr>     <dbl>\n",
      "1 2007scape 3dshacks      #54278F       1 #54278F       1\n",
      "2 2007scape 3dshacks      #54278F       1 #54278F       1\n",
      "3 2007scape AdviceAnimals #54278F       1 #EF3B2C       3\n",
      "4 2007scape altright      #54278F       1 #54278F       1\n",
      "5 2007scape Amd           #54278F       1 #54278F       1\n",
      "6 2007scape Android       #54278F       1 #54278F       1\n"
     ]
    }
   ],
   "source": [
    "default_edge_color <- \"#cccccc\"\n",
    "\n",
    "df_edges <- df_edges %>% left_join(df_vertices, by=c(\"X1\"=\"name\")) %>% left_join(df_vertices, by=c(\"X2\"=\"name\"))\n",
    "E(net)$coloredge <- ifelse(df_edges$group.x==df_edges$group.y, df_edges$color.x, default_edge_color)\n",
    "\n",
    "print(head(df_edges))"
   ]
  },
  {
   "cell_type": "markdown",
   "metadata": {},
   "source": [
    "Build the network layout. 50,000 iterations is enough for layout convergence."
   ]
  },
  {
   "cell_type": "code",
   "execution_count": 135,
   "metadata": {
    "scrolled": true
   },
   "outputs": [
    {
     "name": "stderr",
     "output_type": "stream",
     "text": [
      "Warning message in fortify.network(intergraph::asNetwork(model), ...):\n",
      "\"duplicated edges detected\""
     ]
    },
    {
     "name": "stdout",
     "output_type": "stream",
     "text": [
      "           x         y  centrality colornode defaultnode degree group  na.x\n",
      "1 0.78405006 0.1150304 0.021295025   #54278F       FALSE    179     1 FALSE\n",
      "2 0.70028721 0.1469940 0.009311412   #54278F       FALSE    179     1 FALSE\n",
      "3 0.06708793 0.6541143 0.204497017   #EF3B2C        TRUE    178     3 FALSE\n",
      "4 0.92880287 0.5925112 0.016662546   #54278F       FALSE    178     1 FALSE\n",
      "5 0.03727113 0.3062575 0.021443775   #54278F       FALSE    178     1 FALSE\n",
      "6 0.95941705 0.4805500 0.045051723   #54278F        TRUE    178     1 FALSE\n",
      "   vertex.names       xend      yend coloredge connectDefault na.y Weight\n",
      "1     2007scape 0.78405006 0.1150304      <NA>             NA   NA     NA\n",
      "2      3dshacks 0.70028721 0.1469940      <NA>             NA   NA     NA\n",
      "3 AdviceAnimals 0.06708793 0.6541143      <NA>             NA   NA     NA\n",
      "4      altright 0.92880287 0.5925112      <NA>             NA   NA     NA\n",
      "5           Amd 0.03727113 0.3062575      <NA>             NA   NA     NA\n",
      "6       Android 0.95941705 0.4805500      <NA>             NA   NA     NA\n"
     ]
    }
   ],
   "source": [
    "df_net <- ggnetwork(net, layout = \"fruchtermanreingold\", weights=\"Weight\", niter=50000)\n",
    "\n",
    "write.csv(df_net, \"df_net.csv\", row.names=F)\n",
    "print(head(df_net))"
   ]
  },
  {
   "cell_type": "code",
   "execution_count": 136,
   "metadata": {
    "scrolled": false
   },
   "outputs": [
    {
     "name": "stdout",
     "output_type": "stream",
     "text": [
      "            x          y centrality colornode defaultnode degree group  na.x\n",
      "3  0.06708793 0.65411435 0.20449702   #EF3B2C        TRUE    178     3 FALSE\n",
      "6  0.95941705 0.48054995 0.04505172   #54278F        TRUE    178     1 FALSE\n",
      "10 0.91850993 0.66565719 0.06849703   #54278F        TRUE    178     1 FALSE\n",
      "11 0.91938694 0.45594625 1.00000000   #EF3B2C        TRUE    178     3 FALSE\n",
      "15 0.28069475 0.02616208 0.17625287   #EF3B2C        TRUE    178     3 FALSE\n",
      "20 0.80686758 0.77302296 0.08565804   #54278F        TRUE    178     1 FALSE\n",
      "         vertex.names       xend       yend coloredge connectDefault na.y\n",
      "3       AdviceAnimals 0.06708793 0.65411435      <NA>             NA   NA\n",
      "6             Android 0.95941705 0.48054995      <NA>             NA   NA\n",
      "10             AskMen 0.91850993 0.66565719      <NA>             NA   NA\n",
      "11          AskReddit 0.91938694 0.45594625      <NA>             NA   NA\n",
      "15                aww 0.28069475 0.02616208      <NA>             NA   NA\n",
      "20 BlackPeopleTwitter 0.80686758 0.77302296      <NA>             NA   NA\n",
      "   Weight\n",
      "3      NA\n",
      "6      NA\n",
      "10     NA\n",
      "11     NA\n",
      "15     NA\n",
      "20     NA\n"
     ]
    }
   ],
   "source": [
    "df_net_defaults = df_net[which(df_net$default),]\n",
    "print(head(df_net_defaults))"
   ]
  },
  {
   "cell_type": "markdown",
   "metadata": {},
   "source": [
    "We will color the nodes whether or not they are a default subreddit (orange if default, blue otherwise) and color the lines accordingly (orange if either end is a default subreddit, blue otherwise)."
   ]
  },
  {
   "cell_type": "code",
   "execution_count": 137,
   "metadata": {},
   "outputs": [
    {
     "name": "stderr",
     "output_type": "stream",
     "text": [
      "Warning message:\n",
      "\"Ignoring unknown parameters: segment.color\""
     ]
    },
    {
     "data": {},
     "metadata": {},
     "output_type": "display_data"
    },
    {
     "data": {
      "text/html": [
       "<strong>png:</strong> 2"
      ],
      "text/latex": [
       "\\textbf{png:} 2"
      ],
      "text/markdown": [
       "**png:** 2"
      ],
      "text/plain": [
       "png \n",
       "  2 "
      ]
     },
     "metadata": {},
     "output_type": "display_data"
    }
   ],
   "source": [
    "default_colors=c(\"#3498db\", \"#e67e22\")\n",
    "default_labels=c(\"Not Default\", \"Default\")\n",
    "\n",
    "svglite(\"subreddit-1.svg\", width=10, height=8)  \n",
    "  ggplot(df_net, aes(x = x, y = y, xend = xend, yend = yend, size = centrality)) +\n",
    "    geom_edges(aes(color = connectDefault), size=0.05) +\n",
    "    geom_nodes(aes(fill = defaultnode), shape = 21, stroke=0.2, color=\"black\") +\n",
    "    geom_nodelabel_repel(data=df_net, aes(color = defaultnode, label = vertex.names),\n",
    "                          fontface = \"bold\", size=0.5, box.padding = unit(0.05, \"lines\"),\n",
    "                          label.padding= unit(0.1, \"lines\"), segment.size=0.1, label.size=0.2) +\n",
    "    scale_color_manual(values=default_colors, labels=default_labels, guide=F) +\n",
    "    scale_fill_manual(values=default_colors, labels=default_labels) +\n",
    "    ggtitle(\"Network Graph of Reddit Subreddits\") +\n",
    "    scale_size(range=c(0.1, 4)) + \n",
    "    theme_blank()\n",
    "dev.off()\n",
    "\n",
    "rsvg_pdf(\"subreddit-1.svg\", \"subreddit-1.pdf\")"
   ]
  },
  {
   "cell_type": "markdown",
   "metadata": {},
   "source": [
    "Color by group: if an edge links to a node of the same group, the edge is colored that group. Otherwise, the edge is colored gray. "
   ]
  },
  {
   "cell_type": "code",
   "execution_count": 138,
   "metadata": {},
   "outputs": [
    {
     "name": "stderr",
     "output_type": "stream",
     "text": [
      "Warning message:\n",
      "\"Ignoring unknown parameters: segment.color\""
     ]
    },
    {
     "data": {},
     "metadata": {},
     "output_type": "display_data"
    },
    {
     "data": {
      "text/html": [
       "<strong>png:</strong> 2"
      ],
      "text/latex": [
       "\\textbf{png:} 2"
      ],
      "text/markdown": [
       "**png:** 2"
      ],
      "text/plain": [
       "png \n",
       "  2 "
      ]
     },
     "metadata": {},
     "output_type": "display_data"
    }
   ],
   "source": [
    "svglite(\"subreddit-2.svg\", width=10, height=8)  \n",
    "  ggplot(df_net, aes(x = x, y = y, xend = xend, yend = yend, size = centrality)) +\n",
    "  geom_edges(aes(color = coloredge), size=0.05) +\n",
    "  geom_nodes(aes(fill = colornode), shape = 21, stroke=0.2, color=\"black\") +\n",
    "     geom_nodelabel_repel(data=df_net, aes(color = colornode, label = vertex.names),\n",
    "                       fontface = \"bold\", size=0.5,\n",
    "                    box.padding = unit(0.05, \"lines\"), label.padding= unit(0.1, \"lines\"), segment.size=0.1, label.size=0.2) +\n",
    "    scale_color_identity(\"colornode\", guide=F) +\n",
    "    scale_fill_identity(\"colornode\", guide=F) +\n",
    "    scale_size(range=c(0.2, 3), guide=F) +\n",
    "    ggtitle(\"Network Graph of Reddit Subreddits\") +\n",
    "  theme_blank()\n",
    "dev.off()\n",
    "\n",
    "rsvg_pdf(\"subreddit-2.svg\", \"subreddit-2.pdf\")"
   ]
  },
  {
   "cell_type": "markdown",
   "metadata": {},
   "source": [
    "For the subgroups, use a function that prints a visualization of the subgraph for *each* group. Since the groups are in random order, sort out the important ones later.\n",
    "\n",
    "NB: Since output is a PNG with fixed dimensions and not a SVG, the style parameters of graph aestetics must be changed."
   ]
  },
  {
   "cell_type": "code",
   "execution_count": 139,
   "metadata": {},
   "outputs": [],
   "source": [
    "subreddit_graph_subset <- function(group_number) {\n",
    "\n",
    "df_network <- df_net[which(df_net$group==group_number),]\n",
    "\n",
    "plot <- \n",
    "  ggplot(df_network, aes(x = x, y = y, xend = xend, yend = yend, size = centrality)) +\n",
    "  geom_edges(data=df_network[which(df_network$coloredge!=default_edge_color),], aes(color = coloredge), size=0.05) +\n",
    "  geom_nodes(aes(fill = colornode), shape = 21, stroke=0.5, color=\"black\") +\n",
    "    geom_nodelabel_repel(data=df_network, aes(color = colornode, label = vertex.names),\n",
    "                       fontface = \"bold\", family=\"Open Sans Condensed\", size=1.5,\n",
    "                    box.padding = unit(0.10, \"lines\"), label.padding= unit(0.1, \"lines\"), segment.size=0.1, label.size=0.5, label.r=unit(0.15, \"lines\")) +\n",
    "    scale_color_identity(\"colornode\", guide=F) +\n",
    "    scale_fill_identity(\"colornode\", guide=F) +\n",
    "    scale_size(range=c(0.2, 6), guide=F) +\n",
    "    ggtitle(sprintf(\"Network Subgraph of Group %s Subreddits\",group_number)) +\n",
    "  theme_blank(base_size=7, base_family=\"Source Sans Pro\")\n",
    "    \n",
    "ggsave(sprintf(\"subreddit-groups/group-%03d.png\", group_number), plot, width=4, height=3, dpi=300)\n",
    "\n",
    "}"
   ]
  },
  {
   "cell_type": "code",
   "execution_count": 140,
   "metadata": {},
   "outputs": [
    {
     "name": "stderr",
     "output_type": "stream",
     "text": [
      "Warning message:\n",
      "\"Ignoring unknown parameters: segment.color\"Warning message in grid.Call(C_textBounds, as.graphicsAnnot(x$label), x$x, x$y, :\n",
      "\"font family not found in Windows font database\"Warning message in grid.Call(C_textBounds, as.graphicsAnnot(x$label), x$x, x$y, :\n",
      "\"font family not found in Windows font database\"Warning message in grid.Call(C_textBounds, as.graphicsAnnot(x$label), x$x, x$y, :\n",
      "\"font family not found in Windows font database\"Warning message:\n",
      "\"Ignoring unknown parameters: segment.color\"Warning message in grid.Call(C_textBounds, as.graphicsAnnot(x$label), x$x, x$y, :\n",
      "\"font family not found in Windows font database\"Warning message in grid.Call(C_textBounds, as.graphicsAnnot(x$label), x$x, x$y, :\n",
      "\"font family not found in Windows font database\"Warning message in grid.Call(C_textBounds, as.graphicsAnnot(x$label), x$x, x$y, :\n",
      "\"font family not found in Windows font database\"Warning message:\n",
      "\"Ignoring unknown parameters: segment.color\"Warning message in grid.Call(C_textBounds, as.graphicsAnnot(x$label), x$x, x$y, :\n",
      "\"font family not found in Windows font database\"Warning message in grid.Call(C_textBounds, as.graphicsAnnot(x$label), x$x, x$y, :\n",
      "\"font family not found in Windows font database\"Warning message in grid.Call(C_textBounds, as.graphicsAnnot(x$label), x$x, x$y, :\n",
      "\"font family not found in Windows font database\""
     ]
    }
   ],
   "source": [
    "x <- lapply(1:max(V(net)$group), subreddit_graph_subset)"
   ]
  },
  {
   "cell_type": "markdown",
   "metadata": {
    "collapsed": true
   },
   "source": [
    "# The MIT License (MIT)\n",
    "\n",
    "Copyright (c) 2016 Max Woolf\n",
    "\n",
    "Permission is hereby granted, free of charge, to any person obtaining a copy of this software and associated documentation files (the \"Software\"), to deal in the Software without restriction, including without limitation the rights to use, copy, modify, merge, publish, distribute, sublicense, and/or sell copies of the Software, and to permit persons to whom the Software is furnished to do so, subject to the following conditions:\n",
    "\n",
    "The above copyright notice and this permission notice shall be included in all copies or substantial portions of the Software.\n",
    "\n",
    "THE SOFTWARE IS PROVIDED \"AS IS\", WITHOUT WARRANTY OF ANY KIND, EXPRESS OR IMPLIED, INCLUDING BUT NOT LIMITED TO THE WARRANTIES OF MERCHANTABILITY, FITNESS FOR A PARTICULAR PURPOSE AND NONINFRINGEMENT. IN NO EVENT SHALL THE AUTHORS OR COPYRIGHT HOLDERS BE LIABLE FOR ANY CLAIM, DAMAGES OR OTHER LIABILITY, WHETHER IN AN ACTION OF CONTRACT, TORT OR OTHERWISE, ARISING FROM, OUT OF OR IN CONNECTION WITH THE SOFTWARE OR THE USE OR OTHER DEALINGS IN THE SOFTWARE."
   ]
  },
  {
   "cell_type": "code",
   "execution_count": null,
   "metadata": {},
   "outputs": [],
   "source": []
  },
  {
   "cell_type": "code",
   "execution_count": null,
   "metadata": {},
   "outputs": [],
   "source": []
  }
 ],
 "metadata": {
  "kernelspec": {
   "display_name": "R",
   "language": "R",
   "name": "ir"
  },
  "language_info": {
   "codemirror_mode": "r",
   "file_extension": ".r",
   "mimetype": "text/x-r-source",
   "name": "R",
   "pygments_lexer": "r",
   "version": "3.5.1"
  }
 },
 "nbformat": 4,
 "nbformat_minor": 1
}
